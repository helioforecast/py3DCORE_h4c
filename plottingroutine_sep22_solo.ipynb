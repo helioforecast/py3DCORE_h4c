{
 "cells": [
  {
   "cell_type": "markdown",
   "id": "27d4ba27",
   "metadata": {},
   "source": [
    "# Plotting routine for the Sep22 Event - SolO"
   ]
  },
  {
   "cell_type": "code",
   "execution_count": 1,
   "id": "a9d3771d",
   "metadata": {},
   "outputs": [],
   "source": [
    "test = 'test'"
   ]
  },
  {
   "cell_type": "code",
   "execution_count": 24,
   "id": "6fbb26aa",
   "metadata": {},
   "outputs": [
    {
     "name": "stdout",
     "output_type": "stream",
     "text": [
      "The autoreload extension is already loaded. To reload it, use:\n",
      "  %reload_ext autoreload\n"
     ]
    }
   ],
   "source": [
    "%load_ext autoreload\n",
    "\n",
    "%autoreload 2\n",
    "\n",
    "import numpy as np\n",
    "import matplotlib.pyplot as plt\n",
    "import pickle as p\n",
    "\n",
    "import datetime as datetime\n",
    "from datetime import timedelta\n",
    "import seaborn as sns\n",
    "import pandas as pd\n",
    "import os\n",
    "#import copy as cp\n",
    "\n",
    "import multiprocessing\n",
    "import py3dcore_h4c as py3dcore_h4c\n",
    "\n",
    "import py3dcore_h4c.fluxplot as fp\n",
    "\n",
    "plt.switch_backend('agg')\n",
    "\n",
    "\n",
    "import warnings\n",
    "warnings.filterwarnings('ignore')\n",
    "\n",
    "import logging\n",
    "\n",
    "logging.basicConfig(level=logging.INFO)\n",
    "logging.getLogger(\"heliosat.spice\").setLevel(\"WARNING\")\n",
    "logging.getLogger(\"heliosat.spacecraft\").setLevel(\"WARNING\")\n",
    "#logging.getLogger(\"sunpy\").setLevel(\"WARNING\")\n",
    "#logging.getLogger(\"py3dcore_h4c.fluxplot\").setLevel(\"WARNING\")\n",
    "\n",
    "#print(sns.__version__)"
   ]
  },
  {
   "cell_type": "markdown",
   "id": "64c15a80",
   "metadata": {},
   "source": [
    "#### setting the times for py3DCORE_h4c"
   ]
  },
  {
   "cell_type": "code",
   "execution_count": 34,
   "id": "5ba8001b",
   "metadata": {},
   "outputs": [],
   "source": [
    "t_launch = datetime.datetime(2022, 9, 5, 16, tzinfo=datetime.timezone.utc) \n",
    "\n",
    "t_s = datetime.datetime(2022, 9, 7, 8, tzinfo=datetime.timezone.utc) \n",
    "t_e = datetime.datetime(2022, 9, 8, 3, tzinfo=datetime.timezone.utc)\n",
    "\n",
    "start = t_s + datetime.timedelta(hours=1)\n",
    "\n",
    "t_fit = [\n",
    "        datetime.datetime(2022, 9, 7, 9, tzinfo=datetime.timezone.utc),\n",
    "        datetime.datetime(2022, 9, 7, 15, tzinfo=datetime.timezone.utc),\n",
    "        datetime.datetime(2022, 9, 7, 20, tzinfo=datetime.timezone.utc),\n",
    "        datetime.datetime(2022, 9, 8, 2, tzinfo=datetime.timezone.utc)\n",
    "     ]\n",
    "\n",
    "#t_fit = fp.equal_t_creator(start = start, n = 4, delta = 6)\n",
    "\n",
    "#####2022 Sep 5: 3 solar radii at 17 UT (COR2 & LASCO FoV appearance)\n",
    "# 2022 Sep 5: 15 solar radii at 18:45 UT (PSP)"
   ]
  },
  {
   "cell_type": "markdown",
   "id": "efb0937c",
   "metadata": {},
   "source": [
    "#### loading the pickle files"
   ]
  },
  {
   "cell_type": "code",
   "execution_count": 35,
   "id": "12e294f6",
   "metadata": {},
   "outputs": [
    {
     "data": {
      "text/plain": [
       "[datetime.datetime(2022, 9, 7, 9, 0, tzinfo=datetime.timezone.utc),\n",
       " datetime.datetime(2022, 9, 7, 15, 0, tzinfo=datetime.timezone.utc),\n",
       " datetime.datetime(2022, 9, 7, 20, 0, tzinfo=datetime.timezone.utc),\n",
       " datetime.datetime(2022, 9, 8, 2, 0, tzinfo=datetime.timezone.utc)]"
      ]
     },
     "execution_count": 35,
     "metadata": {},
     "output_type": "execute_result"
    }
   ],
   "source": [
    "t_fit"
   ]
  },
  {
   "cell_type": "code",
   "execution_count": 36,
   "id": "85a0e989",
   "metadata": {},
   "outputs": [],
   "source": [
    "path = 'output/sep2022_multi_1024_1/'\n",
    "\n",
    "filepath = fp.loadpickle(path, number = -1)"
   ]
  },
  {
   "cell_type": "code",
   "execution_count": 37,
   "id": "1588d6d7",
   "metadata": {},
   "outputs": [
    {
     "data": {
      "text/plain": [
       "'output/sep2022_multi_1024_1/09'"
      ]
     },
     "execution_count": 37,
     "metadata": {},
     "output_type": "execute_result"
    }
   ],
   "source": [
    "filepath[:-7]"
   ]
  },
  {
   "cell_type": "markdown",
   "id": "f053f57c",
   "metadata": {},
   "source": [
    "#### extracting parameters"
   ]
  },
  {
   "cell_type": "code",
   "execution_count": 38,
   "id": "f36aa873",
   "metadata": {},
   "outputs": [
    {
     "name": "stderr",
     "output_type": "stream",
     "text": [
      "INFO:py3dcore_h4c.fluxplot:Retrieved the following parameters for the run with minimum epsilon:\n",
      "INFO:py3dcore_h4c.fluxplot: --lon:  106.67\n",
      "INFO:py3dcore_h4c.fluxplot: --lat:  5.57\n",
      "INFO:py3dcore_h4c.fluxplot: --inc:  152.86\n",
      "INFO:py3dcore_h4c.fluxplot: --diameter 1 AU:  0.32\n",
      "INFO:py3dcore_h4c.fluxplot: --aspect ratio:  2.79\n",
      "INFO:py3dcore_h4c.fluxplot: --launch radius:  10.86\n",
      "INFO:py3dcore_h4c.fluxplot: --launch speed:  1255.12\n",
      "INFO:py3dcore_h4c.fluxplot: --t factor:  -203.28\n",
      "INFO:py3dcore_h4c.fluxplot: --expansion rate:  1.14\n",
      "INFO:py3dcore_h4c.fluxplot: --magnetic field decay rate:  1.64\n",
      "INFO:py3dcore_h4c.fluxplot: --magnetic field 1 AU:  6.36\n",
      "INFO:py3dcore_h4c.fluxplot: --drag coefficient:  2.30\n",
      "INFO:py3dcore_h4c.fluxplot: --sw background speed:  827.65\n"
     ]
    }
   ],
   "source": [
    "res, allres, ind, meanparams = fp.get_params(filepath, give_mineps=True)"
   ]
  },
  {
   "cell_type": "code",
   "execution_count": 39,
   "id": "5d2bf1eb",
   "metadata": {},
   "outputs": [],
   "source": [
    "out = fp.get_ensemble_stats(filepath)"
   ]
  },
  {
   "cell_type": "code",
   "execution_count": 40,
   "id": "f00dd731",
   "metadata": {},
   "outputs": [
    {
     "data": {
      "text/html": [
       "<div>\n",
       "<style scoped>\n",
       "    .dataframe tbody tr th:only-of-type {\n",
       "        vertical-align: middle;\n",
       "    }\n",
       "\n",
       "    .dataframe tbody tr th {\n",
       "        vertical-align: top;\n",
       "    }\n",
       "\n",
       "    .dataframe thead th {\n",
       "        text-align: right;\n",
       "    }\n",
       "</style>\n",
       "<table border=\"1\" class=\"dataframe\">\n",
       "  <thead>\n",
       "    <tr style=\"text-align: right;\">\n",
       "      <th></th>\n",
       "      <th>lon</th>\n",
       "      <th>lat</th>\n",
       "      <th>inc</th>\n",
       "      <th>D1AU</th>\n",
       "      <th>delta</th>\n",
       "      <th>launch radius</th>\n",
       "      <th>launch speed</th>\n",
       "      <th>t factor</th>\n",
       "      <th>B1AU</th>\n",
       "      <th>gamma</th>\n",
       "      <th>vsw</th>\n",
       "    </tr>\n",
       "  </thead>\n",
       "  <tbody>\n",
       "    <tr>\n",
       "      <th>count</th>\n",
       "      <td>1024.000000</td>\n",
       "      <td>1024.000000</td>\n",
       "      <td>1024.000000</td>\n",
       "      <td>1024.000000</td>\n",
       "      <td>1024.000000</td>\n",
       "      <td>1024.000000</td>\n",
       "      <td>1024.000000</td>\n",
       "      <td>1024.000000</td>\n",
       "      <td>1024.000000</td>\n",
       "      <td>1024.000000</td>\n",
       "      <td>1024.000000</td>\n",
       "    </tr>\n",
       "    <tr>\n",
       "      <th>mean</th>\n",
       "      <td>113.557770</td>\n",
       "      <td>-2.646431</td>\n",
       "      <td>150.485138</td>\n",
       "      <td>0.384569</td>\n",
       "      <td>2.195113</td>\n",
       "      <td>10.647016</td>\n",
       "      <td>1249.483521</td>\n",
       "      <td>-153.520813</td>\n",
       "      <td>6.669956</td>\n",
       "      <td>2.200306</td>\n",
       "      <td>770.216431</td>\n",
       "    </tr>\n",
       "    <tr>\n",
       "      <th>std</th>\n",
       "      <td>9.203607</td>\n",
       "      <td>12.516832</td>\n",
       "      <td>6.902096</td>\n",
       "      <td>0.061033</td>\n",
       "      <td>0.783110</td>\n",
       "      <td>2.982099</td>\n",
       "      <td>461.432922</td>\n",
       "      <td>46.352371</td>\n",
       "      <td>1.462880</td>\n",
       "      <td>0.976062</td>\n",
       "      <td>91.375633</td>\n",
       "    </tr>\n",
       "    <tr>\n",
       "      <th>min</th>\n",
       "      <td>100.031700</td>\n",
       "      <td>-46.717182</td>\n",
       "      <td>131.499619</td>\n",
       "      <td>0.260427</td>\n",
       "      <td>1.024022</td>\n",
       "      <td>5.023982</td>\n",
       "      <td>110.029747</td>\n",
       "      <td>-249.529968</td>\n",
       "      <td>5.001231</td>\n",
       "      <td>0.226862</td>\n",
       "      <td>349.859039</td>\n",
       "    </tr>\n",
       "    <tr>\n",
       "      <th>25%</th>\n",
       "      <td>107.117565</td>\n",
       "      <td>-10.922167</td>\n",
       "      <td>145.735332</td>\n",
       "      <td>0.338270</td>\n",
       "      <td>1.603934</td>\n",
       "      <td>8.286165</td>\n",
       "      <td>915.708191</td>\n",
       "      <td>-188.133610</td>\n",
       "      <td>5.772170</td>\n",
       "      <td>1.419516</td>\n",
       "      <td>712.305939</td>\n",
       "    </tr>\n",
       "    <tr>\n",
       "      <th>50%</th>\n",
       "      <td>111.582745</td>\n",
       "      <td>-2.409573</td>\n",
       "      <td>150.363907</td>\n",
       "      <td>0.376400</td>\n",
       "      <td>2.085014</td>\n",
       "      <td>10.717527</td>\n",
       "      <td>1293.343506</td>\n",
       "      <td>-150.781578</td>\n",
       "      <td>6.318913</td>\n",
       "      <td>2.179812</td>\n",
       "      <td>782.582916</td>\n",
       "    </tr>\n",
       "    <tr>\n",
       "      <th>75%</th>\n",
       "      <td>117.629787</td>\n",
       "      <td>6.246737</td>\n",
       "      <td>155.086643</td>\n",
       "      <td>0.420759</td>\n",
       "      <td>2.639573</td>\n",
       "      <td>13.000359</td>\n",
       "      <td>1602.759613</td>\n",
       "      <td>-118.543543</td>\n",
       "      <td>7.080113</td>\n",
       "      <td>2.978473</td>\n",
       "      <td>844.383026</td>\n",
       "    </tr>\n",
       "    <tr>\n",
       "      <th>max</th>\n",
       "      <td>153.211349</td>\n",
       "      <td>32.623985</td>\n",
       "      <td>178.763535</td>\n",
       "      <td>0.601351</td>\n",
       "      <td>5.741709</td>\n",
       "      <td>15.995295</td>\n",
       "      <td>1998.827515</td>\n",
       "      <td>-36.513771</td>\n",
       "      <td>17.082586</td>\n",
       "      <td>3.995082</td>\n",
       "      <td>899.942871</td>\n",
       "    </tr>\n",
       "  </tbody>\n",
       "</table>\n",
       "</div>"
      ],
      "text/plain": [
       "               lon          lat          inc         D1AU        delta  \\\n",
       "count  1024.000000  1024.000000  1024.000000  1024.000000  1024.000000   \n",
       "mean    113.557770    -2.646431   150.485138     0.384569     2.195113   \n",
       "std       9.203607    12.516832     6.902096     0.061033     0.783110   \n",
       "min     100.031700   -46.717182   131.499619     0.260427     1.024022   \n",
       "25%     107.117565   -10.922167   145.735332     0.338270     1.603934   \n",
       "50%     111.582745    -2.409573   150.363907     0.376400     2.085014   \n",
       "75%     117.629787     6.246737   155.086643     0.420759     2.639573   \n",
       "max     153.211349    32.623985   178.763535     0.601351     5.741709   \n",
       "\n",
       "       launch radius  launch speed     t factor         B1AU        gamma  \\\n",
       "count    1024.000000   1024.000000  1024.000000  1024.000000  1024.000000   \n",
       "mean       10.647016   1249.483521  -153.520813     6.669956     2.200306   \n",
       "std         2.982099    461.432922    46.352371     1.462880     0.976062   \n",
       "min         5.023982    110.029747  -249.529968     5.001231     0.226862   \n",
       "25%         8.286165    915.708191  -188.133610     5.772170     1.419516   \n",
       "50%        10.717527   1293.343506  -150.781578     6.318913     2.179812   \n",
       "75%        13.000359   1602.759613  -118.543543     7.080113     2.978473   \n",
       "max        15.995295   1998.827515   -36.513771    17.082586     3.995082   \n",
       "\n",
       "               vsw  \n",
       "count  1024.000000  \n",
       "mean    770.216431  \n",
       "std      91.375633  \n",
       "min     349.859039  \n",
       "25%     712.305939  \n",
       "50%     782.582916  \n",
       "75%     844.383026  \n",
       "max     899.942871  "
      ]
     },
     "execution_count": 40,
     "metadata": {},
     "output_type": "execute_result"
    }
   ],
   "source": [
    "out.describe()"
   ]
  },
  {
   "cell_type": "markdown",
   "id": "c0b1aa9e",
   "metadata": {},
   "source": [
    "#### loading and plotting the fitting results"
   ]
  },
  {
   "cell_type": "code",
   "execution_count": 41,
   "id": "9b39636c",
   "metadata": {},
   "outputs": [
    {
     "name": "stderr",
     "output_type": "stream",
     "text": [
      "INFO:py3dcore_h4c.fluxplot:No iparams_arr given, using parameters for run with minimum eps.\n",
      "INFO:py3dcore_h4c.fitter.base:Using custom datafile: solo_2022sep.p\n"
     ]
    }
   ],
   "source": [
    "fp.fullinsitu(observer='solo', t_fit=t_fit, start=t_s, end=t_e, filepath=filepath, \n",
    "              custom_data='solo_2022sep.p', best=True, ensemble=True, mean=False, save_fig=True, legend=True, fixed=None)"
   ]
  },
  {
   "cell_type": "code",
   "execution_count": 42,
   "id": "97876b9c",
   "metadata": {},
   "outputs": [],
   "source": [
    "fp.scatterparams(filepath)"
   ]
  },
  {
   "cell_type": "code",
   "execution_count": 12,
   "id": "96287bb4",
   "metadata": {},
   "outputs": [
    {
     "name": "stdout",
     "output_type": "stream",
     "text": [
      "172.78905\n",
      "4.882709\n",
      "0.53428584\n",
      "266.25516\n"
     ]
    }
   ],
   "source": [
    "print(out['lon'].mean())\n",
    "print(out['lon'].std())\n",
    "print(out['launch radius'].std())\n",
    "print(out['launch speed'].std())"
   ]
  },
  {
   "cell_type": "markdown",
   "id": "3a577de1",
   "metadata": {},
   "source": [
    "#### Plotting the fluxrope and spacecraft positions"
   ]
  },
  {
   "cell_type": "code",
   "execution_count": 43,
   "id": "d3d73e0f",
   "metadata": {},
   "outputs": [
    {
     "name": "stderr",
     "output_type": "stream",
     "text": [
      "INFO:sunpy:Obtained JPL HORIZONS location for Solar Orbiter (spacecraft) (-144\n"
     ]
    },
    {
     "name": "stdout",
     "output_type": "stream",
     "text": [
      "INFO: Obtained JPL HORIZONS location for Solar Orbiter (spacecraft) (-144 [sunpy.coordinates.ephemeris]\n"
     ]
    },
    {
     "name": "stderr",
     "output_type": "stream",
     "text": [
      "INFO:py3dcore_h4c.fluxplot:Indices of date: 3359\n",
      "INFO:py3dcore_h4c.fluxplot:Solar Orbiter - r: 0.685782, lon: 150.019487, lat: -3.708597, \n",
      "INFO:sunpy:Obtained JPL HORIZONS location for Solar Orbiter (spacecraft) (-144\n"
     ]
    },
    {
     "name": "stdout",
     "output_type": "stream",
     "text": [
      "INFO: Obtained JPL HORIZONS location for Solar Orbiter (spacecraft) (-144 [sunpy.coordinates.ephemeris]\n"
     ]
    },
    {
     "name": "stderr",
     "output_type": "stream",
     "text": [
      "INFO:py3dcore_h4c.fluxplot:Indices of date: 1919\n",
      "INFO:py3dcore_h4c.fluxplot:Solar Orbiter - r: 0.685782, lon: 150.019487, lat: -3.708597, \n",
      "INFO:sunpy:Obtained JPL HORIZONS location for Parker Solar Probe (spacecraft)\n"
     ]
    },
    {
     "name": "stdout",
     "output_type": "stream",
     "text": [
      "INFO: Obtained JPL HORIZONS location for Parker Solar Probe (spacecraft) [sunpy.coordinates.ephemeris]\n"
     ]
    },
    {
     "name": "stderr",
     "output_type": "stream",
     "text": [
      "INFO:py3dcore_h4c.fluxplot:Indices of date: 3359\n",
      "INFO:py3dcore_h4c.fluxplot:Parker Solar Probe - r: 0.090229, lon: -126.891289, lat: -2.366818, \n",
      "INFO:sunpy:Obtained JPL HORIZONS location for Parker Solar Probe (spacecraft)\n"
     ]
    },
    {
     "name": "stdout",
     "output_type": "stream",
     "text": [
      "INFO: Obtained JPL HORIZONS location for Parker Solar Probe (spacecraft) [sunpy.coordinates.ephemeris]\n"
     ]
    },
    {
     "name": "stderr",
     "output_type": "stream",
     "text": [
      "INFO:py3dcore_h4c.fluxplot:Indices of date: 1919\n",
      "INFO:py3dcore_h4c.fluxplot:Parker Solar Probe - r: 0.090229, lon: -126.891289, lat: -2.366818, \n"
     ]
    }
   ],
   "source": [
    "#measurement times \n",
    "#tm0 =  t_launch + datetime.timedelta(days=1.5)\n",
    "tm0 =  datetime.datetime(2022, 9, 5, 16)\n",
    "tm1 =  t_launch + datetime.timedelta(days=1.7)\n",
    "tm2 =  t_launch + datetime.timedelta(days=3.5)\n",
    "\n",
    "fig = fp.full3d(spacecraftlist=['solo', 'psp'], planetlist =['Earth'],t = tm1, filepath = filepath)"
   ]
  },
  {
   "cell_type": "markdown",
   "id": "5c621656",
   "metadata": {},
   "source": [
    "### make fluxrope 3d movie"
   ]
  },
  {
   "cell_type": "code",
   "execution_count": 14,
   "id": "84b54d2a",
   "metadata": {},
   "outputs": [],
   "source": [
    "def make_frame(k):\n",
    "    tm0 = datetime.datetime(2022, 9, 5, 19)\n",
    "    t = tm0 + k*datetime.timedelta(hours=1)\n",
    "    \n",
    "    fig = fp.full3d(spacecraftlist=['solo', 'psp'], planetlist =['Earth'],\n",
    "              t = t, filepath = filepath, save_fig = False)\n",
    "    frmstr = '%05i' % (k) \n",
    "    plt.savefig(filepath[:-7] + 'movie_3d/'+frmstr+'.jpg',dpi=200)  \n",
    "    return fig\n",
    "    "
   ]
  },
  {
   "cell_type": "code",
   "execution_count": 15,
   "id": "92c5009b",
   "metadata": {},
   "outputs": [
    {
     "name": "stdout",
     "output_type": "stream",
     "text": [
      "done 1/4\n",
      "done 2/4\n",
      "done 3/4\n",
      "done 4/4\n"
     ]
    }
   ],
   "source": [
    "inn=[i for i in range(100)]\n",
    "\n",
    "\n",
    "mpool = multiprocessing.Pool(processes=5)\n",
    "mpool.map(make_frame, inn[0:20])\n",
    "mpool.close()\n",
    "mpool.join()\n",
    "\n",
    "print('done 1/4')\n",
    "\n",
    "mpool = multiprocessing.Pool(processes=5)\n",
    "mpool.map(make_frame, inn[20:40])\n",
    "mpool.close()\n",
    "mpool.join()\n",
    "\n",
    "print('done 2/4')\n",
    "\n",
    "mpool = multiprocessing.Pool(processes=5)\n",
    "mpool.map(make_frame, inn[40:60])\n",
    "mpool.close()\n",
    "mpool.join()\n",
    "\n",
    "print('done 3/4')\n",
    "\n",
    "mpool = multiprocessing.Pool(processes=5)\n",
    "mpool.map(make_frame, inn[40:80])\n",
    "mpool.close()\n",
    "mpool.join()\n",
    "\n",
    "print('done 4/4')"
   ]
  },
  {
   "cell_type": "code",
   "execution_count": 16,
   "id": "53791203",
   "metadata": {},
   "outputs": [
    {
     "data": {
      "text/plain": [
       "0"
      ]
     },
     "execution_count": 16,
     "metadata": {},
     "output_type": "execute_result"
    }
   ],
   "source": [
    "os.system('ffmpeg -r 25 -i '+filepath[:-7]+'movie_3d/%05d.jpg -b 5000k -r 25 '+filepath[:-7]+'movie_3d/full_3d_movie.mp4 -y -loglevel quiet')"
   ]
  },
  {
   "cell_type": "markdown",
   "id": "e496c95a",
   "metadata": {},
   "source": [
    "### plot fluxrope 3d multiview"
   ]
  },
  {
   "cell_type": "code",
   "execution_count": 17,
   "id": "810593be",
   "metadata": {},
   "outputs": [],
   "source": [
    "#measurement times \n",
    "#tm0 =  t_launch + datetime.timedelta(days=1.5)\n",
    "tm0 =  datetime.datetime(2022, 9, 7, 1)\n",
    "tm1 =  t_launch + datetime.timedelta(days=1.7)\n",
    "tm2 =  t_launch + datetime.timedelta(days=3.5)\n",
    "\n",
    "fig = fp.full3d_multiview(t_launch = t_launch, filepath=filepath)"
   ]
  },
  {
   "cell_type": "markdown",
   "id": "2d539bb0",
   "metadata": {},
   "source": [
    "### make fluxrope 3d multiview movie"
   ]
  },
  {
   "cell_type": "code",
   "execution_count": 18,
   "id": "00cd5ddc",
   "metadata": {},
   "outputs": [],
   "source": [
    "def make_frame2(k):\n",
    "    tm0 = datetime.datetime(2022, 9, 5, 19)\n",
    "    t = tm0 + k*datetime.timedelta(hours=1)\n",
    "    frametime = k\n",
    "    \n",
    "    fig = fp.full3d_multiview_movie(t_launch = tm0, t = t, filepath=filepath,\n",
    "                                    frametime=k)\n",
    "    frmstr = '%05i' % (k) \n",
    "    plt.savefig(filepath[:-7] + 'movie_3d_multiview/'+frmstr+'.jpg',dpi=200)  \n",
    "    return fig"
   ]
  },
  {
   "cell_type": "code",
   "execution_count": 19,
   "id": "a19d1295",
   "metadata": {},
   "outputs": [
    {
     "name": "stdout",
     "output_type": "stream",
     "text": [
      "The history saving thread hit an unexpected error (OperationalError('disk I/O error')).History will not be written to the database.\n",
      "done 1/4\n",
      "done 2/4\n",
      "done 3/4\n",
      "done 4/4\n"
     ]
    }
   ],
   "source": [
    "inn=[i for i in range(100)]\n",
    "\n",
    "\n",
    "mpool = multiprocessing.Pool(processes=5)\n",
    "mpool.map(make_frame2, inn[0:20])\n",
    "mpool.close()\n",
    "mpool.join()\n",
    "\n",
    "print('done 1/4')\n",
    "\n",
    "mpool = multiprocessing.Pool(processes=5)\n",
    "mpool.map(make_frame2, inn[20:40])\n",
    "mpool.close()\n",
    "mpool.join()\n",
    "\n",
    "print('done 2/4')\n",
    "\n",
    "mpool = multiprocessing.Pool(processes=5)\n",
    "mpool.map(make_frame2, inn[40:60])\n",
    "mpool.close()\n",
    "mpool.join()\n",
    "\n",
    "print('done 3/4')\n",
    "\n",
    "mpool = multiprocessing.Pool(processes=5)\n",
    "mpool.map(make_frame2, inn[40:80])\n",
    "mpool.close()\n",
    "mpool.join()\n",
    "\n",
    "print('done 4/4')"
   ]
  },
  {
   "cell_type": "code",
   "execution_count": 20,
   "id": "16870ca6",
   "metadata": {},
   "outputs": [
    {
     "data": {
      "text/plain": [
       "0"
      ]
     },
     "execution_count": 20,
     "metadata": {},
     "output_type": "execute_result"
    }
   ],
   "source": [
    "os.system('ffmpeg -r 25 -i '+filepath[:-7]+'movie_3d_multiview/%05d.jpg -b 5000k -r 25 '+filepath[:-7]+'movie_3d/full_3d_multiview_movie.mp4 -y -loglevel quiet')"
   ]
  },
  {
   "cell_type": "markdown",
   "id": "bfe082df",
   "metadata": {},
   "source": [
    "# Used for Debug"
   ]
  },
  {
   "cell_type": "code",
   "execution_count": 21,
   "id": "208e32b5",
   "metadata": {},
   "outputs": [],
   "source": [
    "TP_A =  t_launch + datetime.timedelta(hours=2)\n",
    "TP_B =  t_launch + datetime.timedelta(hours=40)\n",
    "\n",
    "\n",
    "C_A = \"xkcd:red\"\n",
    "C_B = \"xkcd:blue\"\n",
    "    \n",
    "sns.set_style('whitegrid')\n",
    "\n",
    "fig = plt.figure(figsize=(15, 11),dpi=100)\n",
    "\n",
    "ax1 = plt.subplot2grid((2, 3), (0, 0),rowspan=2,colspan=2,projection='3d')  \n",
    "ax2 = plt.subplot2grid((2, 3), (0, 2),projection='3d')  \n",
    "ax3 = plt.subplot2grid((2, 3), (1, 2),projection='3d')  \n",
    "\n",
    "model_obj = fp.returnmodel(filepath)\n",
    "\n",
    "\n",
    "fp.plot_configure(ax1, view_azim=150, view_elev=25, view_radius=.2,light_source=True) #view_radius=.08\n",
    "\n",
    "fp.plot_3dcore(ax1, model_obj, TP_A, color=C_A,light_source = True)\n",
    "fp.plot_3dcore(ax1, model_obj, TP_B, color=C_B,light_source = True)\n",
    "\n",
    "fp.plot_shift(ax1,0.31,-0.25,0.0,-0.2)\n",
    "\n",
    "\n",
    "fp.plot_configure(ax2, view_azim=165-90, view_elev=90, view_radius=.08,light_source=True)\n",
    "    \n",
    "fp.plot_3dcore(ax2, model_obj, TP_A, color=C_A,light_source = True)\n",
    "fp.plot_3dcore(ax2, model_obj, TP_B, color=C_B,light_source = True)\n",
    "\n",
    "fp.plot_shift(ax2,0.26,-0.41,0.08,0.0)\n",
    "\n",
    "\n",
    "\n",
    "fp.plot_configure(ax3, view_azim=65, view_elev=-5, view_radius=.01,light_source=True)\n",
    "    \n",
    "fp.plot_3dcore(ax3, model_obj, TP_A, color=C_A,light_source = True)\n",
    "fp.plot_3dcore(ax3, model_obj, TP_B, color=C_B,light_source = True)\n",
    "\n",
    "fp.plot_shift(ax3,0.26,-0.41,0.08,0.0)\n",
    "\n"
   ]
  },
  {
   "cell_type": "code",
   "execution_count": null,
   "id": "1d2eb97b",
   "metadata": {},
   "outputs": [],
   "source": []
  },
  {
   "cell_type": "code",
   "execution_count": null,
   "id": "893012ab",
   "metadata": {},
   "outputs": [],
   "source": []
  }
 ],
 "metadata": {
  "kernelspec": {
   "display_name": "Python 3 (ipykernel)",
   "language": "python",
   "name": "python3"
  },
  "language_info": {
   "codemirror_mode": {
    "name": "ipython",
    "version": 3
   },
   "file_extension": ".py",
   "mimetype": "text/x-python",
   "name": "python",
   "nbconvert_exporter": "python",
   "pygments_lexer": "ipython3",
   "version": "3.10.8"
  }
 },
 "nbformat": 4,
 "nbformat_minor": 5
}
