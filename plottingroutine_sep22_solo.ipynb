{
 "cells": [
  {
   "cell_type": "markdown",
   "id": "589f11c1",
   "metadata": {},
   "source": [
    "# Plotting routine for the Sep22 Event - SolO"
   ]
  },
  {
   "cell_type": "code",
   "execution_count": 1,
   "id": "e6428ddb",
   "metadata": {},
   "outputs": [],
   "source": [
    "test = 'test'"
   ]
  },
  {
   "cell_type": "code",
   "execution_count": 1,
   "id": "40bda3e3",
   "metadata": {},
   "outputs": [],
   "source": [
    "%load_ext autoreload\n",
    "\n",
    "%autoreload 2\n",
    "\n",
    "import numpy as np\n",
    "import matplotlib.pyplot as plt\n",
    "import pickle as p\n",
    "\n",
    "import datetime as datetime\n",
    "from datetime import timedelta\n",
    "import seaborn as sns\n",
    "import pandas as pd\n",
    "import os\n",
    "#import copy as cp\n",
    "\n",
    "import multiprocessing\n",
    "import py3dcore_h4c as py3dcore_h4c\n",
    "\n",
    "import py3dcore_h4c.fluxplot as fp\n",
    "\n",
    "plt.switch_backend('agg')\n",
    "\n",
    "\n",
    "import warnings\n",
    "warnings.filterwarnings('ignore')\n",
    "\n",
    "import logging\n",
    "\n",
    "logging.basicConfig(level=logging.INFO)\n",
    "logging.getLogger(\"heliosat.spice\").setLevel(\"WARNING\")\n",
    "logging.getLogger(\"heliosat.spacecraft\").setLevel(\"WARNING\")\n",
    "#logging.getLogger(\"sunpy\").setLevel(\"WARNING\")\n",
    "#logging.getLogger(\"py3dcore_h4c.fluxplot\").setLevel(\"WARNING\")\n",
    "\n",
    "#print(sns.__version__)"
   ]
  },
  {
   "cell_type": "markdown",
   "id": "5fbce097",
   "metadata": {},
   "source": [
    "#### setting the times for py3DCORE_h4c"
   ]
  },
  {
   "cell_type": "code",
   "execution_count": 2,
   "id": "9b0af924",
   "metadata": {},
   "outputs": [],
   "source": [
    "t_launch = datetime.datetime(2022, 9, 5, 18, tzinfo=datetime.timezone.utc) # launch time assumed at CME impact at PSP \n",
    "\n",
    "t_s = datetime.datetime(2022, 9, 7, 8, tzinfo=datetime.timezone.utc) \n",
    "t_e = datetime.datetime(2022, 9, 8, 3, tzinfo=datetime.timezone.utc)\n",
    "\n",
    "start = t_s + datetime.timedelta(hours=1)\n",
    "\n",
    "t_fit = [\n",
    "        datetime.datetime(2022, 9, 7, 9, tzinfo=datetime.timezone.utc),\n",
    "        datetime.datetime(2022, 9, 7, 15, tzinfo=datetime.timezone.utc),\n",
    "        datetime.datetime(2022, 9, 7, 20, tzinfo=datetime.timezone.utc),\n",
    "        datetime.datetime(2022, 9, 8, 2, tzinfo=datetime.timezone.utc)\n",
    "     ]\n",
    "\n",
    "#t_fit = fp.equal_t_creator(start = start, n = 4, delta = 6)\n",
    "\n",
    "#####2022 Sep 5: 3 solar radii at 17 UT (COR2 & LASCO FoV appearance)\n",
    "# 2022 Sep 5: 15 solar radii at 18:45 UT (PSP)"
   ]
  },
  {
   "cell_type": "markdown",
   "id": "b3e13ed7",
   "metadata": {},
   "source": [
    "#### loading the pickle files"
   ]
  },
  {
   "cell_type": "code",
   "execution_count": 3,
   "id": "b653ba10",
   "metadata": {},
   "outputs": [
    {
     "data": {
      "text/plain": [
       "[datetime.datetime(2022, 9, 7, 9, 0, tzinfo=datetime.timezone.utc),\n",
       " datetime.datetime(2022, 9, 7, 15, 0, tzinfo=datetime.timezone.utc),\n",
       " datetime.datetime(2022, 9, 7, 20, 0, tzinfo=datetime.timezone.utc),\n",
       " datetime.datetime(2022, 9, 8, 2, 0, tzinfo=datetime.timezone.utc)]"
      ]
     },
     "execution_count": 3,
     "metadata": {},
     "output_type": "execute_result"
    }
   ],
   "source": [
    "t_fit"
   ]
  },
  {
   "cell_type": "code",
   "execution_count": 4,
   "id": "32709ebd",
   "metadata": {},
   "outputs": [],
   "source": [
    "path = 'output/output/solo06092022_heeq_1024_restrP_4/'\n",
    "\n",
    "filepath = fp.loadpickle(path, number = -1)"
   ]
  },
  {
   "cell_type": "raw",
   "id": "363c398c",
   "metadata": {},
   "source": [
    "filepath[:-7]"
   ]
  },
  {
   "cell_type": "markdown",
   "id": "6f3cec91",
   "metadata": {},
   "source": [
    "#### extracting parameters"
   ]
  },
  {
   "cell_type": "code",
   "execution_count": 5,
   "id": "386e65d0",
   "metadata": {},
   "outputs": [
    {
     "name": "stderr",
     "output_type": "stream",
     "text": [
      "INFO:py3dcore_h4c.fluxplot:Retrieved the following parameters for the run with minimum epsilon:\n",
      "INFO:py3dcore_h4c.fluxplot: --lon:  178.25\n",
      "INFO:py3dcore_h4c.fluxplot: --lat:  -9.77\n",
      "INFO:py3dcore_h4c.fluxplot: --inc:  5.49\n",
      "INFO:py3dcore_h4c.fluxplot: --diameter 1 AU:  0.34\n",
      "INFO:py3dcore_h4c.fluxplot: --aspect ratio:  1.14\n",
      "INFO:py3dcore_h4c.fluxplot: --launch radius:  15.92\n",
      "INFO:py3dcore_h4c.fluxplot: --launch speed:  1297.35\n",
      "INFO:py3dcore_h4c.fluxplot: --t factor:  145.44\n",
      "INFO:py3dcore_h4c.fluxplot: --expansion rate:  1.14\n",
      "INFO:py3dcore_h4c.fluxplot: --magnetic field decay rate:  1.64\n",
      "INFO:py3dcore_h4c.fluxplot: --magnetic field 1 AU:  32.11\n",
      "INFO:py3dcore_h4c.fluxplot: --drag coefficient:  1.13\n",
      "INFO:py3dcore_h4c.fluxplot: --sw background speed:  625.17\n"
     ]
    }
   ],
   "source": [
    "res, allres, ind, meanparams = fp.get_params(filepath, give_mineps=True)"
   ]
  },
  {
   "cell_type": "code",
   "execution_count": 6,
   "id": "e353791f",
   "metadata": {},
   "outputs": [],
   "source": [
    "out = fp.get_ensemble_stats(filepath)"
   ]
  },
  {
   "cell_type": "code",
   "execution_count": 7,
   "id": "40446514",
   "metadata": {},
   "outputs": [
    {
     "data": {
      "text/html": [
       "<div>\n",
       "<style scoped>\n",
       "    .dataframe tbody tr th:only-of-type {\n",
       "        vertical-align: middle;\n",
       "    }\n",
       "\n",
       "    .dataframe tbody tr th {\n",
       "        vertical-align: top;\n",
       "    }\n",
       "\n",
       "    .dataframe thead th {\n",
       "        text-align: right;\n",
       "    }\n",
       "</style>\n",
       "<table border=\"1\" class=\"dataframe\">\n",
       "  <thead>\n",
       "    <tr style=\"text-align: right;\">\n",
       "      <th></th>\n",
       "      <th>lon</th>\n",
       "      <th>lat</th>\n",
       "      <th>inc</th>\n",
       "      <th>D1AU</th>\n",
       "      <th>delta</th>\n",
       "      <th>launch radius</th>\n",
       "      <th>launch speed</th>\n",
       "      <th>t factor</th>\n",
       "      <th>B1AU</th>\n",
       "      <th>gamma</th>\n",
       "      <th>vsw</th>\n",
       "    </tr>\n",
       "  </thead>\n",
       "  <tbody>\n",
       "    <tr>\n",
       "      <th>count</th>\n",
       "      <td>1024.000000</td>\n",
       "      <td>1024.000000</td>\n",
       "      <td>1024.000000</td>\n",
       "      <td>1024.000000</td>\n",
       "      <td>1024.000000</td>\n",
       "      <td>1024.000000</td>\n",
       "      <td>1024.000000</td>\n",
       "      <td>1024.000000</td>\n",
       "      <td>1024.000000</td>\n",
       "      <td>1024.000000</td>\n",
       "      <td>1024.000000</td>\n",
       "    </tr>\n",
       "    <tr>\n",
       "      <th>mean</th>\n",
       "      <td>180.468719</td>\n",
       "      <td>-7.715597</td>\n",
       "      <td>8.504148</td>\n",
       "      <td>0.332826</td>\n",
       "      <td>1.141207</td>\n",
       "      <td>15.050640</td>\n",
       "      <td>1566.375000</td>\n",
       "      <td>169.878113</td>\n",
       "      <td>31.985434</td>\n",
       "      <td>0.875081</td>\n",
       "      <td>587.308960</td>\n",
       "    </tr>\n",
       "    <tr>\n",
       "      <th>std</th>\n",
       "      <td>5.948728</td>\n",
       "      <td>1.950428</td>\n",
       "      <td>3.802788</td>\n",
       "      <td>0.012173</td>\n",
       "      <td>0.118664</td>\n",
       "      <td>0.548468</td>\n",
       "      <td>250.726410</td>\n",
       "      <td>44.324223</td>\n",
       "      <td>9.469963</td>\n",
       "      <td>0.416672</td>\n",
       "      <td>67.818649</td>\n",
       "    </tr>\n",
       "    <tr>\n",
       "      <th>min</th>\n",
       "      <td>162.016739</td>\n",
       "      <td>-9.986927</td>\n",
       "      <td>0.762892</td>\n",
       "      <td>0.288252</td>\n",
       "      <td>1.000072</td>\n",
       "      <td>14.000048</td>\n",
       "      <td>1006.147644</td>\n",
       "      <td>53.570271</td>\n",
       "      <td>5.600535</td>\n",
       "      <td>0.200127</td>\n",
       "      <td>402.182373</td>\n",
       "    </tr>\n",
       "    <tr>\n",
       "      <th>25%</th>\n",
       "      <td>176.490852</td>\n",
       "      <td>-9.104551</td>\n",
       "      <td>5.832415</td>\n",
       "      <td>0.325810</td>\n",
       "      <td>1.048570</td>\n",
       "      <td>14.620416</td>\n",
       "      <td>1370.807556</td>\n",
       "      <td>138.128330</td>\n",
       "      <td>25.087915</td>\n",
       "      <td>0.536721</td>\n",
       "      <td>542.139832</td>\n",
       "    </tr>\n",
       "    <tr>\n",
       "      <th>50%</th>\n",
       "      <td>180.260689</td>\n",
       "      <td>-8.197279</td>\n",
       "      <td>7.952997</td>\n",
       "      <td>0.334750</td>\n",
       "      <td>1.109582</td>\n",
       "      <td>15.056105</td>\n",
       "      <td>1589.134949</td>\n",
       "      <td>171.273834</td>\n",
       "      <td>32.488493</td>\n",
       "      <td>0.805943</td>\n",
       "      <td>598.660583</td>\n",
       "    </tr>\n",
       "    <tr>\n",
       "      <th>75%</th>\n",
       "      <td>184.196674</td>\n",
       "      <td>-6.818624</td>\n",
       "      <td>10.764317</td>\n",
       "      <td>0.342773</td>\n",
       "      <td>1.206352</td>\n",
       "      <td>15.517015</td>\n",
       "      <td>1773.623047</td>\n",
       "      <td>204.931908</td>\n",
       "      <td>39.223536</td>\n",
       "      <td>1.181971</td>\n",
       "      <td>638.336594</td>\n",
       "    </tr>\n",
       "    <tr>\n",
       "      <th>max</th>\n",
       "      <td>199.712234</td>\n",
       "      <td>8.761182</td>\n",
       "      <td>27.915442</td>\n",
       "      <td>0.349995</td>\n",
       "      <td>1.994278</td>\n",
       "      <td>15.998918</td>\n",
       "      <td>1998.641113</td>\n",
       "      <td>249.986160</td>\n",
       "      <td>49.866116</td>\n",
       "      <td>1.998360</td>\n",
       "      <td>698.922852</td>\n",
       "    </tr>\n",
       "  </tbody>\n",
       "</table>\n",
       "</div>"
      ],
      "text/plain": [
       "               lon          lat          inc         D1AU        delta  \\\n",
       "count  1024.000000  1024.000000  1024.000000  1024.000000  1024.000000   \n",
       "mean    180.468719    -7.715597     8.504148     0.332826     1.141207   \n",
       "std       5.948728     1.950428     3.802788     0.012173     0.118664   \n",
       "min     162.016739    -9.986927     0.762892     0.288252     1.000072   \n",
       "25%     176.490852    -9.104551     5.832415     0.325810     1.048570   \n",
       "50%     180.260689    -8.197279     7.952997     0.334750     1.109582   \n",
       "75%     184.196674    -6.818624    10.764317     0.342773     1.206352   \n",
       "max     199.712234     8.761182    27.915442     0.349995     1.994278   \n",
       "\n",
       "       launch radius  launch speed     t factor         B1AU        gamma  \\\n",
       "count    1024.000000   1024.000000  1024.000000  1024.000000  1024.000000   \n",
       "mean       15.050640   1566.375000   169.878113    31.985434     0.875081   \n",
       "std         0.548468    250.726410    44.324223     9.469963     0.416672   \n",
       "min        14.000048   1006.147644    53.570271     5.600535     0.200127   \n",
       "25%        14.620416   1370.807556   138.128330    25.087915     0.536721   \n",
       "50%        15.056105   1589.134949   171.273834    32.488493     0.805943   \n",
       "75%        15.517015   1773.623047   204.931908    39.223536     1.181971   \n",
       "max        15.998918   1998.641113   249.986160    49.866116     1.998360   \n",
       "\n",
       "               vsw  \n",
       "count  1024.000000  \n",
       "mean    587.308960  \n",
       "std      67.818649  \n",
       "min     402.182373  \n",
       "25%     542.139832  \n",
       "50%     598.660583  \n",
       "75%     638.336594  \n",
       "max     698.922852  "
      ]
     },
     "execution_count": 7,
     "metadata": {},
     "output_type": "execute_result"
    }
   ],
   "source": [
    "out.describe()"
   ]
  },
  {
   "cell_type": "markdown",
   "id": "01f60807",
   "metadata": {},
   "source": [
    "#### loading and plotting the fitting results"
   ]
  },
  {
   "cell_type": "code",
   "execution_count": 9,
   "id": "0937af32",
   "metadata": {},
   "outputs": [
    {
     "name": "stderr",
     "output_type": "stream",
     "text": [
      "INFO:py3dcore_h4c.fluxplot:No iparams_arr given, using parameters for run with minimum eps.\n",
      "INFO:py3dcore_h4c.fluxplot:Plotting run with mean parameters.\n",
      "INFO:py3dcore_h4c.fitter.base:Using custom datafile: solo_2022sep.p\n"
     ]
    },
    {
     "name": "stdout",
     "output_type": "stream",
     "text": [
      "[[-0.59285783  0.34209429 -0.0455488 ]\n",
      " [-0.5928533   0.3420877  -0.04555002]\n",
      " [-0.59284877  0.34208111 -0.04555125]\n",
      " ...\n",
      " [-0.58769104  0.33446584 -0.04692631]\n",
      " [-0.58768648  0.33445901 -0.04692751]\n",
      " [-0.58767736  0.33444535 -0.04692991]]\n"
     ]
    }
   ],
   "source": [
    "fp.fullinsitu(observer='solo', t_fit=t_fit, start=t_s, end=t_e, filepath=filepath, \n",
    "              custom_data='solo_2022sep.p', best=True, ensemble=True, mean=True, save_fig=True, legend=True, fixed=None)"
   ]
  },
  {
   "cell_type": "code",
   "execution_count": 11,
   "id": "9807f72f",
   "metadata": {},
   "outputs": [],
   "source": [
    "fp.scatterparams(filepath)"
   ]
  },
  {
   "cell_type": "code",
   "execution_count": 12,
   "id": "768ec949",
   "metadata": {},
   "outputs": [
    {
     "name": "stdout",
     "output_type": "stream",
     "text": [
      "172.78905\n",
      "4.882709\n",
      "0.53428584\n",
      "266.25516\n"
     ]
    }
   ],
   "source": [
    "print(out['lon'].mean())\n",
    "print(out['lon'].std())\n",
    "print(out['launch radius'].std())\n",
    "print(out['launch speed'].std())"
   ]
  },
  {
   "cell_type": "markdown",
   "id": "170b5bb1",
   "metadata": {},
   "source": [
    "#### Plotting the fluxrope and spacecraft positions"
   ]
  },
  {
   "cell_type": "code",
   "execution_count": 9,
   "id": "cd95eb99",
   "metadata": {},
   "outputs": [
    {
     "name": "stderr",
     "output_type": "stream",
     "text": [
      "INFO:sunpy:Obtained JPL HORIZONS location for Solar Orbiter (spacecraft) (-144\n"
     ]
    },
    {
     "name": "stdout",
     "output_type": "stream",
     "text": [
      "INFO: Obtained JPL HORIZONS location for Solar Orbiter (spacecraft) (-144 [sunpy.coordinates.ephemeris]\n"
     ]
    },
    {
     "name": "stderr",
     "output_type": "stream",
     "text": [
      "INFO:py3dcore_h4c.fluxplot:Indices of date: 59\n",
      "INFO:py3dcore_h4c.fluxplot:Solar Orbiter - r: 0.684483, lon: 150.072220, lat: -3.730396, \n",
      "INFO:sunpy:Obtained JPL HORIZONS location for Solar Orbiter (spacecraft) (-144\n",
      "INFO:py3dcore_h4c.fluxplot:Indices of date: 35\n",
      "INFO:py3dcore_h4c.fluxplot:Solar Orbiter - r: 0.684483, lon: 150.072220, lat: -3.730396, \n",
      "INFO:sunpy:Obtained JPL HORIZONS location for Parker Solar Probe (spacecraft)\n"
     ]
    },
    {
     "name": "stdout",
     "output_type": "stream",
     "text": [
      "INFO: Obtained JPL HORIZONS location for Solar Orbiter (spacecraft) (-144 [sunpy.coordinates.ephemeris]\n",
      "INFO: Obtained JPL HORIZONS location for Parker Solar Probe (spacecraft) [sunpy.coordinates.ephemeris]\n"
     ]
    },
    {
     "name": "stderr",
     "output_type": "stream",
     "text": [
      "INFO:py3dcore_h4c.fluxplot:Indices of date: 59\n",
      "INFO:py3dcore_h4c.fluxplot:Parker Solar Probe - r: 0.095459, lon: -122.155481, lat: -2.099772, \n",
      "INFO:sunpy:Obtained JPL HORIZONS location for Parker Solar Probe (spacecraft)\n",
      "INFO:py3dcore_h4c.fluxplot:Indices of date: 35\n",
      "INFO:py3dcore_h4c.fluxplot:Parker Solar Probe - r: 0.095459, lon: -122.155481, lat: -2.099772, \n"
     ]
    },
    {
     "name": "stdout",
     "output_type": "stream",
     "text": [
      "INFO: Obtained JPL HORIZONS location for Parker Solar Probe (spacecraft) [sunpy.coordinates.ephemeris]\n"
     ]
    }
   ],
   "source": [
    "#measurement times \n",
    "#tm0 =  t_launch + datetime.timedelta(days=1.5)\n",
    "tm0 =  datetime.datetime(2022, 9, 7, 1)\n",
    "tm1 =  t_launch + datetime.timedelta(days=1.7)\n",
    "tm2 =  t_launch + datetime.timedelta(days=3.5)\n",
    "\n",
    "fig = fp.full3d(spacecraftlist=['solo', 'psp'], planetlist =['Earth'],t = tm1, filepath = filepath)"
   ]
  },
  {
   "cell_type": "markdown",
   "id": "f8f2fe64",
   "metadata": {},
   "source": [
    "### make fluxrope 3d movie"
   ]
  },
  {
   "cell_type": "code",
   "execution_count": 14,
   "id": "410cce9c",
   "metadata": {},
   "outputs": [],
   "source": [
    "def make_frame(k):\n",
    "    tm0 = datetime.datetime(2022, 9, 5, 19)\n",
    "    t = tm0 + k*datetime.timedelta(hours=1)\n",
    "    \n",
    "    fig = fp.full3d(spacecraftlist=['solo', 'psp'], planetlist =['Earth'],\n",
    "              t = t, filepath = filepath, save_fig = False)\n",
    "    frmstr = '%05i' % (k) \n",
    "    plt.savefig(filepath[:-7] + 'movie_3d/'+frmstr+'.jpg',dpi=200)  \n",
    "    return fig\n",
    "    "
   ]
  },
  {
   "cell_type": "code",
   "execution_count": 15,
   "id": "b2baf08c",
   "metadata": {},
   "outputs": [
    {
     "name": "stdout",
     "output_type": "stream",
     "text": [
      "done 1/4\n",
      "done 2/4\n",
      "done 3/4\n",
      "done 4/4\n"
     ]
    }
   ],
   "source": [
    "inn=[i for i in range(100)]\n",
    "\n",
    "\n",
    "mpool = multiprocessing.Pool(processes=5)\n",
    "mpool.map(make_frame, inn[0:20])\n",
    "mpool.close()\n",
    "mpool.join()\n",
    "\n",
    "print('done 1/4')\n",
    "\n",
    "mpool = multiprocessing.Pool(processes=5)\n",
    "mpool.map(make_frame, inn[20:40])\n",
    "mpool.close()\n",
    "mpool.join()\n",
    "\n",
    "print('done 2/4')\n",
    "\n",
    "mpool = multiprocessing.Pool(processes=5)\n",
    "mpool.map(make_frame, inn[40:60])\n",
    "mpool.close()\n",
    "mpool.join()\n",
    "\n",
    "print('done 3/4')\n",
    "\n",
    "mpool = multiprocessing.Pool(processes=5)\n",
    "mpool.map(make_frame, inn[40:80])\n",
    "mpool.close()\n",
    "mpool.join()\n",
    "\n",
    "print('done 4/4')"
   ]
  },
  {
   "cell_type": "code",
   "execution_count": 16,
   "id": "60066677",
   "metadata": {},
   "outputs": [
    {
     "data": {
      "text/plain": [
       "0"
      ]
     },
     "execution_count": 16,
     "metadata": {},
     "output_type": "execute_result"
    }
   ],
   "source": [
    "os.system('ffmpeg -r 25 -i '+filepath[:-7]+'movie_3d/%05d.jpg -b 5000k -r 25 '+filepath[:-7]+'movie_3d/full_3d_movie.mp4 -y -loglevel quiet')"
   ]
  },
  {
   "cell_type": "markdown",
   "id": "031b8db4",
   "metadata": {},
   "source": [
    "### plot fluxrope 3d multiview"
   ]
  },
  {
   "cell_type": "code",
   "execution_count": 17,
   "id": "8ead0eb6",
   "metadata": {},
   "outputs": [],
   "source": [
    "#measurement times \n",
    "#tm0 =  t_launch + datetime.timedelta(days=1.5)\n",
    "tm0 =  datetime.datetime(2022, 9, 7, 1)\n",
    "tm1 =  t_launch + datetime.timedelta(days=1.7)\n",
    "tm2 =  t_launch + datetime.timedelta(days=3.5)\n",
    "\n",
    "fig = fp.full3d_multiview(t_launch = t_launch, filepath=filepath)"
   ]
  },
  {
   "cell_type": "markdown",
   "id": "b542b1a2",
   "metadata": {},
   "source": [
    "### make fluxrope 3d multiview movie"
   ]
  },
  {
   "cell_type": "code",
   "execution_count": 18,
   "id": "c3e54ef9",
   "metadata": {},
   "outputs": [],
   "source": [
    "def make_frame2(k):\n",
    "    tm0 = datetime.datetime(2022, 9, 5, 19)\n",
    "    t = tm0 + k*datetime.timedelta(hours=1)\n",
    "    frametime = k\n",
    "    \n",
    "    fig = fp.full3d_multiview_movie(t_launch = tm0, t = t, filepath=filepath,\n",
    "                                    frametime=k)\n",
    "    frmstr = '%05i' % (k) \n",
    "    plt.savefig(filepath[:-7] + 'movie_3d_multiview/'+frmstr+'.jpg',dpi=200)  \n",
    "    return fig"
   ]
  },
  {
   "cell_type": "code",
   "execution_count": 19,
   "id": "06dcde0f",
   "metadata": {},
   "outputs": [
    {
     "name": "stdout",
     "output_type": "stream",
     "text": [
      "The history saving thread hit an unexpected error (OperationalError('disk I/O error')).History will not be written to the database.\n",
      "done 1/4\n",
      "done 2/4\n",
      "done 3/4\n",
      "done 4/4\n"
     ]
    }
   ],
   "source": [
    "inn=[i for i in range(100)]\n",
    "\n",
    "\n",
    "mpool = multiprocessing.Pool(processes=5)\n",
    "mpool.map(make_frame2, inn[0:20])\n",
    "mpool.close()\n",
    "mpool.join()\n",
    "\n",
    "print('done 1/4')\n",
    "\n",
    "mpool = multiprocessing.Pool(processes=5)\n",
    "mpool.map(make_frame2, inn[20:40])\n",
    "mpool.close()\n",
    "mpool.join()\n",
    "\n",
    "print('done 2/4')\n",
    "\n",
    "mpool = multiprocessing.Pool(processes=5)\n",
    "mpool.map(make_frame2, inn[40:60])\n",
    "mpool.close()\n",
    "mpool.join()\n",
    "\n",
    "print('done 3/4')\n",
    "\n",
    "mpool = multiprocessing.Pool(processes=5)\n",
    "mpool.map(make_frame2, inn[40:80])\n",
    "mpool.close()\n",
    "mpool.join()\n",
    "\n",
    "print('done 4/4')"
   ]
  },
  {
   "cell_type": "code",
   "execution_count": 20,
   "id": "ea1fdfac",
   "metadata": {},
   "outputs": [
    {
     "data": {
      "text/plain": [
       "0"
      ]
     },
     "execution_count": 20,
     "metadata": {},
     "output_type": "execute_result"
    }
   ],
   "source": [
    "os.system('ffmpeg -r 25 -i '+filepath[:-7]+'movie_3d_multiview/%05d.jpg -b 5000k -r 25 '+filepath[:-7]+'movie_3d/full_3d_multiview_movie.mp4 -y -loglevel quiet')"
   ]
  },
  {
   "cell_type": "markdown",
   "id": "78058bae",
   "metadata": {},
   "source": [
    "# Used for Debug"
   ]
  },
  {
   "cell_type": "code",
   "execution_count": 21,
   "id": "3f6762cc",
   "metadata": {},
   "outputs": [],
   "source": [
    "TP_A =  t_launch + datetime.timedelta(hours=2)\n",
    "TP_B =  t_launch + datetime.timedelta(hours=40)\n",
    "\n",
    "\n",
    "C_A = \"xkcd:red\"\n",
    "C_B = \"xkcd:blue\"\n",
    "    \n",
    "sns.set_style('whitegrid')\n",
    "\n",
    "fig = plt.figure(figsize=(15, 11),dpi=100)\n",
    "\n",
    "ax1 = plt.subplot2grid((2, 3), (0, 0),rowspan=2,colspan=2,projection='3d')  \n",
    "ax2 = plt.subplot2grid((2, 3), (0, 2),projection='3d')  \n",
    "ax3 = plt.subplot2grid((2, 3), (1, 2),projection='3d')  \n",
    "\n",
    "model_obj = fp.returnmodel(filepath)\n",
    "\n",
    "\n",
    "fp.plot_configure(ax1, view_azim=150, view_elev=25, view_radius=.2,light_source=True) #view_radius=.08\n",
    "\n",
    "fp.plot_3dcore(ax1, model_obj, TP_A, color=C_A,light_source = True)\n",
    "fp.plot_3dcore(ax1, model_obj, TP_B, color=C_B,light_source = True)\n",
    "\n",
    "fp.plot_shift(ax1,0.31,-0.25,0.0,-0.2)\n",
    "\n",
    "\n",
    "fp.plot_configure(ax2, view_azim=165-90, view_elev=90, view_radius=.08,light_source=True)\n",
    "    \n",
    "fp.plot_3dcore(ax2, model_obj, TP_A, color=C_A,light_source = True)\n",
    "fp.plot_3dcore(ax2, model_obj, TP_B, color=C_B,light_source = True)\n",
    "\n",
    "fp.plot_shift(ax2,0.26,-0.41,0.08,0.0)\n",
    "\n",
    "\n",
    "\n",
    "fp.plot_configure(ax3, view_azim=65, view_elev=-5, view_radius=.01,light_source=True)\n",
    "    \n",
    "fp.plot_3dcore(ax3, model_obj, TP_A, color=C_A,light_source = True)\n",
    "fp.plot_3dcore(ax3, model_obj, TP_B, color=C_B,light_source = True)\n",
    "\n",
    "fp.plot_shift(ax3,0.26,-0.41,0.08,0.0)\n",
    "\n"
   ]
  },
  {
   "cell_type": "code",
   "execution_count": null,
   "id": "3e3f04d0",
   "metadata": {},
   "outputs": [],
   "source": []
  },
  {
   "cell_type": "code",
   "execution_count": null,
   "id": "98f22ea6",
   "metadata": {},
   "outputs": [],
   "source": []
  }
 ],
 "metadata": {
  "kernelspec": {
   "display_name": "Python 3 (ipykernel)",
   "language": "python",
   "name": "python3"
  },
  "language_info": {
   "codemirror_mode": {
    "name": "ipython",
    "version": 3
   },
   "file_extension": ".py",
   "mimetype": "text/x-python",
   "name": "python",
   "nbconvert_exporter": "python",
   "pygments_lexer": "ipython3",
   "version": "3.10.9"
  }
 },
 "nbformat": 4,
 "nbformat_minor": 5
}
