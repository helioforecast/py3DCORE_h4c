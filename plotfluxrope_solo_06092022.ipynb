{
 "cells": [
  {
   "cell_type": "markdown",
   "id": "55f38fc1",
   "metadata": {},
   "source": [
    "# Example Notebook for plotting a fluxrope"
   ]
  },
  {
   "cell_type": "code",
   "execution_count": 49,
   "id": "d0d75b59",
   "metadata": {},
   "outputs": [
    {
     "name": "stdout",
     "output_type": "stream",
     "text": [
      "The autoreload extension is already loaded. To reload it, use:\n",
      "  %reload_ext autoreload\n",
      "0.12.2\n"
     ]
    }
   ],
   "source": [
    "%load_ext autoreload\n",
    "\n",
    "%autoreload 2\n",
    "\n",
    "import numpy as np\n",
    "import matplotlib.pyplot as plt\n",
    "\n",
    "import datetime as datetime\n",
    "from datetime import timedelta\n",
    "import seaborn as sns\n",
    "import pandas as pd\n",
    "\n",
    "import copy as cp\n",
    "\n",
    "import py3dcore_h4c as py3dcore_h4c\n",
    "\n",
    "import fluxplot as fp\n",
    "\n",
    "import warnings\n",
    "warnings.filterwarnings('ignore')\n",
    "\n",
    "print(sns.__version__)"
   ]
  },
  {
   "cell_type": "markdown",
   "id": "8c4aecaa",
   "metadata": {},
   "source": [
    "## simple speed calculation"
   ]
  },
  {
   "cell_type": "code",
   "execution_count": 50,
   "id": "a416fdb2",
   "metadata": {},
   "outputs": [
    {
     "name": "stdout",
     "output_type": "stream",
     "text": [
      "CME speed STEREO-A 1673.148148148148\n"
     ]
    }
   ],
   "source": [
    "#cor2 fov\n",
    "\n",
    "r1=13*695000\n",
    "\n",
    "\n",
    "#time in minutes from COR2 inner to outer\n",
    "t1=90*60\n",
    "\n",
    "\n",
    "speed=r1/t1\n",
    "\n",
    "print('CME speed STEREO-A',speed)\n",
    "\n",
    "\n",
    "#LASCO"
   ]
  },
  {
   "cell_type": "markdown",
   "id": "9cb6dabb",
   "metadata": {},
   "source": [
    "## ICMECAT"
   ]
  },
  {
   "cell_type": "code",
   "execution_count": 51,
   "id": "5404fe82",
   "metadata": {},
   "outputs": [
    {
     "name": "stdout",
     "output_type": "stream",
     "text": [
      "ICMECAT events near 1 AU 856\n"
     ]
    }
   ],
   "source": [
    "url='https://helioforecast.space/static/sync/icmecat/HELIO4CAST_ICMECAT_v21.csv'\n",
    "ic=pd.read_csv(url)\n",
    "ic=ic.drop(columns='Unnamed: 0') #drop an extra index column\n",
    "\n",
    "iwin=np.where(ic.sc_insitu=='Wind')[0]\n",
    "ista=np.where(ic.sc_insitu=='STEREO-A')[0]\n",
    "istb=np.where(ic.sc_insitu=='STEREO-B')[0]\n",
    "\n",
    "i1au=np.sort(np.hstack([iwin,ista,istb]))\n",
    "print('ICMECAT events near 1 AU',len(i1au))"
   ]
  },
  {
   "cell_type": "markdown",
   "id": "1bfd523f",
   "metadata": {},
   "source": [
    "## py3DCORE"
   ]
  },
  {
   "cell_type": "code",
   "execution_count": 52,
   "id": "71771256",
   "metadata": {},
   "outputs": [],
   "source": [
    "t_launch = datetime.datetime(2022, 9, 5, 17, 0, 0)\n",
    "\n",
    "#2022 Sep 5: 3 solar radii at 17 UT (COR2 & LASCO FoV appearance)"
   ]
  },
  {
   "cell_type": "code",
   "execution_count": 66,
   "id": "15e9bdb3",
   "metadata": {},
   "outputs": [],
   "source": [
    "\n",
    "iparams_arr = np.array([[\n",
    "    0,      # time offset\n",
    "    160,    # l_1 (longitude) HEEQ\n",
    "    0,#-20,    # l_2 (latitude)\n",
    "    5,      # o (inclination, orientation)\n",
    "    0.2,   # d_1au (frontal width at 1AU)\n",
    "    3,   # delta (cross-section aspect ratio)\n",
    "    3,      # r_0 (initialization distance in solar radii)\n",
    "    1400,    # v_0 (initial velocty in)\n",
    "    4,      # tau (magnetic field twist)\n",
    "    1.0,      # b_s (magnetic field scaling parameter)\n",
    "    25,     # b_1au (magnetic field strength at 1au)\n",
    "    0.5,    # Gamma (solar wind drag coefficient)\n",
    "    500,    # v_sw (solar wind speed)\n",
    "    0       # sigma (measurement noise)\n",
    "]], dtype=np.float32)"
   ]
  },
  {
   "cell_type": "code",
   "execution_count": 67,
   "id": "4e9f8d56",
   "metadata": {},
   "outputs": [],
   "source": [
    "overwrite = {\n",
    "    \"cme_longitude\": {\n",
    "            \"maximum\": 161,\n",
    "            \"minimum\": 159\n",
    "        },\n",
    "    \"cme_latitude\": {\n",
    "            \"maximum\": 1,\n",
    "            \"minimum\": -1\n",
    "        },\n",
    "    \"cme_inclination\" :{\n",
    "            \"maximum\": 6,\n",
    "            \"minimum\": 4\n",
    "        },\n",
    "    \"cme_diameter_1au\" :{\n",
    "            \"maximum\": 0.25,\n",
    "            \"minimum\": 0.15\n",
    "        },\n",
    "    \"cme_aspect_ratio\": {\n",
    "            \"maximum\": 3.1,\n",
    "            \"minimum\": 2.9\n",
    "        },\n",
    "    \"cme_launch_radius\": {\n",
    "            \"distribution\": \"uniform\",\n",
    "            \"maximum\": 4,\n",
    "            \"minimum\": 2\n",
    "        },\n",
    "    \"cme_launch_velocity\": {\n",
    "            \"maximum\": 1425,\n",
    "            \"minimum\": 1365\n",
    "        },\n",
    "    \"t_factor\": {\n",
    "            \"maximum\": 4.1,\n",
    "            \"minimum\": 3.9\n",
    "        },\n",
    "    \"magnetic_field_strength_1au\": {\n",
    "            \"maximum\": 56,\n",
    "            \"minimum\": 54\n",
    "        },\n",
    "    \"background_drag\": {\n",
    "            \"maximum\": 0.6,\n",
    "            \"minimum\": 0.4\n",
    "        },\n",
    "    \"background_velocity\": {\n",
    "            \"maximum\": 505,\n",
    "            \"minimum\": 495\n",
    "        },\n",
    "}\n"
   ]
  },
  {
   "cell_type": "code",
   "execution_count": 68,
   "id": "e07eea2b",
   "metadata": {},
   "outputs": [],
   "source": [
    "n = 1#number of runs\n",
    "\n",
    "#we initialize model for 1 run with default params\n",
    "\n",
    "model_obj = py3dcore_h4c.ToroidalModel(t_launch, n, iparams=overwrite)"
   ]
  },
  {
   "cell_type": "markdown",
   "id": "1868f9e4",
   "metadata": {},
   "source": [
    "    Model Parameters\n",
    "    ================\n",
    "        For this specific model there are a total of 14 initial parameters which are as follows:\n",
    "        0: t_i          time offset\n",
    "        1: lon          longitude\n",
    "        2: lat          latitude\n",
    "        3: inc          inclination\n",
    "\n",
    "        4: dia          cross section diameter at 1 AU\n",
    "        5: delta        cross section aspect ratio\n",
    "\n",
    "        6: r0           initial cme radius\n",
    "        7: v0           initial cme velocity\n",
    "        8: T            T factor (related to the twist)\n",
    "\n",
    "        9: n_a          expansion rate\n",
    "        10: n_b         magnetic field decay rate\n",
    "\n",
    "        11: b           magnetic field strength at center at 1AU\n",
    "        12: bg_d        solar wind background drag coefficient\n",
    "        13: bg_v        solar wind background speed\n",
    "\n",
    "        There are 4 state parameters which are as follows:\n",
    "        0: v_t          current velocity\n",
    "        1: rho_0        torus major radius\n",
    "        2: rho_1        torus minor radius\n",
    "        3: b_t          magnetic field strength at center"
   ]
  },
  {
   "cell_type": "code",
   "execution_count": 69,
   "id": "37d2c68a",
   "metadata": {},
   "outputs": [],
   "source": [
    "# after the model has been initialized, we generate a set of random initial parameters according to the table above\n",
    "\n",
    "model_obj.generator()\n",
    "#model_obj.update_iparams(iparams_arr, seed=42)\n",
    "\n",
    "\n",
    "#measurement times \n",
    "tm0 =  t_launch + datetime.timedelta(days=1.3)\n",
    "tm1 =  t_launch + datetime.timedelta(days=1.5)\n",
    "tm2 =  t_launch + datetime.timedelta(days=3.5)\n",
    "\n",
    "\n",
    "#colors for 3dplots\n",
    "\n",
    "c0 = 'mediumseagreen'\n",
    "c1 = \"xkcd:red\"\n",
    "c2 = \"xkcd:blue\"\n",
    "\n",
    "\n",
    "#colors for components in plots\n",
    "cbt = \"xkcd:black\"\n",
    "cbx = \"xkcd:magenta\"\n",
    "cby = \"xkcd:orange\"\n",
    "cbz = \"xkcd:azure\""
   ]
  },
  {
   "cell_type": "code",
   "execution_count": 70,
   "id": "f09cd3e3",
   "metadata": {},
   "outputs": [
    {
     "name": "stdout",
     "output_type": "stream",
     "text": [
      "(0.689, 150., 0.)\n"
     ]
    }
   ],
   "source": [
    "############# define synthetic satellite positions - semi-circle at 0.689 AU (SolO), from -180 to +180 longitude\n",
    "\n",
    "lonstart=-180\n",
    "lonstep=5\n",
    "lonend=180\n",
    "\n",
    "lonend=lonend+lonstep\n",
    "satpos=np.zeros(len(np.arange(lonstart,lonend,lonstep)),dtype=[('r',float),('lon', float),('lat', float)])\n",
    "#convert to recarray\n",
    "satpos = satpos.view(np.recarray)  \n",
    "\n",
    "##### set position\n",
    "satpos.r=0.689\n",
    "satpos.lon=np.arange(lonstart,lonend,lonstep)\n",
    "satpos.lat=0.0\n",
    "\n",
    "print(satpos[66])\n",
    "\n",
    "#print(satpos.r, satpos.lon)    \n",
    "\n",
    "#another satpos definition for a semi circle at 1.0 AU\n",
    "satpos2=cp.deepcopy(satpos)\n",
    "satpos2.r=1.0"
   ]
  },
  {
   "cell_type": "markdown",
   "id": "9ce6f771",
   "metadata": {},
   "source": [
    "## plot"
   ]
  },
  {
   "cell_type": "code",
   "execution_count": 71,
   "id": "004300e4",
   "metadata": {},
   "outputs": [],
   "source": [
    "#model_obj.iparams_arr[0][:]\n",
    "model_obj.iparams_arr[0][8] = 50"
   ]
  },
  {
   "cell_type": "code",
   "execution_count": 72,
   "id": "525745a0",
   "metadata": {},
   "outputs": [
    {
     "name": "stdout",
     "output_type": "stream",
     "text": [
      "ERROR\n"
     ]
    },
    {
     "data": {
      "image/png": "[encoded data removed]",
      "text/plain": [
       "<Figure size 840x630 with 1 Axes>"
      ]
     },
     "metadata": {},
     "output_type": "display_data"
    }
   ],
   "source": [
    "sns.set_context(\"talk\")     \n",
    "\n",
    "sns.set_style(\"ticks\",{'grid.linestyle': '--'})\n",
    "fsize=15\n",
    "\n",
    "fig=plt.figure(1,figsize=(12,9),dpi=70)\n",
    "ax = fig.add_subplot(111, projection='3d')\n",
    "\n",
    "fp.plot_configure(ax, view_azim=0, view_elev=90, view_radius=0.8)\n",
    "\n",
    "fp.plot_3dcore(ax, model_obj, tm0, color=c2)\n",
    "fp.plot_3dcore_field(ax, model_obj, color=c2, step_size=0.005, lw=1.1, ls=\"-\")\n",
    "fp.plot_satellite(ax,satpos[66],color='blue',alpha=0.9)\n",
    "\n",
    "\n",
    "# ax.plot([0,0.689],[0,0],[0,0],ls='-',color='black',lw=0.3)\n",
    "\n",
    "fp.plot_circle(ax,0.689)\n",
    "fp.plot_circle(ax,1.0)\n",
    "\n",
    "plt.tight_layout()\n",
    "\n",
    "\n",
    "#plt.savefig('results/initial_test.pdf')\n",
    "#plt.savefig('initial_test.png', dpi=100)"
   ]
  },
  {
   "cell_type": "code",
   "execution_count": null,
   "id": "0c349a54",
   "metadata": {},
   "outputs": [],
   "source": []
  },
  {
   "cell_type": "code",
   "execution_count": null,
   "id": "0b829853",
   "metadata": {},
   "outputs": [],
   "source": []
  }
 ],
 "metadata": {
  "kernelspec": {
   "display_name": "Python 3 (ipykernel)",
   "language": "python",
   "name": "python3"
  },
  "language_info": {
   "codemirror_mode": {
    "name": "ipython",
    "version": 3
   },
   "file_extension": ".py",
   "mimetype": "text/x-python",
   "name": "python",
   "nbconvert_exporter": "python",
   "pygments_lexer": "ipython3",
   "version": "3.8.15"
  }
 },
 "nbformat": 4,
 "nbformat_minor": 5
}
