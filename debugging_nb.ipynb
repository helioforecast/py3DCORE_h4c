{
 "cells": [
  {
   "cell_type": "code",
   "execution_count": 2,
   "id": "1c24af7b",
   "metadata": {},
   "outputs": [],
   "source": [
    "import cdflib\n",
    "\n",
    "path = 'py3dcore_h4c/custom_data/psp_mag_2022sep/psp_fld_l2_mag_rtn_1min_20220905_v02.cdf'\n",
    "file = cdflib.CDF(path)\n"
   ]
  },
  {
   "cell_type": "code",
   "execution_count": 26,
   "id": "38713427",
   "metadata": {},
   "outputs": [],
   "source": [
    "import pickle as p\n",
    "\n",
    "psp = p.load(open('py3dcore_h4c/custom_data/psp_2022sep.p', 'rb'))\n",
    "solo = p.load(open('py3dcore_h4c/custom_data/solo_2022sep.p', 'rb'))"
   ]
  },
  {
   "cell_type": "code",
   "execution_count": 29,
   "id": "0842a1e7",
   "metadata": {},
   "outputs": [
    {
     "data": {
      "text/plain": [
       "rec.array([(datetime.datetime(2022, 9, 5, 0, 0), -245.44749451,  140.26956177,  130.7592926 , 311.47715024, 0., 0., 0.,  0.0080436 , 0.09713055,  0.0009051 ),\n",
       "           (datetime.datetime(2022, 9, 5, 0, 1), -245.44749451,  140.26956177,  130.7592926 , 311.47715024, 0., 0., 0.,  0.00800113, 0.09710457,  0.00090206),\n",
       "           (datetime.datetime(2022, 9, 5, 0, 2), -263.01214323,   94.71574477,  126.14702898, 306.69126612, 0., 0., 0.,  0.00795866, 0.09707858,  0.00089903),\n",
       "           ...,\n",
       "           (datetime.datetime(2022, 9, 5, 23, 57),  635.83544291, -579.67864804, -183.6010033 , 879.78598186, 0., 0., 0., -0.04934863, 0.04040742, -0.00322396),\n",
       "           (datetime.datetime(2022, 9, 5, 23, 58),  651.64438238, -526.13283081, -171.31456557, 854.87124008, 0., 0., 0., -0.04937941, 0.04035197, -0.00322621),\n",
       "           (datetime.datetime(2022, 9, 5, 23, 59),  663.16103908, -464.87094119, -205.98769842, 835.65452647, 0., 0., 0., -0.04941016, 0.04029649, -0.00322846)],\n",
       "          dtype=[('time', 'O'), ('bx', '<f8'), ('by', '<f8'), ('bz', '<f8'), ('bt', '<f8'), ('r', '<f8'), ('lat', '<f8'), ('lon', '<f8'), ('x', '<f8'), ('y', '<f8'), ('z', '<f8')])"
      ]
     },
     "execution_count": 29,
     "metadata": {},
     "output_type": "execute_result"
    }
   ],
   "source": [
    "psp"
   ]
  },
  {
   "cell_type": "code",
   "execution_count": 30,
   "id": "cfedc03d",
   "metadata": {},
   "outputs": [
    {
     "data": {
      "text/plain": [
       "rec.array([(datetime.datetime(2022, 9, 2, 0, 0), -13.71879387, -11.34426117,   0.91195256, 17.82496071, 0.73874679, -3.01571741, 148.20044841, -0.62698905, 0.38874289, -0.03886539, 544.24233793, -10.43676192,  19.54354069, 544.69312313, 2.55087483e+05, 14.11655751),\n",
       "           (datetime.datetime(2022, 9, 2, 0, 1), -13.71879387, -11.34426117,   0.91195256, 17.82496071, 0.73874009, -3.01576508, 148.2006484 , -0.62698469, 0.38873715, -0.03886566, 547.49836363,  -8.67123175,  20.76360003, 547.96056019, 2.58778172e+05, 14.30900934),\n",
       "           (datetime.datetime(2022, 9, 2, 0, 2), -13.28217923, -11.09870345,   2.51415534, 17.49052545, 0.73873338, -3.01581275, 148.20084841, -0.62698033, 0.38873142, -0.03886592, 544.96635981,  -5.59146937,  13.60283878, 545.16477791, 2.61106832e+05, 14.23676711),\n",
       "           ...,\n",
       "           (datetime.datetime(2022, 9, 9, 23, 57),  -3.11511735,   4.89370936, -10.18997912, 11.72552864, 0.65790205, -4.36583765, 151.27810598, -0.57528135, 0.31524312, -0.05008248, 475.87234801,   5.40964351, -64.02021281, 480.18990357, 1.88185654e+37,  6.77222713),\n",
       "           (datetime.datetime(2022, 9, 9, 23, 58),  -4.59252784,   5.58939161,  -9.02969661, 11.57013532, 0.65789453, -4.36598694, 151.27847925, -0.57527671, 0.3152357 , -0.05008362, 473.83709481,   6.61946374, -58.21520282, 477.4457242 , 1.88123814e+37,  7.28215703),\n",
       "           (datetime.datetime(2022, 9, 9, 23, 59),  -5.5020426 ,   5.8264637 ,  -8.70617184, 11.83290244, 0.65788701, -4.36613623, 151.27885255, -0.57527208, 0.31522829, -0.05008476, 471.4261541 ,   3.56885485, -64.2672559 , 475.79999545, 1.62369539e+37,  6.72336091)],\n",
       "          dtype=[('time', 'O'), ('bx', '<f8'), ('by', '<f8'), ('bz', '<f8'), ('bt', '<f8'), ('r', '<f8'), ('lat', '<f8'), ('lon', '<f8'), ('x', '<f8'), ('y', '<f8'), ('z', '<f8'), ('vx', '<f8'), ('vy', '<f8'), ('vz', '<f8'), ('vt', '<f8'), ('tp', '<f8'), ('np', '<f8')])"
      ]
     },
     "execution_count": 30,
     "metadata": {},
     "output_type": "execute_result"
    }
   ],
   "source": [
    "solo"
   ]
  },
  {
   "cell_type": "code",
   "execution_count": 4,
   "id": "b8138657",
   "metadata": {},
   "outputs": [
    {
     "data": {
      "text/plain": [
       "['__class__',\n",
       " '__del__',\n",
       " '__delattr__',\n",
       " '__dict__',\n",
       " '__dir__',\n",
       " '__doc__',\n",
       " '__enter__',\n",
       " '__eq__',\n",
       " '__exit__',\n",
       " '__format__',\n",
       " '__ge__',\n",
       " '__getattribute__',\n",
       " '__getitem__',\n",
       " '__gt__',\n",
       " '__hash__',\n",
       " '__init__',\n",
       " '__init_subclass__',\n",
       " '__le__',\n",
       " '__lt__',\n",
       " '__module__',\n",
       " '__ne__',\n",
       " '__new__',\n",
       " '__reduce__',\n",
       " '__reduce_ex__',\n",
       " '__repr__',\n",
       " '__setattr__',\n",
       " '__sizeof__',\n",
       " '__str__',\n",
       " '__subclasshook__',\n",
       " '__weakref__',\n",
       " '_compressed',\n",
       " '_convert_data',\n",
       " '_convert_np_data',\n",
       " '_convert_option',\n",
       " '_convert_type',\n",
       " '_copyright',\n",
       " '_datatype_token',\n",
       " '_default_pad',\n",
       " '_encoding',\n",
       " '_encoding_token',\n",
       " '_endian',\n",
       " '_f',\n",
       " '_file_or_url_or_s3_handler',\n",
       " '_find_block',\n",
       " '_findrangerecords',\n",
       " '_findtimerecords',\n",
       " '_first_adr',\n",
       " '_first_rvariable',\n",
       " '_first_zvariable',\n",
       " '_get_attdata',\n",
       " '_get_attnames',\n",
       " '_get_varnames',\n",
       " '_leap_second_updated',\n",
       " '_major_token',\n",
       " '_majority',\n",
       " '_md5',\n",
       " '_md5_validation',\n",
       " '_num_att',\n",
       " '_num_rdim',\n",
       " '_num_rvariable',\n",
       " '_num_values',\n",
       " '_num_zvariable',\n",
       " '_post25',\n",
       " '_rdim_sizes',\n",
       " '_read_adr',\n",
       " '_read_adr2',\n",
       " '_read_adr3',\n",
       " '_read_adr_fast',\n",
       " '_read_adr_fast2',\n",
       " '_read_adr_fast3',\n",
       " '_read_aedr',\n",
       " '_read_aedr2',\n",
       " '_read_aedr3',\n",
       " '_read_aedr_fast',\n",
       " '_read_aedr_fast2',\n",
       " '_read_aedr_fast3',\n",
       " '_read_ccr',\n",
       " '_read_ccr2',\n",
       " '_read_cdr',\n",
       " '_read_cdr2',\n",
       " '_read_cpr',\n",
       " '_read_cpr2',\n",
       " '_read_cpr3',\n",
       " '_read_data',\n",
       " '_read_gdr',\n",
       " '_read_gdr2',\n",
       " '_read_varatts',\n",
       " '_read_vardata',\n",
       " '_read_vdr',\n",
       " '_read_vdr2',\n",
       " '_read_vdr3',\n",
       " '_read_vdr_fast',\n",
       " '_read_vdr_fast2',\n",
       " '_read_vdr_fast3',\n",
       " '_read_vvr_block',\n",
       " '_read_vvr_block2',\n",
       " '_read_vvrs',\n",
       " '_read_vxrs',\n",
       " '_read_vxrs2',\n",
       " '_rvariables_dim_sizes',\n",
       " '_rvariables_num_dims',\n",
       " '_scope_token',\n",
       " '_sparse_token',\n",
       " '_type_size',\n",
       " '_uncompress_file',\n",
       " '_uncompress_rle',\n",
       " '_unstream_file',\n",
       " '_variable_token',\n",
       " '_version',\n",
       " 'attget',\n",
       " 'attinq',\n",
       " 'cdf_info',\n",
       " 'cdfversion',\n",
       " 'close',\n",
       " 'compressed_file',\n",
       " 'epochrange',\n",
       " 'file',\n",
       " 'ftype',\n",
       " 'globalattsget',\n",
       " 'increment',\n",
       " 'print_attrs',\n",
       " 'release',\n",
       " 'string_encoding',\n",
       " 'temp_file',\n",
       " 'varattsget',\n",
       " 'varget',\n",
       " 'varinq',\n",
       " 'vdr_info',\n",
       " 'version']"
      ]
     },
     "execution_count": 4,
     "metadata": {},
     "output_type": "execute_result"
    }
   ],
   "source": [
    "dir(file)"
   ]
  },
  {
   "cell_type": "code",
   "execution_count": 12,
   "id": "99dbc4f0",
   "metadata": {},
   "outputs": [
    {
     "data": {
      "text/plain": [
       "array([[-245.4475  ,  140.26956 ,  130.7593  ],\n",
       "       [-296.0758  ,    8.965323,  117.46491 ],\n",
       "       [-303.70306 ,   82.08185 ,   92.89135 ],\n",
       "       ...,\n",
       "       [ 663.37933 , -482.3116  , -191.0392  ],\n",
       "       [ 662.7501  , -432.04065 , -234.12672 ],\n",
       "       [ 677.9531  , -374.43698 , -240.72241 ]], dtype=float32)"
      ]
     },
     "execution_count": 12,
     "metadata": {},
     "output_type": "execute_result"
    }
   ],
   "source": [
    "file.varget('psp_fld_l2_mag_RTN_1min')"
   ]
  },
  {
   "cell_type": "code",
   "execution_count": 13,
   "id": "6d885d4e",
   "metadata": {},
   "outputs": [
    {
     "data": {
      "text/plain": [
       "array([715608099184000000, 715608159184000000, 715608219184000000, ...,\n",
       "       715694319184000000, 715694379184000000, 715694439184000000])"
      ]
     },
     "execution_count": 13,
     "metadata": {},
     "output_type": "execute_result"
    }
   ],
   "source": [
    "file.varget('epoch_mag_RTN_1min')"
   ]
  },
  {
   "cell_type": "code",
   "execution_count": 14,
   "id": "c8938d3f",
   "metadata": {},
   "outputs": [
    {
     "data": {
      "text/plain": [
       "array([['B_R', 'B_T', 'B_N']], dtype='<U3')"
      ]
     },
     "execution_count": 14,
     "metadata": {},
     "output_type": "execute_result"
    }
   ],
   "source": [
    "file.varget('label_RTN')"
   ]
  },
  {
   "cell_type": "code",
   "execution_count": 11,
   "id": "11b8cdac",
   "metadata": {},
   "outputs": [
    {
     "data": {
      "text/plain": [
       "{'CDF': PosixPath('/home/hruedisser/py3DCORE_h4c/py3dcore_h4c/custom_data/psp_mag_2022sep/psp_fld_l2_mag_rtn_1min_20220905_v02.cdf'),\n",
       " 'Version': '3.8.0',\n",
       " 'Encoding': 1,\n",
       " 'Majority': 'Column_major',\n",
       " 'rVariables': [],\n",
       " 'zVariables': ['epoch_mag_RTN_1min',\n",
       "  'psp_fld_l2_mag_RTN_1min',\n",
       "  'label_RTN',\n",
       "  'component_index_RTN',\n",
       "  'epoch_quality_flags',\n",
       "  'psp_fld_l2_quality_flags'],\n",
       " 'Attributes': [{'TITLE': 'Global'},\n",
       "  {'Project': 'Global'},\n",
       "  {'Discipline': 'Global'},\n",
       "  {'Source_name': 'Global'},\n",
       "  {'Descriptor': 'Global'},\n",
       "  {'Data_type': 'Global'},\n",
       "  {'Data_version': 'Global'},\n",
       "  {'TEXT': 'Global'},\n",
       "  {'MODS': 'Global'},\n",
       "  {'Logical_file_id': 'Global'},\n",
       "  {'Logical_source': 'Global'},\n",
       "  {'Logical_source_description': 'Global'},\n",
       "  {'PI_name': 'Global'},\n",
       "  {'PI_affiliation': 'Global'},\n",
       "  {'Instrument_type': 'Global'},\n",
       "  {'Mission_group': 'Global'},\n",
       "  {'Parents': 'Global'},\n",
       "  {'mag_offset_calibration_files': 'Global'},\n",
       "  {'attitude_history_files': 'Global'},\n",
       "  {'Dependencies': 'Global'},\n",
       "  {'File_naming_convention': 'Global'},\n",
       "  {'Acknowledgement': 'Global'},\n",
       "  {'spase_DatasetResourceID': 'Global'},\n",
       "  {'Generated_by': 'Global'},\n",
       "  {'Rules_of_use': 'Global'},\n",
       "  {'Generation_date': 'Global'},\n",
       "  {'HTTP_LINK': 'Global'},\n",
       "  {'LINK_TEXT': 'Global'},\n",
       "  {'LINK_TITLE': 'Global'},\n",
       "  {'Time_resolution': 'Global'},\n",
       "  {'svn_version': 'Global'},\n",
       "  {'FIELDNAM': 'Variable'},\n",
       "  {'MONOTON': 'Variable'},\n",
       "  {'FORMAT': 'Variable'},\n",
       "  {'LABLAXIS': 'Variable'},\n",
       "  {'VAR_TYPE': 'Variable'},\n",
       "  {'FILLVAL': 'Variable'},\n",
       "  {'DEPEND_0': 'Variable'},\n",
       "  {'DEPEND_1': 'Variable'},\n",
       "  {'DISPLAY_TYPE': 'Variable'},\n",
       "  {'VALIDMIN': 'Variable'},\n",
       "  {'VALIDMAX': 'Variable'},\n",
       "  {'SCALEMIN': 'Variable'},\n",
       "  {'SCALEMAX': 'Variable'},\n",
       "  {'UNITS': 'Variable'},\n",
       "  {'SI_conv': 'Variable'},\n",
       "  {'CATDESC': 'Variable'},\n",
       "  {'TIME_BASE': 'Variable'},\n",
       "  {'VAR_NOTES': 'Variable'},\n",
       "  {'SCALETYP': 'Variable'},\n",
       "  {'LABL_PTR_1': 'Variable'},\n",
       "  {'RESOLUTION': 'Variable'},\n",
       "  {'TIME_SCALE': 'Variable'},\n",
       "  {'REFERENCE_POSITION': 'Variable'}],\n",
       " 'Copyright': '\\nCommon Data Format (CDF)\\nhttps://cdf.gsfc.nasa.gov\\nSpace Physics Data Facility\\nNASA/Goddard Space Flight Center\\nGreenbelt, Maryland 20771 USA\\n(User support: gsfc-cdf-support@lists.nasa.gov)\\n',\n",
       " 'Checksum': False,\n",
       " 'Num_rdim': 0,\n",
       " 'rDim_sizes': [],\n",
       " 'Compressed': False,\n",
       " 'LeapSecondUpdated': 20170101}"
      ]
     },
     "execution_count": 11,
     "metadata": {},
     "output_type": "execute_result"
    }
   ],
   "source": [
    "file.cdf_info()"
   ]
  },
  {
   "cell_type": "code",
   "execution_count": null,
   "id": "0bd70993",
   "metadata": {},
   "outputs": [],
   "source": []
  }
 ],
 "metadata": {
  "kernelspec": {
   "display_name": "Python [conda env:newtest] *",
   "language": "python",
   "name": "conda-env-newtest-py"
  },
  "language_info": {
   "codemirror_mode": {
    "name": "ipython",
    "version": 3
   },
   "file_extension": ".py",
   "mimetype": "text/x-python",
   "name": "python",
   "nbconvert_exporter": "python",
   "pygments_lexer": "ipython3",
   "version": "3.10.4"
  }
 },
 "nbformat": 4,
 "nbformat_minor": 5
}
