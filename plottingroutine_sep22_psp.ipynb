{
 "cells": [
  {
   "cell_type": "markdown",
   "id": "c2bc75eb",
   "metadata": {},
   "source": [
    "# Plotting routine for the Sep22 Event"
   ]
  },
  {
   "cell_type": "code",
   "execution_count": 1,
   "id": "659e8b86",
   "metadata": {},
   "outputs": [],
   "source": [
    "test = 'test'"
   ]
  },
  {
   "cell_type": "code",
   "execution_count": 2,
   "id": "d2887336",
   "metadata": {},
   "outputs": [],
   "source": [
    "%load_ext autoreload\n",
    "\n",
    "%autoreload 2\n",
    "\n",
    "import numpy as np\n",
    "import matplotlib.pyplot as plt\n",
    "import pickle as p\n",
    "\n",
    "import datetime as datetime\n",
    "from datetime import timedelta\n",
    "import seaborn as sns\n",
    "import pandas as pd\n",
    "import os\n",
    "#import copy as cp\n",
    "\n",
    "import multiprocessing\n",
    "import py3dcore_h4c as py3dcore_h4c\n",
    "\n",
    "import py3dcore_h4c.fluxplot as fp\n",
    "\n",
    "plt.switch_backend('agg')\n",
    "\n",
    "\n",
    "import warnings\n",
    "warnings.filterwarnings('ignore')\n",
    "\n",
    "import logging\n",
    "\n",
    "logging.basicConfig(level=logging.INFO)\n",
    "logging.getLogger(\"heliosat.spice\").setLevel(\"WARNING\")\n",
    "logging.getLogger(\"heliosat.spacecraft\").setLevel(\"WARNING\")\n",
    "#logging.getLogger(\"sunpy\").setLevel(\"WARNING\")\n",
    "#logging.getLogger(\"py3dcore_h4c.fluxplot\").setLevel(\"WARNING\")\n",
    "\n",
    "#print(sns.__version__)"
   ]
  },
  {
   "cell_type": "markdown",
   "id": "b3774001",
   "metadata": {},
   "source": [
    "#### setting the times for py3DCORE_h4c"
   ]
  },
  {
   "cell_type": "code",
   "execution_count": 3,
   "id": "e1155148",
   "metadata": {},
   "outputs": [],
   "source": [
    "t_launch = datetime.datetime(2022, 9, 5, 16, tzinfo=datetime.timezone.utc) # \n",
    "\n",
    "t_s = datetime.datetime(2022, 9, 5, 18, tzinfo=datetime.timezone.utc) \n",
    "t_e = datetime.datetime(2022, 9, 6, 1, tzinfo=datetime.timezone.utc)\n",
    "\n",
    "t_fit = [\n",
    "    datetime.datetime(2022, 9, 5, 18, 30, tzinfo=datetime.timezone.utc),\n",
    "    datetime.datetime(2022, 9, 5, 20, tzinfo=datetime.timezone.utc),\n",
    "    datetime.datetime(2022, 9, 5, 22, tzinfo=datetime.timezone.utc),\n",
    "    datetime.datetime(2022, 9, 6, 0, tzinfo=datetime.timezone.utc)\n",
    "]\n",
    "\n",
    "#t_fit = fp.equal_t_creator(start = start, n = 4, delta = 6)\n",
    "\n",
    "#####2022 Sep 5: 3 solar radii at 17 UT (COR2 & LASCO FoV appearance)\n",
    "# 2022 Sep 5: 15 solar radii at 18:45 UT (PSP)"
   ]
  },
  {
   "cell_type": "markdown",
   "id": "8202284a",
   "metadata": {},
   "source": [
    "#### loading the pickle files"
   ]
  },
  {
   "cell_type": "code",
   "execution_count": 4,
   "id": "d5e9feda",
   "metadata": {},
   "outputs": [
    {
     "data": {
      "text/plain": [
       "[datetime.datetime(2022, 9, 5, 18, 30, tzinfo=datetime.timezone.utc),\n",
       " datetime.datetime(2022, 9, 5, 20, 0, tzinfo=datetime.timezone.utc),\n",
       " datetime.datetime(2022, 9, 5, 22, 0, tzinfo=datetime.timezone.utc),\n",
       " datetime.datetime(2022, 9, 6, 0, 0, tzinfo=datetime.timezone.utc)]"
      ]
     },
     "execution_count": 4,
     "metadata": {},
     "output_type": "execute_result"
    }
   ],
   "source": [
    "t_fit"
   ]
  },
  {
   "cell_type": "code",
   "execution_count": 5,
   "id": "040d5792",
   "metadata": {},
   "outputs": [],
   "source": [
    "path = 'output/psp06092022_heeq_512_1/'\n",
    "\n",
    "filepath = fp.loadpickle(path, number = -1)"
   ]
  },
  {
   "cell_type": "code",
   "execution_count": 6,
   "id": "f52cce4a",
   "metadata": {},
   "outputs": [
    {
     "data": {
      "text/plain": [
       "'output/psp06092022_heeq_512_1/13'"
      ]
     },
     "execution_count": 6,
     "metadata": {},
     "output_type": "execute_result"
    }
   ],
   "source": [
    "filepath[:-7]"
   ]
  },
  {
   "cell_type": "markdown",
   "id": "c0f479ec",
   "metadata": {},
   "source": [
    "#### extracting parameters"
   ]
  },
  {
   "cell_type": "code",
   "execution_count": 48,
   "id": "7643f24a",
   "metadata": {},
   "outputs": [
    {
     "name": "stderr",
     "output_type": "stream",
     "text": [
      "INFO:py3dcore_h4c.fluxplot:Retrieved the following parameters for the run with minimum epsilon:\n",
      "INFO:py3dcore_h4c.fluxplot: --lon:  76.04\n",
      "INFO:py3dcore_h4c.fluxplot: --lat:  -19.30\n",
      "INFO:py3dcore_h4c.fluxplot: --inc:  6.73\n",
      "INFO:py3dcore_h4c.fluxplot: --diameter 1 AU:  0.29\n",
      "INFO:py3dcore_h4c.fluxplot: --aspect ratio:  1.40\n",
      "INFO:py3dcore_h4c.fluxplot: --launch radius:  13.03\n",
      "INFO:py3dcore_h4c.fluxplot: --launch speed:  1976.00\n",
      "INFO:py3dcore_h4c.fluxplot: --t factor:  192.63\n",
      "INFO:py3dcore_h4c.fluxplot: --expansion rate:  1.14\n",
      "INFO:py3dcore_h4c.fluxplot: --magnetic field decay rate:  1.64\n",
      "INFO:py3dcore_h4c.fluxplot: --magnetic field 1 AU:  8.51\n",
      "INFO:py3dcore_h4c.fluxplot: --drag coefficient:  1.87\n",
      "INFO:py3dcore_h4c.fluxplot: --sw background speed:  100.39\n"
     ]
    }
   ],
   "source": [
    "res, allres, ind, meanparams = fp.get_params(filepath, give_mineps=True)"
   ]
  },
  {
   "cell_type": "code",
   "execution_count": 49,
   "id": "b11aae1f",
   "metadata": {},
   "outputs": [],
   "source": [
    "out = fp.get_ensemble_stats(filepath)"
   ]
  },
  {
   "cell_type": "code",
   "execution_count": 50,
   "id": "307ec49b",
   "metadata": {},
   "outputs": [
    {
     "data": {
      "text/html": [
       "<div>\n",
       "<style scoped>\n",
       "    .dataframe tbody tr th:only-of-type {\n",
       "        vertical-align: middle;\n",
       "    }\n",
       "\n",
       "    .dataframe tbody tr th {\n",
       "        vertical-align: top;\n",
       "    }\n",
       "\n",
       "    .dataframe thead th {\n",
       "        text-align: right;\n",
       "    }\n",
       "</style>\n",
       "<table border=\"1\" class=\"dataframe\">\n",
       "  <thead>\n",
       "    <tr style=\"text-align: right;\">\n",
       "      <th></th>\n",
       "      <th>lon</th>\n",
       "      <th>lat</th>\n",
       "      <th>inc</th>\n",
       "      <th>D1AU</th>\n",
       "      <th>delta</th>\n",
       "      <th>launch radius</th>\n",
       "      <th>launch speed</th>\n",
       "      <th>t factor</th>\n",
       "      <th>B1AU</th>\n",
       "      <th>gamma</th>\n",
       "      <th>vsw</th>\n",
       "    </tr>\n",
       "  </thead>\n",
       "  <tbody>\n",
       "    <tr>\n",
       "      <th>count</th>\n",
       "      <td>512.000000</td>\n",
       "      <td>512.000000</td>\n",
       "      <td>512.000000</td>\n",
       "      <td>512.000000</td>\n",
       "      <td>512.000000</td>\n",
       "      <td>512.000000</td>\n",
       "      <td>512.000000</td>\n",
       "      <td>512.000000</td>\n",
       "      <td>512.000000</td>\n",
       "      <td>512.000000</td>\n",
       "      <td>512.000000</td>\n",
       "    </tr>\n",
       "    <tr>\n",
       "      <th>mean</th>\n",
       "      <td>73.547287</td>\n",
       "      <td>-16.260410</td>\n",
       "      <td>3.790438</td>\n",
       "      <td>0.298286</td>\n",
       "      <td>1.322295</td>\n",
       "      <td>13.331536</td>\n",
       "      <td>1790.229858</td>\n",
       "      <td>195.726044</td>\n",
       "      <td>7.481790</td>\n",
       "      <td>1.637771</td>\n",
       "      <td>152.038818</td>\n",
       "    </tr>\n",
       "    <tr>\n",
       "      <th>std</th>\n",
       "      <td>1.770907</td>\n",
       "      <td>2.121543</td>\n",
       "      <td>1.575535</td>\n",
       "      <td>0.024677</td>\n",
       "      <td>0.216009</td>\n",
       "      <td>0.484476</td>\n",
       "      <td>148.199402</td>\n",
       "      <td>27.670771</td>\n",
       "      <td>1.052507</td>\n",
       "      <td>0.266650</td>\n",
       "      <td>47.887653</td>\n",
       "    </tr>\n",
       "    <tr>\n",
       "      <th>min</th>\n",
       "      <td>68.451485</td>\n",
       "      <td>-19.956299</td>\n",
       "      <td>0.000186</td>\n",
       "      <td>0.227883</td>\n",
       "      <td>1.002483</td>\n",
       "      <td>11.716013</td>\n",
       "      <td>1272.493896</td>\n",
       "      <td>119.413979</td>\n",
       "      <td>5.019146</td>\n",
       "      <td>0.698808</td>\n",
       "      <td>100.158112</td>\n",
       "    </tr>\n",
       "    <tr>\n",
       "      <th>25%</th>\n",
       "      <td>72.284582</td>\n",
       "      <td>-17.884840</td>\n",
       "      <td>2.664175</td>\n",
       "      <td>0.281472</td>\n",
       "      <td>1.151131</td>\n",
       "      <td>13.060473</td>\n",
       "      <td>1706.376404</td>\n",
       "      <td>177.309181</td>\n",
       "      <td>6.692626</td>\n",
       "      <td>1.452294</td>\n",
       "      <td>116.262392</td>\n",
       "    </tr>\n",
       "    <tr>\n",
       "      <th>50%</th>\n",
       "      <td>73.726570</td>\n",
       "      <td>-16.430988</td>\n",
       "      <td>3.828349</td>\n",
       "      <td>0.299065</td>\n",
       "      <td>1.288844</td>\n",
       "      <td>13.441062</td>\n",
       "      <td>1818.738586</td>\n",
       "      <td>198.924965</td>\n",
       "      <td>7.465033</td>\n",
       "      <td>1.682794</td>\n",
       "      <td>136.485886</td>\n",
       "    </tr>\n",
       "    <tr>\n",
       "      <th>75%</th>\n",
       "      <td>74.865583</td>\n",
       "      <td>-14.883627</td>\n",
       "      <td>4.892369</td>\n",
       "      <td>0.316381</td>\n",
       "      <td>1.456471</td>\n",
       "      <td>13.720273</td>\n",
       "      <td>1907.054382</td>\n",
       "      <td>216.613392</td>\n",
       "      <td>8.162389</td>\n",
       "      <td>1.856927</td>\n",
       "      <td>176.718437</td>\n",
       "    </tr>\n",
       "    <tr>\n",
       "      <th>max</th>\n",
       "      <td>77.764130</td>\n",
       "      <td>-9.209253</td>\n",
       "      <td>8.172051</td>\n",
       "      <td>0.349891</td>\n",
       "      <td>2.192111</td>\n",
       "      <td>13.999943</td>\n",
       "      <td>1999.890747</td>\n",
       "      <td>249.016830</td>\n",
       "      <td>11.047436</td>\n",
       "      <td>1.999986</td>\n",
       "      <td>380.915619</td>\n",
       "    </tr>\n",
       "  </tbody>\n",
       "</table>\n",
       "</div>"
      ],
      "text/plain": [
       "              lon         lat         inc        D1AU       delta  \\\n",
       "count  512.000000  512.000000  512.000000  512.000000  512.000000   \n",
       "mean    73.547287  -16.260410    3.790438    0.298286    1.322295   \n",
       "std      1.770907    2.121543    1.575535    0.024677    0.216009   \n",
       "min     68.451485  -19.956299    0.000186    0.227883    1.002483   \n",
       "25%     72.284582  -17.884840    2.664175    0.281472    1.151131   \n",
       "50%     73.726570  -16.430988    3.828349    0.299065    1.288844   \n",
       "75%     74.865583  -14.883627    4.892369    0.316381    1.456471   \n",
       "max     77.764130   -9.209253    8.172051    0.349891    2.192111   \n",
       "\n",
       "       launch radius  launch speed    t factor        B1AU       gamma  \\\n",
       "count     512.000000    512.000000  512.000000  512.000000  512.000000   \n",
       "mean       13.331536   1790.229858  195.726044    7.481790    1.637771   \n",
       "std         0.484476    148.199402   27.670771    1.052507    0.266650   \n",
       "min        11.716013   1272.493896  119.413979    5.019146    0.698808   \n",
       "25%        13.060473   1706.376404  177.309181    6.692626    1.452294   \n",
       "50%        13.441062   1818.738586  198.924965    7.465033    1.682794   \n",
       "75%        13.720273   1907.054382  216.613392    8.162389    1.856927   \n",
       "max        13.999943   1999.890747  249.016830   11.047436    1.999986   \n",
       "\n",
       "              vsw  \n",
       "count  512.000000  \n",
       "mean   152.038818  \n",
       "std     47.887653  \n",
       "min    100.158112  \n",
       "25%    116.262392  \n",
       "50%    136.485886  \n",
       "75%    176.718437  \n",
       "max    380.915619  "
      ]
     },
     "execution_count": 50,
     "metadata": {},
     "output_type": "execute_result"
    }
   ],
   "source": [
    "out.describe()"
   ]
  },
  {
   "cell_type": "raw",
   "id": "e494dab8",
   "metadata": {},
   "source": [
    "import heliosat\n",
    "import matplotlib.dates\n",
    "\n",
    "observer = 'PSP'\n",
    "observer_obj = getattr(heliosat, observer)()\n",
    "\n",
    "start = t_s \n",
    "end = t_e\n",
    "\n",
    "dt, b = observer_obj.get([start, end], \"mag\", reference_frame=\"HEEQ\", as_endpoints=True)\n",
    "# print(dt)\n",
    "t = []\n",
    "t = [datetime.datetime.fromtimestamp(dt[i]) for i in range(len(dt))] # .strftime('%Y-%m-%d %H:%M:%S.%f')\n",
    "#print(t)\n",
    "\n",
    "pos = observer_obj.trajectory(t, reference_frame=\"HEEQ\")\n",
    "\n",
    "#print(t)"
   ]
  },
  {
   "cell_type": "raw",
   "id": "4bbc1177",
   "metadata": {},
   "source": [
    "print(t[0])"
   ]
  },
  {
   "cell_type": "raw",
   "id": "14bbeb89",
   "metadata": {},
   "source": [
    "dt = []\n",
    "dt = [datetime.datetime.fromtimestamp(t[i]) for i in range(len(t))] # .strftime('%Y-%m-%d %H:%M:%S.%f')\n",
    "#print(dt)"
   ]
  },
  {
   "cell_type": "markdown",
   "id": "09de67e3",
   "metadata": {},
   "source": [
    "#### loading and plotting the fitting results"
   ]
  },
  {
   "cell_type": "code",
   "execution_count": 8,
   "id": "34432c55",
   "metadata": {},
   "outputs": [
    {
     "name": "stderr",
     "output_type": "stream",
     "text": [
      "INFO:py3dcore_h4c.fluxplot:Using HelioSat to retrieve observer data\n",
      "INFO:py3dcore_h4c.fluxplot:No iparams_arr given, using parameters for run with minimum eps.\n",
      "INFO:py3dcore_h4c.fitter.base:Using HelioSat to retrieve observer data\n"
     ]
    }
   ],
   "source": [
    "fp.fullinsitu(observer='PSP', t_fit=t_fit, start=t_s, end=t_e, filepath=filepath, \n",
    "              custom_data=False, best=True, ensemble=True, mean=False, save_fig=False, legend=False, fixed=None)"
   ]
  },
  {
   "cell_type": "code",
   "execution_count": 11,
   "id": "75eba311",
   "metadata": {},
   "outputs": [],
   "source": [
    "fp.scatterparams(filepath)"
   ]
  },
  {
   "cell_type": "code",
   "execution_count": 12,
   "id": "5188596f",
   "metadata": {},
   "outputs": [
    {
     "name": "stdout",
     "output_type": "stream",
     "text": [
      "172.78905\n",
      "4.882709\n",
      "0.53428584\n",
      "266.25516\n"
     ]
    }
   ],
   "source": [
    "print(out['lon'].mean())\n",
    "print(out['lon'].std())\n",
    "print(out['launch radius'].std())\n",
    "print(out['launch speed'].std())"
   ]
  },
  {
   "cell_type": "markdown",
   "id": "8b9a69a0",
   "metadata": {},
   "source": [
    "#### Plotting the fluxrope and spacecraft positions"
   ]
  },
  {
   "cell_type": "code",
   "execution_count": 9,
   "id": "2b5131e7",
   "metadata": {},
   "outputs": [
    {
     "name": "stderr",
     "output_type": "stream",
     "text": [
      "INFO:sunpy:Obtained JPL HORIZONS location for Solar Orbiter (spacecraft) (-144\n"
     ]
    },
    {
     "name": "stdout",
     "output_type": "stream",
     "text": [
      "INFO: Obtained JPL HORIZONS location for Solar Orbiter (spacecraft) (-144 [sunpy.coordinates.ephemeris]\n"
     ]
    },
    {
     "name": "stderr",
     "output_type": "stream",
     "text": [
      "INFO:py3dcore_h4c.fluxplot:Indices of date: 59\n",
      "INFO:py3dcore_h4c.fluxplot:Solar Orbiter - r: 0.684483, lon: 150.072220, lat: -3.730396, \n",
      "INFO:sunpy:Obtained JPL HORIZONS location for Solar Orbiter (spacecraft) (-144\n",
      "INFO:py3dcore_h4c.fluxplot:Indices of date: 35\n",
      "INFO:py3dcore_h4c.fluxplot:Solar Orbiter - r: 0.684483, lon: 150.072220, lat: -3.730396, \n",
      "INFO:sunpy:Obtained JPL HORIZONS location for Parker Solar Probe (spacecraft)\n"
     ]
    },
    {
     "name": "stdout",
     "output_type": "stream",
     "text": [
      "INFO: Obtained JPL HORIZONS location for Solar Orbiter (spacecraft) (-144 [sunpy.coordinates.ephemeris]\n",
      "INFO: Obtained JPL HORIZONS location for Parker Solar Probe (spacecraft) [sunpy.coordinates.ephemeris]\n"
     ]
    },
    {
     "name": "stderr",
     "output_type": "stream",
     "text": [
      "INFO:py3dcore_h4c.fluxplot:Indices of date: 59\n",
      "INFO:py3dcore_h4c.fluxplot:Parker Solar Probe - r: 0.095459, lon: -122.155481, lat: -2.099772, \n",
      "INFO:sunpy:Obtained JPL HORIZONS location for Parker Solar Probe (spacecraft)\n",
      "INFO:py3dcore_h4c.fluxplot:Indices of date: 35\n",
      "INFO:py3dcore_h4c.fluxplot:Parker Solar Probe - r: 0.095459, lon: -122.155481, lat: -2.099772, \n"
     ]
    },
    {
     "name": "stdout",
     "output_type": "stream",
     "text": [
      "INFO: Obtained JPL HORIZONS location for Parker Solar Probe (spacecraft) [sunpy.coordinates.ephemeris]\n"
     ]
    }
   ],
   "source": [
    "#measurement times \n",
    "#tm0 =  t_launch + datetime.timedelta(days=1.5)\n",
    "tm0 =  datetime.datetime(2022, 9, 7, 1)\n",
    "tm1 =  t_launch + datetime.timedelta(days=1.7)\n",
    "tm2 =  t_launch + datetime.timedelta(days=3.5)\n",
    "\n",
    "fig = fp.full3d(spacecraftlist=['solo', 'psp'], planetlist =['Earth'],t = tm1, filepath = filepath)"
   ]
  },
  {
   "cell_type": "markdown",
   "id": "4f22fb12",
   "metadata": {},
   "source": [
    "### make fluxrope 3d movie"
   ]
  },
  {
   "cell_type": "code",
   "execution_count": 14,
   "id": "2a7048b0",
   "metadata": {},
   "outputs": [],
   "source": [
    "def make_frame(k):\n",
    "    tm0 = datetime.datetime(2022, 9, 5, 19)\n",
    "    t = tm0 + k*datetime.timedelta(hours=1)\n",
    "    \n",
    "    fig = fp.full3d(spacecraftlist=['solo', 'psp'], planetlist =['Earth'],\n",
    "              t = t, filepath = filepath, save_fig = False)\n",
    "    frmstr = '%05i' % (k) \n",
    "    plt.savefig(filepath[:-7] + 'movie_3d/'+frmstr+'.jpg',dpi=200)  \n",
    "    return fig\n",
    "    "
   ]
  },
  {
   "cell_type": "code",
   "execution_count": 15,
   "id": "b7fed1e2",
   "metadata": {},
   "outputs": [
    {
     "name": "stdout",
     "output_type": "stream",
     "text": [
      "done 1/4\n",
      "done 2/4\n",
      "done 3/4\n",
      "done 4/4\n"
     ]
    }
   ],
   "source": [
    "inn=[i for i in range(100)]\n",
    "\n",
    "\n",
    "mpool = multiprocessing.Pool(processes=5)\n",
    "mpool.map(make_frame, inn[0:20])\n",
    "mpool.close()\n",
    "mpool.join()\n",
    "\n",
    "print('done 1/4')\n",
    "\n",
    "mpool = multiprocessing.Pool(processes=5)\n",
    "mpool.map(make_frame, inn[20:40])\n",
    "mpool.close()\n",
    "mpool.join()\n",
    "\n",
    "print('done 2/4')\n",
    "\n",
    "mpool = multiprocessing.Pool(processes=5)\n",
    "mpool.map(make_frame, inn[40:60])\n",
    "mpool.close()\n",
    "mpool.join()\n",
    "\n",
    "print('done 3/4')\n",
    "\n",
    "mpool = multiprocessing.Pool(processes=5)\n",
    "mpool.map(make_frame, inn[40:80])\n",
    "mpool.close()\n",
    "mpool.join()\n",
    "\n",
    "print('done 4/4')"
   ]
  },
  {
   "cell_type": "code",
   "execution_count": 16,
   "id": "61c64dde",
   "metadata": {},
   "outputs": [
    {
     "data": {
      "text/plain": [
       "0"
      ]
     },
     "execution_count": 16,
     "metadata": {},
     "output_type": "execute_result"
    }
   ],
   "source": [
    "os.system('ffmpeg -r 25 -i '+filepath[:-7]+'movie_3d/%05d.jpg -b 5000k -r 25 '+filepath[:-7]+'movie_3d/full_3d_movie.mp4 -y -loglevel quiet')"
   ]
  },
  {
   "cell_type": "markdown",
   "id": "adb8102d",
   "metadata": {},
   "source": [
    "### plot fluxrope 3d multiview"
   ]
  },
  {
   "cell_type": "code",
   "execution_count": 17,
   "id": "02a287a8",
   "metadata": {},
   "outputs": [],
   "source": [
    "#measurement times \n",
    "#tm0 =  t_launch + datetime.timedelta(days=1.5)\n",
    "tm0 =  datetime.datetime(2022, 9, 7, 1)\n",
    "tm1 =  t_launch + datetime.timedelta(days=1.7)\n",
    "tm2 =  t_launch + datetime.timedelta(days=3.5)\n",
    "\n",
    "fig = fp.full3d_multiview(t_launch = t_launch, filepath=filepath)"
   ]
  },
  {
   "cell_type": "markdown",
   "id": "40837b9e",
   "metadata": {},
   "source": [
    "### make fluxrope 3d multiview movie"
   ]
  },
  {
   "cell_type": "code",
   "execution_count": 18,
   "id": "aa7a87f0",
   "metadata": {},
   "outputs": [],
   "source": [
    "def make_frame2(k):\n",
    "    tm0 = datetime.datetime(2022, 9, 5, 19)\n",
    "    t = tm0 + k*datetime.timedelta(hours=1)\n",
    "    frametime = k\n",
    "    \n",
    "    fig = fp.full3d_multiview_movie(t_launch = tm0, t = t, filepath=filepath,\n",
    "                                    frametime=k)\n",
    "    frmstr = '%05i' % (k) \n",
    "    plt.savefig(filepath[:-7] + 'movie_3d_multiview/'+frmstr+'.jpg',dpi=200)  \n",
    "    return fig"
   ]
  },
  {
   "cell_type": "code",
   "execution_count": 19,
   "id": "64ec4f5f",
   "metadata": {},
   "outputs": [
    {
     "name": "stdout",
     "output_type": "stream",
     "text": [
      "The history saving thread hit an unexpected error (OperationalError('disk I/O error')).History will not be written to the database.\n",
      "done 1/4\n",
      "done 2/4\n",
      "done 3/4\n",
      "done 4/4\n"
     ]
    }
   ],
   "source": [
    "inn=[i for i in range(100)]\n",
    "\n",
    "\n",
    "mpool = multiprocessing.Pool(processes=5)\n",
    "mpool.map(make_frame2, inn[0:20])\n",
    "mpool.close()\n",
    "mpool.join()\n",
    "\n",
    "print('done 1/4')\n",
    "\n",
    "mpool = multiprocessing.Pool(processes=5)\n",
    "mpool.map(make_frame2, inn[20:40])\n",
    "mpool.close()\n",
    "mpool.join()\n",
    "\n",
    "print('done 2/4')\n",
    "\n",
    "mpool = multiprocessing.Pool(processes=5)\n",
    "mpool.map(make_frame2, inn[40:60])\n",
    "mpool.close()\n",
    "mpool.join()\n",
    "\n",
    "print('done 3/4')\n",
    "\n",
    "mpool = multiprocessing.Pool(processes=5)\n",
    "mpool.map(make_frame2, inn[40:80])\n",
    "mpool.close()\n",
    "mpool.join()\n",
    "\n",
    "print('done 4/4')"
   ]
  },
  {
   "cell_type": "code",
   "execution_count": 20,
   "id": "16af3eb9",
   "metadata": {},
   "outputs": [
    {
     "data": {
      "text/plain": [
       "0"
      ]
     },
     "execution_count": 20,
     "metadata": {},
     "output_type": "execute_result"
    }
   ],
   "source": [
    "os.system('ffmpeg -r 25 -i '+filepath[:-7]+'movie_3d_multiview/%05d.jpg -b 5000k -r 25 '+filepath[:-7]+'movie_3d/full_3d_multiview_movie.mp4 -y -loglevel quiet')"
   ]
  },
  {
   "cell_type": "markdown",
   "id": "f6bea6ce",
   "metadata": {},
   "source": [
    "# Used for Debug"
   ]
  },
  {
   "cell_type": "code",
   "execution_count": 21,
   "id": "c989e674",
   "metadata": {},
   "outputs": [],
   "source": [
    "TP_A =  t_launch + datetime.timedelta(hours=2)\n",
    "TP_B =  t_launch + datetime.timedelta(hours=40)\n",
    "\n",
    "\n",
    "C_A = \"xkcd:red\"\n",
    "C_B = \"xkcd:blue\"\n",
    "    \n",
    "sns.set_style('whitegrid')\n",
    "\n",
    "fig = plt.figure(figsize=(15, 11),dpi=100)\n",
    "\n",
    "ax1 = plt.subplot2grid((2, 3), (0, 0),rowspan=2,colspan=2,projection='3d')  \n",
    "ax2 = plt.subplot2grid((2, 3), (0, 2),projection='3d')  \n",
    "ax3 = plt.subplot2grid((2, 3), (1, 2),projection='3d')  \n",
    "\n",
    "model_obj = fp.returnmodel(filepath)\n",
    "\n",
    "\n",
    "fp.plot_configure(ax1, view_azim=150, view_elev=25, view_radius=.2,light_source=True) #view_radius=.08\n",
    "\n",
    "fp.plot_3dcore(ax1, model_obj, TP_A, color=C_A,light_source = True)\n",
    "fp.plot_3dcore(ax1, model_obj, TP_B, color=C_B,light_source = True)\n",
    "\n",
    "fp.plot_shift(ax1,0.31,-0.25,0.0,-0.2)\n",
    "\n",
    "\n",
    "fp.plot_configure(ax2, view_azim=165-90, view_elev=90, view_radius=.08,light_source=True)\n",
    "    \n",
    "fp.plot_3dcore(ax2, model_obj, TP_A, color=C_A,light_source = True)\n",
    "fp.plot_3dcore(ax2, model_obj, TP_B, color=C_B,light_source = True)\n",
    "\n",
    "fp.plot_shift(ax2,0.26,-0.41,0.08,0.0)\n",
    "\n",
    "\n",
    "\n",
    "fp.plot_configure(ax3, view_azim=65, view_elev=-5, view_radius=.01,light_source=True)\n",
    "    \n",
    "fp.plot_3dcore(ax3, model_obj, TP_A, color=C_A,light_source = True)\n",
    "fp.plot_3dcore(ax3, model_obj, TP_B, color=C_B,light_source = True)\n",
    "\n",
    "fp.plot_shift(ax3,0.26,-0.41,0.08,0.0)\n",
    "\n"
   ]
  },
  {
   "cell_type": "code",
   "execution_count": null,
   "id": "ba071543",
   "metadata": {},
   "outputs": [],
   "source": []
  },
  {
   "cell_type": "code",
   "execution_count": null,
   "id": "b04375b7",
   "metadata": {},
   "outputs": [],
   "source": []
  }
 ],
 "metadata": {
  "kernelspec": {
   "display_name": "Python 3 (ipykernel)",
   "language": "python",
   "name": "python3"
  },
  "language_info": {
   "codemirror_mode": {
    "name": "ipython",
    "version": 3
   },
   "file_extension": ".py",
   "mimetype": "text/x-python",
   "name": "python",
   "nbconvert_exporter": "python",
   "pygments_lexer": "ipython3",
   "version": "3.10.4"
  }
 },
 "nbformat": 4,
 "nbformat_minor": 5
}
