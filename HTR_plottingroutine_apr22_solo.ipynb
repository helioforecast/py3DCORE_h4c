{
 "cells": [
  {
   "cell_type": "markdown",
   "id": "31b852af",
   "metadata": {},
   "source": [
    "# Plotting routine for the 2020 April 19 Event - SolO"
   ]
  },
  {
   "cell_type": "code",
   "execution_count": null,
   "id": "a72878d3",
   "metadata": {},
   "outputs": [],
   "source": [
    "test = 'test'"
   ]
  },
  {
   "cell_type": "code",
   "execution_count": 2,
   "id": "82ae667c",
   "metadata": {},
   "outputs": [],
   "source": [
    "%load_ext autoreload\n",
    "\n",
    "%autoreload 2\n",
    "\n",
    "import numpy as np\n",
    "import matplotlib.pyplot as plt\n",
    "import pickle as p\n",
    "\n",
    "import datetime as datetime\n",
    "from datetime import timedelta\n",
    "import seaborn as sns\n",
    "import pandas as pd\n",
    "import os\n",
    "#import copy as cp\n",
    "\n",
    "import multiprocessing\n",
    "import py3dcore_h4c as py3dcore_h4c\n",
    "\n",
    "import py3dcore_h4c.fluxplot as fp\n",
    "\n",
    "plt.switch_backend('agg')\n",
    "\n",
    "\n",
    "import warnings\n",
    "warnings.filterwarnings('ignore')\n",
    "\n",
    "import logging\n",
    "\n",
    "logging.basicConfig(level=logging.INFO)\n",
    "logging.getLogger(\"heliosat.spice\").setLevel(\"WARNING\")\n",
    "logging.getLogger(\"heliosat.spacecraft\").setLevel(\"WARNING\")\n",
    "#logging.getLogger(\"sunpy\").setLevel(\"WARNING\")\n",
    "#logging.getLogger(\"py3dcore_h4c.fluxplot\").setLevel(\"WARNING\")\n",
    "\n",
    "#print(sns.__version__)"
   ]
  },
  {
   "cell_type": "markdown",
   "id": "ead513e4",
   "metadata": {},
   "source": [
    "#### setting the times for py3DCORE_h4c"
   ]
  },
  {
   "cell_type": "code",
   "execution_count": 3,
   "id": "47664e78",
   "metadata": {},
   "outputs": [],
   "source": [
    "t_launch = datetime.datetime(2020, 4, 15, 23, tzinfo=datetime.timezone.utc) # \n",
    "\n",
    "t_s = datetime.datetime(2020, 4, 19, 15, tzinfo=datetime.timezone.utc) \n",
    "t_e = datetime.datetime(2020, 4, 20, 3, tzinfo=datetime.timezone.utc)\n",
    "\n",
    "t_fit = [\n",
    "        datetime.datetime(2020, 4, 19, 17, tzinfo=datetime.timezone.utc),\n",
    "        datetime.datetime(2020, 4, 19, 18, tzinfo=datetime.timezone.utc),\n",
    "        datetime.datetime(2020, 4, 19, 19, tzinfo=datetime.timezone.utc),\n",
    "        datetime.datetime(2020, 4, 19, 20, tzinfo=datetime.timezone.utc),\n",
    "        datetime.datetime(2020, 4, 19, 21, tzinfo=datetime.timezone.utc),\n",
    "        datetime.datetime(2020, 4, 19, 22, tzinfo=datetime.timezone.utc),\n",
    "        datetime.datetime(2020, 4, 19, 23, tzinfo=datetime.timezone.utc),\n",
    "        datetime.datetime(2020, 4, 20, 0, tzinfo=datetime.timezone.utc)\n",
    "]\n"
   ]
  },
  {
   "cell_type": "code",
   "execution_count": 4,
   "id": "536cbe97",
   "metadata": {},
   "outputs": [
    {
     "name": "stdout",
     "output_type": "stream",
     "text": [
      "['04/19/2020, 17:00:00', '04/19/2020, 18:00:00', '04/19/2020, 19:00:00', '04/19/2020, 20:00:00', '04/19/2020, 21:00:00', '04/19/2020, 22:00:00', '04/19/2020, 23:00:00', '04/20/2020, 00:00:00']\n"
     ]
    }
   ],
   "source": [
    "fittingPoints = []\n",
    "\n",
    "fittingPoints = [t_fit[i].strftime(\"%m/%d/%Y, %H:%M:%S\") for i in range(len(t_fit))]\n",
    "print(fittingPoints)"
   ]
  },
  {
   "cell_type": "markdown",
   "id": "f4716726",
   "metadata": {},
   "source": [
    "#### loading the pickle files"
   ]
  },
  {
   "cell_type": "code",
   "execution_count": 5,
   "id": "bcbfb27d",
   "metadata": {},
   "outputs": [],
   "source": [
    "path = 'output/HTR_solo19042020_heeq_512_2/'\n",
    "\n",
    "filepath = fp.loadpickle(path, number=-1)"
   ]
  },
  {
   "cell_type": "code",
   "execution_count": 6,
   "id": "9d406c94",
   "metadata": {},
   "outputs": [
    {
     "data": {
      "text/plain": [
       "'output/HTR_solo19042020_heeq_512_2/09'"
      ]
     },
     "execution_count": 6,
     "metadata": {},
     "output_type": "execute_result"
    }
   ],
   "source": [
    "filepath[:-7]"
   ]
  },
  {
   "cell_type": "markdown",
   "id": "68ebc46c",
   "metadata": {},
   "source": [
    "#### extracting parameters"
   ]
  },
  {
   "cell_type": "code",
   "execution_count": 7,
   "id": "01fcc6c7",
   "metadata": {},
   "outputs": [
    {
     "name": "stderr",
     "output_type": "stream",
     "text": [
      "INFO:py3dcore_h4c.fluxplot:Retrieved the following parameters for the run with minimum epsilon:\n",
      "INFO:py3dcore_h4c.fluxplot: --lon:  10.89\n",
      "INFO:py3dcore_h4c.fluxplot: --lat:  -11.18\n",
      "INFO:py3dcore_h4c.fluxplot: --inc:  347.91\n",
      "INFO:py3dcore_h4c.fluxplot: --diameter 1 AU:  0.10\n",
      "INFO:py3dcore_h4c.fluxplot: --aspect ratio:  2.82\n",
      "INFO:py3dcore_h4c.fluxplot: --launch radius:  35.00\n",
      "INFO:py3dcore_h4c.fluxplot: --launch speed:  445.68\n",
      "INFO:py3dcore_h4c.fluxplot: --t factor:  -130.39\n",
      "INFO:py3dcore_h4c.fluxplot: --expansion rate:  1.14\n",
      "INFO:py3dcore_h4c.fluxplot: --magnetic field decay rate:  1.64\n",
      "INFO:py3dcore_h4c.fluxplot: --magnetic field 1 AU:  13.16\n",
      "INFO:py3dcore_h4c.fluxplot: --drag coefficient:  1.91\n",
      "INFO:py3dcore_h4c.fluxplot: --sw background speed:  278.44\n"
     ]
    }
   ],
   "source": [
    "res, allres, ind, meanparams = fp.get_params(filepath, give_mineps=True)"
   ]
  },
  {
   "cell_type": "code",
   "execution_count": 8,
   "id": "63176fd1",
   "metadata": {},
   "outputs": [],
   "source": [
    "out = fp.get_ensemble_stats(filepath)"
   ]
  },
  {
   "cell_type": "code",
   "execution_count": 9,
   "id": "c0d95062",
   "metadata": {},
   "outputs": [
    {
     "data": {
      "text/html": [
       "<div>\n",
       "<style scoped>\n",
       "    .dataframe tbody tr th:only-of-type {\n",
       "        vertical-align: middle;\n",
       "    }\n",
       "\n",
       "    .dataframe tbody tr th {\n",
       "        vertical-align: top;\n",
       "    }\n",
       "\n",
       "    .dataframe thead th {\n",
       "        text-align: right;\n",
       "    }\n",
       "</style>\n",
       "<table border=\"1\" class=\"dataframe\">\n",
       "  <thead>\n",
       "    <tr style=\"text-align: right;\">\n",
       "      <th></th>\n",
       "      <th>lon</th>\n",
       "      <th>lat</th>\n",
       "      <th>inc</th>\n",
       "      <th>D1AU</th>\n",
       "      <th>delta</th>\n",
       "      <th>launch radius</th>\n",
       "      <th>launch speed</th>\n",
       "      <th>t factor</th>\n",
       "      <th>B1AU</th>\n",
       "      <th>gamma</th>\n",
       "      <th>vsw</th>\n",
       "    </tr>\n",
       "  </thead>\n",
       "  <tbody>\n",
       "    <tr>\n",
       "      <th>count</th>\n",
       "      <td>512.000000</td>\n",
       "      <td>512.000000</td>\n",
       "      <td>512.000000</td>\n",
       "      <td>512.000000</td>\n",
       "      <td>512.000000</td>\n",
       "      <td>512.0</td>\n",
       "      <td>512.000000</td>\n",
       "      <td>512.000000</td>\n",
       "      <td>512.000000</td>\n",
       "      <td>512.000000</td>\n",
       "      <td>512.000000</td>\n",
       "    </tr>\n",
       "    <tr>\n",
       "      <th>mean</th>\n",
       "      <td>8.142889</td>\n",
       "      <td>-5.800335</td>\n",
       "      <td>348.634491</td>\n",
       "      <td>0.093718</td>\n",
       "      <td>4.315435</td>\n",
       "      <td>35.0</td>\n",
       "      <td>475.488159</td>\n",
       "      <td>-173.313339</td>\n",
       "      <td>13.378570</td>\n",
       "      <td>3.172815</td>\n",
       "      <td>281.902283</td>\n",
       "    </tr>\n",
       "    <tr>\n",
       "      <th>std</th>\n",
       "      <td>3.239545</td>\n",
       "      <td>5.730076</td>\n",
       "      <td>2.720269</td>\n",
       "      <td>0.014007</td>\n",
       "      <td>1.947945</td>\n",
       "      <td>0.0</td>\n",
       "      <td>96.269684</td>\n",
       "      <td>55.175217</td>\n",
       "      <td>0.569567</td>\n",
       "      <td>0.559718</td>\n",
       "      <td>4.862748</td>\n",
       "    </tr>\n",
       "    <tr>\n",
       "      <th>min</th>\n",
       "      <td>-5.065135</td>\n",
       "      <td>-22.954977</td>\n",
       "      <td>340.781433</td>\n",
       "      <td>0.065031</td>\n",
       "      <td>1.072401</td>\n",
       "      <td>35.0</td>\n",
       "      <td>350.094788</td>\n",
       "      <td>-249.957138</td>\n",
       "      <td>11.771422</td>\n",
       "      <td>1.286846</td>\n",
       "      <td>275.035553</td>\n",
       "    </tr>\n",
       "    <tr>\n",
       "      <th>25%</th>\n",
       "      <td>6.367187</td>\n",
       "      <td>-9.757552</td>\n",
       "      <td>346.888863</td>\n",
       "      <td>0.084636</td>\n",
       "      <td>2.786687</td>\n",
       "      <td>35.0</td>\n",
       "      <td>395.953758</td>\n",
       "      <td>-216.540874</td>\n",
       "      <td>13.007606</td>\n",
       "      <td>2.839502</td>\n",
       "      <td>278.219765</td>\n",
       "    </tr>\n",
       "    <tr>\n",
       "      <th>50%</th>\n",
       "      <td>8.408908</td>\n",
       "      <td>-5.888193</td>\n",
       "      <td>348.749786</td>\n",
       "      <td>0.092501</td>\n",
       "      <td>4.069546</td>\n",
       "      <td>35.0</td>\n",
       "      <td>447.869537</td>\n",
       "      <td>-183.316711</td>\n",
       "      <td>13.373053</td>\n",
       "      <td>3.271136</td>\n",
       "      <td>280.995544</td>\n",
       "    </tr>\n",
       "    <tr>\n",
       "      <th>75%</th>\n",
       "      <td>10.321652</td>\n",
       "      <td>-1.849578</td>\n",
       "      <td>350.563576</td>\n",
       "      <td>0.100562</td>\n",
       "      <td>5.619204</td>\n",
       "      <td>35.0</td>\n",
       "      <td>537.346939</td>\n",
       "      <td>-141.486816</td>\n",
       "      <td>13.767063</td>\n",
       "      <td>3.628299</td>\n",
       "      <td>284.233734</td>\n",
       "    </tr>\n",
       "    <tr>\n",
       "      <th>max</th>\n",
       "      <td>18.766407</td>\n",
       "      <td>8.934712</td>\n",
       "      <td>355.775818</td>\n",
       "      <td>0.157067</td>\n",
       "      <td>8.949588</td>\n",
       "      <td>35.0</td>\n",
       "      <td>747.773987</td>\n",
       "      <td>19.036564</td>\n",
       "      <td>15.051676</td>\n",
       "      <td>3.997135</td>\n",
       "      <td>300.031067</td>\n",
       "    </tr>\n",
       "  </tbody>\n",
       "</table>\n",
       "</div>"
      ],
      "text/plain": [
       "              lon         lat         inc        D1AU       delta  \\\n",
       "count  512.000000  512.000000  512.000000  512.000000  512.000000   \n",
       "mean     8.142889   -5.800335  348.634491    0.093718    4.315435   \n",
       "std      3.239545    5.730076    2.720269    0.014007    1.947945   \n",
       "min     -5.065135  -22.954977  340.781433    0.065031    1.072401   \n",
       "25%      6.367187   -9.757552  346.888863    0.084636    2.786687   \n",
       "50%      8.408908   -5.888193  348.749786    0.092501    4.069546   \n",
       "75%     10.321652   -1.849578  350.563576    0.100562    5.619204   \n",
       "max     18.766407    8.934712  355.775818    0.157067    8.949588   \n",
       "\n",
       "       launch radius  launch speed    t factor        B1AU       gamma  \\\n",
       "count          512.0    512.000000  512.000000  512.000000  512.000000   \n",
       "mean            35.0    475.488159 -173.313339   13.378570    3.172815   \n",
       "std              0.0     96.269684   55.175217    0.569567    0.559718   \n",
       "min             35.0    350.094788 -249.957138   11.771422    1.286846   \n",
       "25%             35.0    395.953758 -216.540874   13.007606    2.839502   \n",
       "50%             35.0    447.869537 -183.316711   13.373053    3.271136   \n",
       "75%             35.0    537.346939 -141.486816   13.767063    3.628299   \n",
       "max             35.0    747.773987   19.036564   15.051676    3.997135   \n",
       "\n",
       "              vsw  \n",
       "count  512.000000  \n",
       "mean   281.902283  \n",
       "std      4.862748  \n",
       "min    275.035553  \n",
       "25%    278.219765  \n",
       "50%    280.995544  \n",
       "75%    284.233734  \n",
       "max    300.031067  "
      ]
     },
     "execution_count": 9,
     "metadata": {},
     "output_type": "execute_result"
    }
   ],
   "source": [
    "out.describe()"
   ]
  },
  {
   "cell_type": "raw",
   "id": "38eced97",
   "metadata": {},
   "source": [
    "# write output of describe() to csv-file\n",
    "out.describe().to_csv(filepath+'parameters.csv')\n",
    "\n",
    "# write parameters of whole ensemble to txt-file\n",
    "with open(filepath+'parameters_ensemble.txt', 'a') as f:\n",
    "    dfAsString = out.to_string(header=True, index=True)\n",
    "    f.write(dfAsString)"
   ]
  },
  {
   "cell_type": "raw",
   "id": "93ee91aa",
   "metadata": {},
   "source": [
    "names = ['lon: ', 'lat: ', 'inc: ', 'diameter 1 AU: ', 'aspect ratio: ', 'launch radius: ', 'launch speed: ', \n",
    "         't factor: ', 'expansion rate: ', 'magnetic field decay rate: ', 'magnetic field 1 AU: ', 'drag coefficient: ', \n",
    "         'background sw speed: ']\n",
    " \n",
    "# write output of describe() to txt-file    \n",
    "with open(filepath+'parameters_summary.txt', 'a') as f:\n",
    "    dfAsString = out.describe().to_string(header=True, index=True)\n",
    "    f.write(dfAsString)   \n",
    "    f.write('\\n')\n",
    "    f.write('Fitting points:')\n",
    "    f.write(str(fittingPoints))\n",
    "    f.write('\\n')\n",
    "    f.write('Parameters for run with min(eps):')\n",
    "    f.write('\\n')\n",
    "    for count, name in enumerate(names):\n",
    "        f.write(\" --{} {:.2f}\".format(name, res[count+1]))\n",
    "        f.write('\\n')"
   ]
  },
  {
   "cell_type": "markdown",
   "id": "08c89e2b",
   "metadata": {},
   "source": [
    "#### loading and plotting the fitting results"
   ]
  },
  {
   "cell_type": "code",
   "execution_count": 10,
   "id": "0b048301",
   "metadata": {},
   "outputs": [],
   "source": [
    "t_s = datetime.datetime(2020, 4, 19, 3, tzinfo=datetime.timezone.utc) \n",
    "t_e = datetime.datetime(2020, 4, 20, 23, tzinfo=datetime.timezone.utc)\n"
   ]
  },
  {
   "cell_type": "code",
   "execution_count": 11,
   "id": "fedbf40b",
   "metadata": {},
   "outputs": [
    {
     "name": "stderr",
     "output_type": "stream",
     "text": [
      "INFO:py3dcore_h4c.fluxplot:No iparams_arr given, using parameters for run with minimum eps.\n",
      "INFO:py3dcore_h4c.fitter.base:Using custom datafile: solo_2020apr.p\n"
     ]
    }
   ],
   "source": [
    "fp.fullinsitu(observer='solo', t_fit=t_fit, start=t_s, end=t_e, filepath=filepath, custom_data='solo_2020apr.p', best=True, ensemble=True, \n",
    "              mean=False, save_fig=True, legend=True, fixed=None, max_index=128, title=True, fit_points=True)"
   ]
  },
  {
   "cell_type": "code",
   "execution_count": 12,
   "id": "3caf1cc8",
   "metadata": {},
   "outputs": [],
   "source": [
    "fp.scatterparams(filepath)"
   ]
  },
  {
   "cell_type": "code",
   "execution_count": 13,
   "id": "d2d87860",
   "metadata": {},
   "outputs": [
    {
     "name": "stdout",
     "output_type": "stream",
     "text": [
      "8.142889\n",
      "3.239545\n",
      "0.0\n",
      "96.269684\n"
     ]
    }
   ],
   "source": [
    "print(out['lon'].mean())\n",
    "print(out['lon'].std())\n",
    "print(out['launch radius'].std())\n",
    "print(out['launch speed'].std())"
   ]
  },
  {
   "cell_type": "markdown",
   "id": "609d43d4",
   "metadata": {},
   "source": [
    "#### Plotting the fluxrope and spacecraft positions"
   ]
  },
  {
   "cell_type": "code",
   "execution_count": 17,
   "id": "3220e221",
   "metadata": {},
   "outputs": [
    {
     "name": "stdout",
     "output_type": "stream",
     "text": [
      "[[ 0.0000000e+00  7.3300233e+00 -6.3508064e-01  3.4989667e+02\n",
      "   9.6481480e-02  2.9753218e+00  1.9819479e+01  3.9040186e+02\n",
      "  -1.3290564e+02  1.1400000e+00  1.6400000e+00  1.3493753e+01\n",
      "   3.4057393e+00  2.7723972e+02]]\n"
     ]
    },
    {
     "name": "stderr",
     "output_type": "stream",
     "text": [
      "INFO:sunpy:Obtained JPL HORIZONS location for Solar Orbiter (spacecraft) (-144\n"
     ]
    },
    {
     "name": "stdout",
     "output_type": "stream",
     "text": [
      "INFO: Obtained JPL HORIZONS location for Solar Orbiter (spacecraft) (-144 [sunpy.coordinates.ephemeris]\n"
     ]
    },
    {
     "name": "stderr",
     "output_type": "stream",
     "text": [
      "INFO:py3dcore_h4c.fluxplot:Indices of date: 3779\n",
      "INFO:py3dcore_h4c.fluxplot:Solar Orbiter - r: 0.817380, lon: -4.411825, lat: -4.123343, \n",
      "INFO:sunpy:Obtained JPL HORIZONS location for Solar Orbiter (spacecraft) (-144\n"
     ]
    },
    {
     "name": "stdout",
     "output_type": "stream",
     "text": [
      "INFO: Obtained JPL HORIZONS location for Solar Orbiter (spacecraft) (-144 [sunpy.coordinates.ephemeris]\n"
     ]
    },
    {
     "name": "stderr",
     "output_type": "stream",
     "text": [
      "INFO:py3dcore_h4c.fluxplot:Indices of date: 2339\n",
      "INFO:py3dcore_h4c.fluxplot:Solar Orbiter - r: 0.817380, lon: -4.411825, lat: -4.123343, \n",
      "INFO:sunpy:Obtained JPL HORIZONS location for Parker Solar Probe (spacecraft)\n"
     ]
    },
    {
     "name": "stdout",
     "output_type": "stream",
     "text": [
      "INFO: Obtained JPL HORIZONS location for Parker Solar Probe (spacecraft) [sunpy.coordinates.ephemeris]\n"
     ]
    },
    {
     "name": "stderr",
     "output_type": "stream",
     "text": [
      "INFO:py3dcore_h4c.fluxplot:Indices of date: 3779\n",
      "INFO:py3dcore_h4c.fluxplot:Parker Solar Probe - r: 0.845138, lon: 135.030770, lat: 3.855412, \n",
      "INFO:sunpy:Obtained JPL HORIZONS location for Parker Solar Probe (spacecraft)\n"
     ]
    },
    {
     "name": "stdout",
     "output_type": "stream",
     "text": [
      "INFO: Obtained JPL HORIZONS location for Parker Solar Probe (spacecraft) [sunpy.coordinates.ephemeris]\n"
     ]
    },
    {
     "name": "stderr",
     "output_type": "stream",
     "text": [
      "INFO:py3dcore_h4c.fluxplot:Indices of date: 2339\n",
      "INFO:py3dcore_h4c.fluxplot:Parker Solar Probe - r: 0.845138, lon: 135.030770, lat: 3.855412, \n"
     ]
    }
   ],
   "source": [
    "#measurement times \n",
    "#tm0 =  t_launch + datetime.timedelta(days=1.5)\n",
    "tm0 =  datetime.datetime(2022, 9, 5, 16)\n",
    "tm1 =  t_launch + datetime.timedelta(days=1.7)\n",
    "tm2 =  t_launch + datetime.timedelta(days=3.5)\n",
    "\n",
    "fig = fp.full3d(spacecraftlist=['solo', 'psp'], planetlist=['Earth'], t=tm1, filepath=filepath)"
   ]
  },
  {
   "cell_type": "markdown",
   "id": "b871e851",
   "metadata": {},
   "source": [
    "### make fluxrope 3d movie"
   ]
  },
  {
   "cell_type": "code",
   "execution_count": 14,
   "id": "01566a4b",
   "metadata": {},
   "outputs": [],
   "source": [
    "def make_frame(k):\n",
    "    tm0 = datetime.datetime(2022, 9, 5, 19)\n",
    "    t = tm0 + k*datetime.timedelta(hours=1)\n",
    "    \n",
    "    fig = fp.full3d(spacecraftlist=['solo', 'psp'], planetlist =['Earth'],\n",
    "              t = t, filepath = filepath, save_fig = False)\n",
    "    frmstr = '%05i' % (k) \n",
    "    plt.savefig(filepath[:-7] + 'movie_3d/'+frmstr+'.jpg',dpi=200)  \n",
    "    return fig\n",
    "    "
   ]
  },
  {
   "cell_type": "code",
   "execution_count": 15,
   "id": "fd8251a5",
   "metadata": {},
   "outputs": [
    {
     "name": "stdout",
     "output_type": "stream",
     "text": [
      "done 1/4\n",
      "done 2/4\n",
      "done 3/4\n",
      "done 4/4\n"
     ]
    }
   ],
   "source": [
    "inn=[i for i in range(100)]\n",
    "\n",
    "\n",
    "mpool = multiprocessing.Pool(processes=5)\n",
    "mpool.map(make_frame, inn[0:20])\n",
    "mpool.close()\n",
    "mpool.join()\n",
    "\n",
    "print('done 1/4')\n",
    "\n",
    "mpool = multiprocessing.Pool(processes=5)\n",
    "mpool.map(make_frame, inn[20:40])\n",
    "mpool.close()\n",
    "mpool.join()\n",
    "\n",
    "print('done 2/4')\n",
    "\n",
    "mpool = multiprocessing.Pool(processes=5)\n",
    "mpool.map(make_frame, inn[40:60])\n",
    "mpool.close()\n",
    "mpool.join()\n",
    "\n",
    "print('done 3/4')\n",
    "\n",
    "mpool = multiprocessing.Pool(processes=5)\n",
    "mpool.map(make_frame, inn[40:80])\n",
    "mpool.close()\n",
    "mpool.join()\n",
    "\n",
    "print('done 4/4')"
   ]
  },
  {
   "cell_type": "code",
   "execution_count": 16,
   "id": "f0606df9",
   "metadata": {},
   "outputs": [
    {
     "data": {
      "text/plain": [
       "0"
      ]
     },
     "execution_count": 16,
     "metadata": {},
     "output_type": "execute_result"
    }
   ],
   "source": [
    "os.system('ffmpeg -r 25 -i '+filepath[:-7]+'movie_3d/%05d.jpg -b 5000k -r 25 '+filepath[:-7]+'movie_3d/full_3d_movie.mp4 -y -loglevel quiet')"
   ]
  },
  {
   "cell_type": "markdown",
   "id": "1ac02304",
   "metadata": {},
   "source": [
    "### plot fluxrope 3d multiview"
   ]
  },
  {
   "cell_type": "code",
   "execution_count": 17,
   "id": "4fe676c2",
   "metadata": {},
   "outputs": [],
   "source": [
    "#measurement times \n",
    "#tm0 =  t_launch + datetime.timedelta(days=1.5)\n",
    "tm0 =  datetime.datetime(2022, 9, 7, 1)\n",
    "tm1 =  t_launch + datetime.timedelta(days=1.7)\n",
    "tm2 =  t_launch + datetime.timedelta(days=3.5)\n",
    "\n",
    "fig = fp.full3d_multiview(t_launch = t_launch, filepath=filepath)"
   ]
  },
  {
   "cell_type": "markdown",
   "id": "603b2011",
   "metadata": {},
   "source": [
    "### make fluxrope 3d multiview movie"
   ]
  },
  {
   "cell_type": "code",
   "execution_count": 18,
   "id": "44194b53",
   "metadata": {},
   "outputs": [],
   "source": [
    "def make_frame2(k):\n",
    "    tm0 = datetime.datetime(2022, 9, 5, 19)\n",
    "    t = tm0 + k*datetime.timedelta(hours=1)\n",
    "    frametime = k\n",
    "    \n",
    "    fig = fp.full3d_multiview_movie(t_launch = tm0, t = t, filepath=filepath,\n",
    "                                    frametime=k)\n",
    "    frmstr = '%05i' % (k) \n",
    "    plt.savefig(filepath[:-7] + 'movie_3d_multiview/'+frmstr+'.jpg',dpi=200)  \n",
    "    return fig"
   ]
  },
  {
   "cell_type": "code",
   "execution_count": 19,
   "id": "9e58af9b",
   "metadata": {},
   "outputs": [
    {
     "name": "stdout",
     "output_type": "stream",
     "text": [
      "The history saving thread hit an unexpected error (OperationalError('disk I/O error')).History will not be written to the database.\n",
      "done 1/4\n",
      "done 2/4\n",
      "done 3/4\n",
      "done 4/4\n"
     ]
    }
   ],
   "source": [
    "inn=[i for i in range(100)]\n",
    "\n",
    "\n",
    "mpool = multiprocessing.Pool(processes=5)\n",
    "mpool.map(make_frame2, inn[0:20])\n",
    "mpool.close()\n",
    "mpool.join()\n",
    "\n",
    "print('done 1/4')\n",
    "\n",
    "mpool = multiprocessing.Pool(processes=5)\n",
    "mpool.map(make_frame2, inn[20:40])\n",
    "mpool.close()\n",
    "mpool.join()\n",
    "\n",
    "print('done 2/4')\n",
    "\n",
    "mpool = multiprocessing.Pool(processes=5)\n",
    "mpool.map(make_frame2, inn[40:60])\n",
    "mpool.close()\n",
    "mpool.join()\n",
    "\n",
    "print('done 3/4')\n",
    "\n",
    "mpool = multiprocessing.Pool(processes=5)\n",
    "mpool.map(make_frame2, inn[40:80])\n",
    "mpool.close()\n",
    "mpool.join()\n",
    "\n",
    "print('done 4/4')"
   ]
  },
  {
   "cell_type": "code",
   "execution_count": 20,
   "id": "830ca3d7",
   "metadata": {},
   "outputs": [
    {
     "data": {
      "text/plain": [
       "0"
      ]
     },
     "execution_count": 20,
     "metadata": {},
     "output_type": "execute_result"
    }
   ],
   "source": [
    "os.system('ffmpeg -r 25 -i '+filepath[:-7]+'movie_3d_multiview/%05d.jpg -b 5000k -r 25 '+filepath[:-7]+'movie_3d/full_3d_multiview_movie.mp4 -y -loglevel quiet')"
   ]
  },
  {
   "cell_type": "markdown",
   "id": "5c637450",
   "metadata": {},
   "source": [
    "# Used for Debug"
   ]
  },
  {
   "cell_type": "code",
   "execution_count": 21,
   "id": "ca05d3ff",
   "metadata": {},
   "outputs": [],
   "source": [
    "TP_A =  t_launch + datetime.timedelta(hours=2)\n",
    "TP_B =  t_launch + datetime.timedelta(hours=40)\n",
    "\n",
    "\n",
    "C_A = \"xkcd:red\"\n",
    "C_B = \"xkcd:blue\"\n",
    "    \n",
    "sns.set_style('whitegrid')\n",
    "\n",
    "fig = plt.figure(figsize=(15, 11),dpi=100)\n",
    "\n",
    "ax1 = plt.subplot2grid((2, 3), (0, 0),rowspan=2,colspan=2,projection='3d')  \n",
    "ax2 = plt.subplot2grid((2, 3), (0, 2),projection='3d')  \n",
    "ax3 = plt.subplot2grid((2, 3), (1, 2),projection='3d')  \n",
    "\n",
    "model_obj = fp.returnmodel(filepath)\n",
    "\n",
    "\n",
    "fp.plot_configure(ax1, view_azim=150, view_elev=25, view_radius=.2,light_source=True) #view_radius=.08\n",
    "\n",
    "fp.plot_3dcore(ax1, model_obj, TP_A, color=C_A,light_source = True)\n",
    "fp.plot_3dcore(ax1, model_obj, TP_B, color=C_B,light_source = True)\n",
    "\n",
    "fp.plot_shift(ax1,0.31,-0.25,0.0,-0.2)\n",
    "\n",
    "\n",
    "fp.plot_configure(ax2, view_azim=165-90, view_elev=90, view_radius=.08,light_source=True)\n",
    "    \n",
    "fp.plot_3dcore(ax2, model_obj, TP_A, color=C_A,light_source = True)\n",
    "fp.plot_3dcore(ax2, model_obj, TP_B, color=C_B,light_source = True)\n",
    "\n",
    "fp.plot_shift(ax2,0.26,-0.41,0.08,0.0)\n",
    "\n",
    "\n",
    "\n",
    "fp.plot_configure(ax3, view_azim=65, view_elev=-5, view_radius=.01,light_source=True)\n",
    "    \n",
    "fp.plot_3dcore(ax3, model_obj, TP_A, color=C_A,light_source = True)\n",
    "fp.plot_3dcore(ax3, model_obj, TP_B, color=C_B,light_source = True)\n",
    "\n",
    "fp.plot_shift(ax3,0.26,-0.41,0.08,0.0)\n",
    "\n"
   ]
  },
  {
   "cell_type": "code",
   "execution_count": null,
   "id": "f5b72869",
   "metadata": {},
   "outputs": [],
   "source": []
  },
  {
   "cell_type": "code",
   "execution_count": null,
   "id": "e7e32db9",
   "metadata": {},
   "outputs": [],
   "source": []
  }
 ],
 "metadata": {
  "kernelspec": {
   "display_name": "Python 3 (ipykernel)",
   "language": "python",
   "name": "python3"
  },
  "language_info": {
   "codemirror_mode": {
    "name": "ipython",
    "version": 3
   },
   "file_extension": ".py",
   "mimetype": "text/x-python",
   "name": "python",
   "nbconvert_exporter": "python",
   "pygments_lexer": "ipython3",
   "version": "3.10.8"
  }
 },
 "nbformat": 4,
 "nbformat_minor": 5
}
