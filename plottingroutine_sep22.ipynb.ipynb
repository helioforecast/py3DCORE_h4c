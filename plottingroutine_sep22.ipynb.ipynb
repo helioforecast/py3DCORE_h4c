{
 "cells": [
  {
   "cell_type": "markdown",
   "id": "179194d4",
   "metadata": {},
   "source": [
    "# Plotting routine for the Sep22 Event"
   ]
  },
  {
   "cell_type": "code",
   "execution_count": 1,
   "id": "368069d3",
   "metadata": {},
   "outputs": [],
   "source": [
    "test = 'test'"
   ]
  },
  {
   "cell_type": "code",
   "execution_count": 1,
   "id": "498a99d7",
   "metadata": {},
   "outputs": [],
   "source": [
    "%load_ext autoreload\n",
    "\n",
    "%autoreload 2\n",
    "\n",
    "import numpy as np\n",
    "import matplotlib.pyplot as plt\n",
    "import pickle as p\n",
    "\n",
    "import datetime as datetime\n",
    "from datetime import timedelta\n",
    "import seaborn as sns\n",
    "import pandas as pd\n",
    "import os\n",
    "#import copy as cp\n",
    "\n",
    "import multiprocessing\n",
    "import py3dcore_h4c as py3dcore_h4c\n",
    "\n",
    "import py3dcore_h4c.fluxplot as fp\n",
    "\n",
    "plt.switch_backend('agg')\n",
    "\n",
    "\n",
    "import warnings\n",
    "warnings.filterwarnings('ignore')\n",
    "\n",
    "import logging\n",
    "\n",
    "logging.basicConfig(level=logging.INFO)\n",
    "logging.getLogger(\"heliosat.spice\").setLevel(\"WARNING\")\n",
    "logging.getLogger(\"heliosat.spacecraft\").setLevel(\"WARNING\")\n",
    "#logging.getLogger(\"sunpy\").setLevel(\"WARNING\")\n",
    "#logging.getLogger(\"py3dcore_h4c.fluxplot\").setLevel(\"WARNING\")\n",
    "\n",
    "#print(sns.__version__)"
   ]
  },
  {
   "cell_type": "markdown",
   "id": "15d887f3",
   "metadata": {},
   "source": [
    "#### setting the times for py3DCORE_h4c"
   ]
  },
  {
   "cell_type": "code",
   "execution_count": 2,
   "id": "0302a6a1",
   "metadata": {},
   "outputs": [],
   "source": [
    "t_launch = datetime.datetime(2022, 9, 5, 18, 45, tzinfo=datetime.timezone.utc) # launch time assumed at CME impact at PSP at 14.72 Rs\n",
    "\n",
    "t_s = datetime.datetime(2022, 9, 7, 8, tzinfo=datetime.timezone.utc) \n",
    "t_e = datetime.datetime(2022, 9, 8, 3, tzinfo=datetime.timezone.utc)\n",
    "\n",
    "start = t_s + datetime.timedelta(hours=1)\n",
    "\n",
    "t_fit = [\n",
    "        datetime.datetime(2022, 9, 7, 9, tzinfo=datetime.timezone.utc),\n",
    "        datetime.datetime(2022, 9, 7, 15, tzinfo=datetime.timezone.utc),\n",
    "        datetime.datetime(2022, 9, 7, 20, tzinfo=datetime.timezone.utc),\n",
    "        datetime.datetime(2022, 9, 8, 2, tzinfo=datetime.timezone.utc)\n",
    "     ]\n",
    "\n",
    "#t_fit = fp.equal_t_creator(start = start, n = 4, delta = 6)\n",
    "\n",
    "#####2022 Sep 5: 3 solar radii at 17 UT (COR2 & LASCO FoV appearance)\n",
    "# 2022 Sep 5: 15 solar radii at 18:45 UT (PSP)"
   ]
  },
  {
   "cell_type": "markdown",
   "id": "7ee331b9",
   "metadata": {},
   "source": [
    "#### loading the pickle files"
   ]
  },
  {
   "cell_type": "code",
   "execution_count": 3,
   "id": "93aedb05",
   "metadata": {},
   "outputs": [
    {
     "data": {
      "text/plain": [
       "[datetime.datetime(2022, 9, 7, 9, 0, tzinfo=datetime.timezone.utc),\n",
       " datetime.datetime(2022, 9, 7, 15, 0, tzinfo=datetime.timezone.utc),\n",
       " datetime.datetime(2022, 9, 7, 20, 0, tzinfo=datetime.timezone.utc),\n",
       " datetime.datetime(2022, 9, 8, 2, 0, tzinfo=datetime.timezone.utc)]"
      ]
     },
     "execution_count": 3,
     "metadata": {},
     "output_type": "execute_result"
    }
   ],
   "source": [
    "t_fit"
   ]
  },
  {
   "cell_type": "code",
   "execution_count": 4,
   "id": "d62d5022",
   "metadata": {},
   "outputs": [],
   "source": [
    "path = 'output/solo06092022_heeq_1024_restrP_3/'\n",
    "\n",
    "filepath = fp.loadpickle(path, number = -1)"
   ]
  },
  {
   "cell_type": "code",
   "execution_count": 5,
   "id": "9011aa22",
   "metadata": {},
   "outputs": [
    {
     "data": {
      "text/plain": [
       "'output/solo06092022_heeq_1024_restrP_3/09'"
      ]
     },
     "execution_count": 5,
     "metadata": {},
     "output_type": "execute_result"
    }
   ],
   "source": [
    "filepath[:-7]"
   ]
  },
  {
   "cell_type": "markdown",
   "id": "182e8ea0",
   "metadata": {},
   "source": [
    "#### extracting parameters"
   ]
  },
  {
   "cell_type": "code",
   "execution_count": 6,
   "id": "0707b362",
   "metadata": {},
   "outputs": [
    {
     "name": "stderr",
     "output_type": "stream",
     "text": [
      "INFO:py3dcore_h4c.fluxplot:Retrieved the following parameters for the run with minimum epsilon:\n",
      "INFO:py3dcore_h4c.fluxplot: --lon:  172.04\n",
      "INFO:py3dcore_h4c.fluxplot: --lat:  -21.73\n",
      "INFO:py3dcore_h4c.fluxplot: --inc:  4.07\n",
      "INFO:py3dcore_h4c.fluxplot: --diameter 1 AU:  0.48\n",
      "INFO:py3dcore_h4c.fluxplot: --aspect ratio:  1.29\n",
      "INFO:py3dcore_h4c.fluxplot: --launch radius:  14.58\n",
      "INFO:py3dcore_h4c.fluxplot: --launch speed:  1086.66\n",
      "INFO:py3dcore_h4c.fluxplot: --t factor:  122.83\n",
      "INFO:py3dcore_h4c.fluxplot: --expansion rate:  1.14\n",
      "INFO:py3dcore_h4c.fluxplot: --magnetic field decay rate:  1.64\n",
      "INFO:py3dcore_h4c.fluxplot: --magnetic field 1 AU:  43.30\n",
      "INFO:py3dcore_h4c.fluxplot: --drag coefficient:  0.78\n",
      "INFO:py3dcore_h4c.fluxplot: --sw background speed:  682.75\n"
     ]
    }
   ],
   "source": [
    "res, allres, ind, meanparams = fp.get_params(filepath, give_mineps=True)"
   ]
  },
  {
   "cell_type": "code",
   "execution_count": 7,
   "id": "7a7c7cd0",
   "metadata": {},
   "outputs": [],
   "source": [
    "out = fp.get_ensemble_stats(filepath)"
   ]
  },
  {
   "cell_type": "code",
   "execution_count": 8,
   "id": "b65f313e",
   "metadata": {},
   "outputs": [
    {
     "data": {
      "text/html": [
       "<div>\n",
       "<style scoped>\n",
       "    .dataframe tbody tr th:only-of-type {\n",
       "        vertical-align: middle;\n",
       "    }\n",
       "\n",
       "    .dataframe tbody tr th {\n",
       "        vertical-align: top;\n",
       "    }\n",
       "\n",
       "    .dataframe thead th {\n",
       "        text-align: right;\n",
       "    }\n",
       "</style>\n",
       "<table border=\"1\" class=\"dataframe\">\n",
       "  <thead>\n",
       "    <tr style=\"text-align: right;\">\n",
       "      <th></th>\n",
       "      <th>lon</th>\n",
       "      <th>lat</th>\n",
       "      <th>inc</th>\n",
       "      <th>D1AU</th>\n",
       "      <th>delta</th>\n",
       "      <th>launch radius</th>\n",
       "      <th>launch speed</th>\n",
       "      <th>t factor</th>\n",
       "      <th>B1AU</th>\n",
       "      <th>gamma</th>\n",
       "      <th>vsw</th>\n",
       "    </tr>\n",
       "  </thead>\n",
       "  <tbody>\n",
       "    <tr>\n",
       "      <th>count</th>\n",
       "      <td>1024.000000</td>\n",
       "      <td>1024.000000</td>\n",
       "      <td>1024.000000</td>\n",
       "      <td>1024.000000</td>\n",
       "      <td>1024.000000</td>\n",
       "      <td>1024.000000</td>\n",
       "      <td>1024.000000</td>\n",
       "      <td>1024.000000</td>\n",
       "      <td>1024.000000</td>\n",
       "      <td>1024.000000</td>\n",
       "      <td>1024.000000</td>\n",
       "    </tr>\n",
       "    <tr>\n",
       "      <th>mean</th>\n",
       "      <td>172.789047</td>\n",
       "      <td>-20.968996</td>\n",
       "      <td>5.317990</td>\n",
       "      <td>0.435775</td>\n",
       "      <td>1.478697</td>\n",
       "      <td>15.027008</td>\n",
       "      <td>1481.486328</td>\n",
       "      <td>112.390656</td>\n",
       "      <td>36.826805</td>\n",
       "      <td>1.093474</td>\n",
       "      <td>630.816956</td>\n",
       "    </tr>\n",
       "    <tr>\n",
       "      <th>std</th>\n",
       "      <td>4.882709</td>\n",
       "      <td>4.488092</td>\n",
       "      <td>4.345445</td>\n",
       "      <td>0.031588</td>\n",
       "      <td>0.263533</td>\n",
       "      <td>0.534286</td>\n",
       "      <td>266.255157</td>\n",
       "      <td>27.676064</td>\n",
       "      <td>8.246074</td>\n",
       "      <td>0.413015</td>\n",
       "      <td>50.562969</td>\n",
       "    </tr>\n",
       "    <tr>\n",
       "      <th>min</th>\n",
       "      <td>157.494064</td>\n",
       "      <td>-29.956089</td>\n",
       "      <td>0.001406</td>\n",
       "      <td>0.343108</td>\n",
       "      <td>1.000628</td>\n",
       "      <td>14.001570</td>\n",
       "      <td>1000.068115</td>\n",
       "      <td>50.016071</td>\n",
       "      <td>9.407163</td>\n",
       "      <td>0.202732</td>\n",
       "      <td>409.386261</td>\n",
       "    </tr>\n",
       "    <tr>\n",
       "      <th>25%</th>\n",
       "      <td>169.609138</td>\n",
       "      <td>-24.157467</td>\n",
       "      <td>1.891583</td>\n",
       "      <td>0.413905</td>\n",
       "      <td>1.269414</td>\n",
       "      <td>14.581626</td>\n",
       "      <td>1263.906952</td>\n",
       "      <td>93.510096</td>\n",
       "      <td>30.784392</td>\n",
       "      <td>0.776106</td>\n",
       "      <td>604.079590</td>\n",
       "    </tr>\n",
       "    <tr>\n",
       "      <th>50%</th>\n",
       "      <td>172.701210</td>\n",
       "      <td>-21.140834</td>\n",
       "      <td>4.342335</td>\n",
       "      <td>0.435523</td>\n",
       "      <td>1.461018</td>\n",
       "      <td>15.056036</td>\n",
       "      <td>1472.353882</td>\n",
       "      <td>111.103722</td>\n",
       "      <td>37.579033</td>\n",
       "      <td>1.072614</td>\n",
       "      <td>641.642914</td>\n",
       "    </tr>\n",
       "    <tr>\n",
       "      <th>75%</th>\n",
       "      <td>175.867821</td>\n",
       "      <td>-17.759146</td>\n",
       "      <td>7.515204</td>\n",
       "      <td>0.459575</td>\n",
       "      <td>1.661660</td>\n",
       "      <td>15.468526</td>\n",
       "      <td>1690.569000</td>\n",
       "      <td>132.097923</td>\n",
       "      <td>43.515741</td>\n",
       "      <td>1.409288</td>\n",
       "      <td>669.390167</td>\n",
       "    </tr>\n",
       "    <tr>\n",
       "      <th>max</th>\n",
       "      <td>199.343094</td>\n",
       "      <td>-6.955032</td>\n",
       "      <td>25.087234</td>\n",
       "      <td>0.499819</td>\n",
       "      <td>2.466285</td>\n",
       "      <td>15.997504</td>\n",
       "      <td>1998.125488</td>\n",
       "      <td>209.505661</td>\n",
       "      <td>49.992947</td>\n",
       "      <td>1.997228</td>\n",
       "      <td>699.978271</td>\n",
       "    </tr>\n",
       "  </tbody>\n",
       "</table>\n",
       "</div>"
      ],
      "text/plain": [
       "               lon          lat          inc         D1AU        delta  \\\n",
       "count  1024.000000  1024.000000  1024.000000  1024.000000  1024.000000   \n",
       "mean    172.789047   -20.968996     5.317990     0.435775     1.478697   \n",
       "std       4.882709     4.488092     4.345445     0.031588     0.263533   \n",
       "min     157.494064   -29.956089     0.001406     0.343108     1.000628   \n",
       "25%     169.609138   -24.157467     1.891583     0.413905     1.269414   \n",
       "50%     172.701210   -21.140834     4.342335     0.435523     1.461018   \n",
       "75%     175.867821   -17.759146     7.515204     0.459575     1.661660   \n",
       "max     199.343094    -6.955032    25.087234     0.499819     2.466285   \n",
       "\n",
       "       launch radius  launch speed     t factor         B1AU        gamma  \\\n",
       "count    1024.000000   1024.000000  1024.000000  1024.000000  1024.000000   \n",
       "mean       15.027008   1481.486328   112.390656    36.826805     1.093474   \n",
       "std         0.534286    266.255157    27.676064     8.246074     0.413015   \n",
       "min        14.001570   1000.068115    50.016071     9.407163     0.202732   \n",
       "25%        14.581626   1263.906952    93.510096    30.784392     0.776106   \n",
       "50%        15.056036   1472.353882   111.103722    37.579033     1.072614   \n",
       "75%        15.468526   1690.569000   132.097923    43.515741     1.409288   \n",
       "max        15.997504   1998.125488   209.505661    49.992947     1.997228   \n",
       "\n",
       "               vsw  \n",
       "count  1024.000000  \n",
       "mean    630.816956  \n",
       "std      50.562969  \n",
       "min     409.386261  \n",
       "25%     604.079590  \n",
       "50%     641.642914  \n",
       "75%     669.390167  \n",
       "max     699.978271  "
      ]
     },
     "execution_count": 8,
     "metadata": {},
     "output_type": "execute_result"
    }
   ],
   "source": [
    "out.describe()"
   ]
  },
  {
   "cell_type": "markdown",
   "id": "298e3da5",
   "metadata": {},
   "source": [
    "#### loading and plotting the fitting results"
   ]
  },
  {
   "cell_type": "code",
   "execution_count": 10,
   "id": "0d59bd88",
   "metadata": {},
   "outputs": [
    {
     "name": "stderr",
     "output_type": "stream",
     "text": [
      "INFO:py3dcore_h4c.fitter.base:Using custom datafile: solo_2022sep.p\n"
     ]
    },
    {
     "name": "stdout",
     "output_type": "stream",
     "text": [
      "[datetime.datetime(2022, 9, 7, 8, 0, tzinfo=datetime.timezone.utc)\n",
      " datetime.datetime(2022, 9, 7, 8, 1, 0, 52678, tzinfo=datetime.timezone.utc)\n",
      " datetime.datetime(2022, 9, 7, 8, 2, 0, 105356, tzinfo=datetime.timezone.utc)\n",
      " ...\n",
      " datetime.datetime(2022, 9, 8, 2, 57, 59, 894644, tzinfo=datetime.timezone.utc)\n",
      " datetime.datetime(2022, 9, 8, 2, 58, 59, 947322, tzinfo=datetime.timezone.utc)\n",
      " datetime.datetime(2022, 9, 8, 3, 0, tzinfo=datetime.timezone.utc)]\n",
      "[[-0.59285783  0.34209429 -0.0455488 ]\n",
      " [-0.5928533   0.3420877  -0.04555002]\n",
      " [-0.59284877  0.34208111 -0.04555125]\n",
      " ...\n",
      " [-0.58769104  0.33446584 -0.04692631]\n",
      " [-0.58768648  0.33445901 -0.04692751]\n",
      " [-0.58767736  0.33444535 -0.04692991]]\n"
     ]
    }
   ],
   "source": [
    "fp.fullinsitu(observer='solo', t_fit=t_fit, start=t_s, end=t_e, filepath=filepath, \n",
    "              custom_data='solo_2022sep.p', best=False, ensemble=True, mean=True, save_fig=True, legend=True, fixed=None)"
   ]
  },
  {
   "cell_type": "code",
   "execution_count": 11,
   "id": "ac1b4153",
   "metadata": {},
   "outputs": [],
   "source": [
    "fp.scatterparams(filepath)"
   ]
  },
  {
   "cell_type": "code",
   "execution_count": 12,
   "id": "1ff78b77",
   "metadata": {},
   "outputs": [
    {
     "name": "stdout",
     "output_type": "stream",
     "text": [
      "172.78905\n",
      "4.882709\n",
      "0.53428584\n",
      "266.25516\n"
     ]
    }
   ],
   "source": [
    "print(out['lon'].mean())\n",
    "print(out['lon'].std())\n",
    "print(out['launch radius'].std())\n",
    "print(out['launch speed'].std())"
   ]
  },
  {
   "cell_type": "markdown",
   "id": "d792a334",
   "metadata": {},
   "source": [
    "#### Plotting the fluxrope and spacecraft positions"
   ]
  },
  {
   "cell_type": "code",
   "execution_count": 9,
   "id": "65c9185c",
   "metadata": {},
   "outputs": [
    {
     "name": "stderr",
     "output_type": "stream",
     "text": [
      "INFO:sunpy:Obtained JPL HORIZONS location for Solar Orbiter (spacecraft) (-144\n"
     ]
    },
    {
     "name": "stdout",
     "output_type": "stream",
     "text": [
      "INFO: Obtained JPL HORIZONS location for Solar Orbiter (spacecraft) (-144 [sunpy.coordinates.ephemeris]\n"
     ]
    },
    {
     "name": "stderr",
     "output_type": "stream",
     "text": [
      "INFO:py3dcore_h4c.fluxplot:Indices of date: 59\n",
      "INFO:py3dcore_h4c.fluxplot:Solar Orbiter - r: 0.684483, lon: 150.072220, lat: -3.730396, \n",
      "INFO:sunpy:Obtained JPL HORIZONS location for Solar Orbiter (spacecraft) (-144\n",
      "INFO:py3dcore_h4c.fluxplot:Indices of date: 35\n",
      "INFO:py3dcore_h4c.fluxplot:Solar Orbiter - r: 0.684483, lon: 150.072220, lat: -3.730396, \n",
      "INFO:sunpy:Obtained JPL HORIZONS location for Parker Solar Probe (spacecraft)\n"
     ]
    },
    {
     "name": "stdout",
     "output_type": "stream",
     "text": [
      "INFO: Obtained JPL HORIZONS location for Solar Orbiter (spacecraft) (-144 [sunpy.coordinates.ephemeris]\n",
      "INFO: Obtained JPL HORIZONS location for Parker Solar Probe (spacecraft) [sunpy.coordinates.ephemeris]\n"
     ]
    },
    {
     "name": "stderr",
     "output_type": "stream",
     "text": [
      "INFO:py3dcore_h4c.fluxplot:Indices of date: 59\n",
      "INFO:py3dcore_h4c.fluxplot:Parker Solar Probe - r: 0.095459, lon: -122.155481, lat: -2.099772, \n",
      "INFO:sunpy:Obtained JPL HORIZONS location for Parker Solar Probe (spacecraft)\n",
      "INFO:py3dcore_h4c.fluxplot:Indices of date: 35\n",
      "INFO:py3dcore_h4c.fluxplot:Parker Solar Probe - r: 0.095459, lon: -122.155481, lat: -2.099772, \n"
     ]
    },
    {
     "name": "stdout",
     "output_type": "stream",
     "text": [
      "INFO: Obtained JPL HORIZONS location for Parker Solar Probe (spacecraft) [sunpy.coordinates.ephemeris]\n"
     ]
    }
   ],
   "source": [
    "#measurement times \n",
    "#tm0 =  t_launch + datetime.timedelta(days=1.5)\n",
    "tm0 =  datetime.datetime(2022, 9, 7, 1)\n",
    "tm1 =  t_launch + datetime.timedelta(days=1.7)\n",
    "tm2 =  t_launch + datetime.timedelta(days=3.5)\n",
    "\n",
    "fig = fp.full3d(spacecraftlist=['solo', 'psp'], planetlist =['Earth'],t = tm1, filepath = filepath)"
   ]
  },
  {
   "cell_type": "markdown",
   "id": "aab12923",
   "metadata": {},
   "source": [
    "### make fluxrope 3d movie"
   ]
  },
  {
   "cell_type": "code",
   "execution_count": 14,
   "id": "568debdc",
   "metadata": {},
   "outputs": [],
   "source": [
    "def make_frame(k):\n",
    "    tm0 = datetime.datetime(2022, 9, 5, 19)\n",
    "    t = tm0 + k*datetime.timedelta(hours=1)\n",
    "    \n",
    "    fig = fp.full3d(spacecraftlist=['solo', 'psp'], planetlist =['Earth'],\n",
    "              t = t, filepath = filepath, save_fig = False)\n",
    "    frmstr = '%05i' % (k) \n",
    "    plt.savefig(filepath[:-7] + 'movie_3d/'+frmstr+'.jpg',dpi=200)  \n",
    "    return fig\n",
    "    "
   ]
  },
  {
   "cell_type": "code",
   "execution_count": 15,
   "id": "591af3e0",
   "metadata": {},
   "outputs": [
    {
     "name": "stdout",
     "output_type": "stream",
     "text": [
      "done 1/4\n",
      "done 2/4\n",
      "done 3/4\n",
      "done 4/4\n"
     ]
    }
   ],
   "source": [
    "inn=[i for i in range(100)]\n",
    "\n",
    "\n",
    "mpool = multiprocessing.Pool(processes=5)\n",
    "mpool.map(make_frame, inn[0:20])\n",
    "mpool.close()\n",
    "mpool.join()\n",
    "\n",
    "print('done 1/4')\n",
    "\n",
    "mpool = multiprocessing.Pool(processes=5)\n",
    "mpool.map(make_frame, inn[20:40])\n",
    "mpool.close()\n",
    "mpool.join()\n",
    "\n",
    "print('done 2/4')\n",
    "\n",
    "mpool = multiprocessing.Pool(processes=5)\n",
    "mpool.map(make_frame, inn[40:60])\n",
    "mpool.close()\n",
    "mpool.join()\n",
    "\n",
    "print('done 3/4')\n",
    "\n",
    "mpool = multiprocessing.Pool(processes=5)\n",
    "mpool.map(make_frame, inn[40:80])\n",
    "mpool.close()\n",
    "mpool.join()\n",
    "\n",
    "print('done 4/4')"
   ]
  },
  {
   "cell_type": "code",
   "execution_count": 16,
   "id": "4c78b5cc",
   "metadata": {},
   "outputs": [
    {
     "data": {
      "text/plain": [
       "0"
      ]
     },
     "execution_count": 16,
     "metadata": {},
     "output_type": "execute_result"
    }
   ],
   "source": [
    "os.system('ffmpeg -r 25 -i '+filepath[:-7]+'movie_3d/%05d.jpg -b 5000k -r 25 '+filepath[:-7]+'movie_3d/full_3d_movie.mp4 -y -loglevel quiet')"
   ]
  },
  {
   "cell_type": "markdown",
   "id": "b12f8a12",
   "metadata": {},
   "source": [
    "### plot fluxrope 3d multiview"
   ]
  },
  {
   "cell_type": "code",
   "execution_count": 17,
   "id": "066dd175",
   "metadata": {},
   "outputs": [],
   "source": [
    "#measurement times \n",
    "#tm0 =  t_launch + datetime.timedelta(days=1.5)\n",
    "tm0 =  datetime.datetime(2022, 9, 7, 1)\n",
    "tm1 =  t_launch + datetime.timedelta(days=1.7)\n",
    "tm2 =  t_launch + datetime.timedelta(days=3.5)\n",
    "\n",
    "fig = fp.full3d_multiview(t_launch = t_launch, filepath=filepath)"
   ]
  },
  {
   "cell_type": "markdown",
   "id": "63df101c",
   "metadata": {},
   "source": [
    "### make fluxrope 3d multiview movie"
   ]
  },
  {
   "cell_type": "code",
   "execution_count": 18,
   "id": "d75defd3",
   "metadata": {},
   "outputs": [],
   "source": [
    "def make_frame2(k):\n",
    "    tm0 = datetime.datetime(2022, 9, 5, 19)\n",
    "    t = tm0 + k*datetime.timedelta(hours=1)\n",
    "    frametime = k\n",
    "    \n",
    "    fig = fp.full3d_multiview_movie(t_launch = tm0, t = t, filepath=filepath,\n",
    "                                    frametime=k)\n",
    "    frmstr = '%05i' % (k) \n",
    "    plt.savefig(filepath[:-7] + 'movie_3d_multiview/'+frmstr+'.jpg',dpi=200)  \n",
    "    return fig"
   ]
  },
  {
   "cell_type": "code",
   "execution_count": 19,
   "id": "cee5f615",
   "metadata": {},
   "outputs": [
    {
     "name": "stdout",
     "output_type": "stream",
     "text": [
      "The history saving thread hit an unexpected error (OperationalError('disk I/O error')).History will not be written to the database.\n",
      "done 1/4\n",
      "done 2/4\n",
      "done 3/4\n",
      "done 4/4\n"
     ]
    }
   ],
   "source": [
    "inn=[i for i in range(100)]\n",
    "\n",
    "\n",
    "mpool = multiprocessing.Pool(processes=5)\n",
    "mpool.map(make_frame2, inn[0:20])\n",
    "mpool.close()\n",
    "mpool.join()\n",
    "\n",
    "print('done 1/4')\n",
    "\n",
    "mpool = multiprocessing.Pool(processes=5)\n",
    "mpool.map(make_frame2, inn[20:40])\n",
    "mpool.close()\n",
    "mpool.join()\n",
    "\n",
    "print('done 2/4')\n",
    "\n",
    "mpool = multiprocessing.Pool(processes=5)\n",
    "mpool.map(make_frame2, inn[40:60])\n",
    "mpool.close()\n",
    "mpool.join()\n",
    "\n",
    "print('done 3/4')\n",
    "\n",
    "mpool = multiprocessing.Pool(processes=5)\n",
    "mpool.map(make_frame2, inn[40:80])\n",
    "mpool.close()\n",
    "mpool.join()\n",
    "\n",
    "print('done 4/4')"
   ]
  },
  {
   "cell_type": "code",
   "execution_count": 20,
   "id": "f1a0669b",
   "metadata": {},
   "outputs": [
    {
     "data": {
      "text/plain": [
       "0"
      ]
     },
     "execution_count": 20,
     "metadata": {},
     "output_type": "execute_result"
    }
   ],
   "source": [
    "os.system('ffmpeg -r 25 -i '+filepath[:-7]+'movie_3d_multiview/%05d.jpg -b 5000k -r 25 '+filepath[:-7]+'movie_3d/full_3d_multiview_movie.mp4 -y -loglevel quiet')"
   ]
  },
  {
   "cell_type": "markdown",
   "id": "1b868820",
   "metadata": {},
   "source": [
    "# Used for Debug"
   ]
  },
  {
   "cell_type": "code",
   "execution_count": 21,
   "id": "b4368554",
   "metadata": {},
   "outputs": [],
   "source": [
    "TP_A =  t_launch + datetime.timedelta(hours=2)\n",
    "TP_B =  t_launch + datetime.timedelta(hours=40)\n",
    "\n",
    "\n",
    "C_A = \"xkcd:red\"\n",
    "C_B = \"xkcd:blue\"\n",
    "    \n",
    "sns.set_style('whitegrid')\n",
    "\n",
    "fig = plt.figure(figsize=(15, 11),dpi=100)\n",
    "\n",
    "ax1 = plt.subplot2grid((2, 3), (0, 0),rowspan=2,colspan=2,projection='3d')  \n",
    "ax2 = plt.subplot2grid((2, 3), (0, 2),projection='3d')  \n",
    "ax3 = plt.subplot2grid((2, 3), (1, 2),projection='3d')  \n",
    "\n",
    "model_obj = fp.returnmodel(filepath)\n",
    "\n",
    "\n",
    "fp.plot_configure(ax1, view_azim=150, view_elev=25, view_radius=.2,light_source=True) #view_radius=.08\n",
    "\n",
    "fp.plot_3dcore(ax1, model_obj, TP_A, color=C_A,light_source = True)\n",
    "fp.plot_3dcore(ax1, model_obj, TP_B, color=C_B,light_source = True)\n",
    "\n",
    "fp.plot_shift(ax1,0.31,-0.25,0.0,-0.2)\n",
    "\n",
    "\n",
    "fp.plot_configure(ax2, view_azim=165-90, view_elev=90, view_radius=.08,light_source=True)\n",
    "    \n",
    "fp.plot_3dcore(ax2, model_obj, TP_A, color=C_A,light_source = True)\n",
    "fp.plot_3dcore(ax2, model_obj, TP_B, color=C_B,light_source = True)\n",
    "\n",
    "fp.plot_shift(ax2,0.26,-0.41,0.08,0.0)\n",
    "\n",
    "\n",
    "\n",
    "fp.plot_configure(ax3, view_azim=65, view_elev=-5, view_radius=.01,light_source=True)\n",
    "    \n",
    "fp.plot_3dcore(ax3, model_obj, TP_A, color=C_A,light_source = True)\n",
    "fp.plot_3dcore(ax3, model_obj, TP_B, color=C_B,light_source = True)\n",
    "\n",
    "fp.plot_shift(ax3,0.26,-0.41,0.08,0.0)\n",
    "\n"
   ]
  },
  {
   "cell_type": "code",
   "execution_count": null,
   "id": "6bf84118",
   "metadata": {},
   "outputs": [],
   "source": []
  },
  {
   "cell_type": "code",
   "execution_count": null,
   "id": "e68c0834",
   "metadata": {},
   "outputs": [],
   "source": []
  }
 ],
 "metadata": {
  "kernelspec": {
   "display_name": "Python [conda env:newtest] *",
   "language": "python",
   "name": "conda-env-newtest-py"
  },
  "language_info": {
   "codemirror_mode": {
    "name": "ipython",
    "version": 3
   },
   "file_extension": ".py",
   "mimetype": "text/x-python",
   "name": "python",
   "nbconvert_exporter": "python",
   "pygments_lexer": "ipython3",
   "version": "3.10.4"
  }
 },
 "nbformat": 4,
 "nbformat_minor": 5
}
