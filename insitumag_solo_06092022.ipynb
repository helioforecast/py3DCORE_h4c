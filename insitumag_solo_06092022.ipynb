{
 "cells": [
  {
   "cell_type": "markdown",
   "id": "3624228e",
   "metadata": {},
   "source": [
    "# Example Notebook for plotting insitu data"
   ]
  },
  {
   "cell_type": "code",
   "execution_count": 25,
   "id": "542d2e32",
   "metadata": {},
   "outputs": [
    {
     "name": "stdout",
     "output_type": "stream",
     "text": [
      "The autoreload extension is already loaded. To reload it, use:\n",
      "  %reload_ext autoreload\n"
     ]
    }
   ],
   "source": [
    "%load_ext autoreload\n",
    "\n",
    "%autoreload 2\n",
    "\n",
    "import datetime as datetime\n",
    "import numpy as np\n",
    "import py3dcore_h4c as py3dcore_h4c\n",
    "import matplotlib.pyplot as plt"
   ]
  },
  {
   "cell_type": "code",
   "execution_count": 26,
   "id": "965fad1b",
   "metadata": {},
   "outputs": [],
   "source": [
    "###### overwrite initial values that we already know or can estimate more closely\n",
    "\n",
    "\n",
    "overwrite = {\n",
    "    \"cme_longitude\": {\n",
    "            \"maximum\": 161,\n",
    "            \"minimum\": 159\n",
    "        },\n",
    "    \"cme_latitude\": {\n",
    "            \"maximum\": 1,\n",
    "            \"minimum\": -1\n",
    "        },\n",
    "    \"cme_inclination\" :{\n",
    "            \"maximum\": 6,\n",
    "            \"minimum\": 4\n",
    "        },\n",
    "    \"cme_diameter_1au\" :{\n",
    "            \"maximum\": 0.25,\n",
    "            \"minimum\": 0.15\n",
    "        },\n",
    "    \"cme_aspect_ratio\": {\n",
    "            \"maximum\": 3.1,\n",
    "            \"minimum\": 2.9\n",
    "        },\n",
    "    \"cme_launch_radius\": {\n",
    "            \"distribution\": \"uniform\",\n",
    "            \"maximum\": 16,\n",
    "            \"minimum\": 14\n",
    "        },\n",
    "    \"cme_launch_velocity\": {\n",
    "            \"maximum\": 1425,\n",
    "            \"minimum\": 1365\n",
    "        },\n",
    "    \"t_factor\": {\n",
    "            \"maximum\": 4.1,\n",
    "            \"minimum\": 3.9\n",
    "        },\n",
    "    \"magnetic_field_strength_1au\": {\n",
    "            \"maximum\": 56,\n",
    "            \"minimum\": 54\n",
    "        },\n",
    "    \"background_drag\": {\n",
    "            \"maximum\": 0.6,\n",
    "            \"minimum\": 0.4\n",
    "        },\n",
    "    \"background_velocity\": {\n",
    "            \"maximum\": 505,\n",
    "            \"minimum\": 495\n",
    "        },\n",
    "}\n",
    "\n",
    "# initialize model\n",
    "\n",
    "n = 1024 # number of runs\n",
    "# start = datetime.datetime.now() # starttime of ICME\n",
    "start = datetime.datetime(2022, 9, 5, 18, 45, 0)\n",
    "\n",
    "model_obj = py3dcore_h4c.ToroidalModel(start, n, iparams=overwrite)"
   ]
  },
  {
   "cell_type": "markdown",
   "id": "42c3c163",
   "metadata": {},
   "source": [
    "    Model Parameters\n",
    "    ================\n",
    "        For this specific model there are a total of 14 initial parameters which are as follows:\n",
    "        0: t_i          time offset\n",
    "        1: lon          longitude\n",
    "        2: lat          latitude\n",
    "        3: inc          inclination\n",
    "\n",
    "        4: dia          cross section diameter at 1 AU\n",
    "        5: delta        cross section aspect ratio\n",
    "\n",
    "        6: r0           initial cme radius\n",
    "        7: v0           initial cme velocity\n",
    "        8: T            T factor (related to the twist)\n",
    "\n",
    "        9: n_a          expansion rate\n",
    "        10: n_b         magnetic field decay rate\n",
    "\n",
    "        11: b           magnetic field strength at center at 1AU\n",
    "        12: bg_d        solar wind background drag coefficient\n",
    "        13: bg_v        solar wind background speed\n",
    "\n",
    "        There are 4 state parameters which are as follows:\n",
    "        0: v_t          current velocity\n",
    "        1: rho_0        torus major radius\n",
    "        2: rho_1        torus minor radius\n",
    "        3: b_t          magnetic field strength at center"
   ]
  },
  {
   "cell_type": "code",
   "execution_count": 27,
   "id": "3fb5209d",
   "metadata": {},
   "outputs": [
    {
     "data": {
      "text/plain": [
       "array([159.74908, 160.90143, 160.46399, ..., 159.5947 , 160.84879,\n",
       "       160.94212], dtype=float32)"
      ]
     },
     "execution_count": 27,
     "metadata": {},
     "output_type": "execute_result"
    }
   ],
   "source": [
    "# after the model has been initialized, we generate a set of random initial parameters according to the table above\n",
    "\n",
    "model_obj.generator()\n",
    "\n",
    "# these can be accessed by the following\n",
    "\n",
    "i = 1 # parameter index\n",
    "\n",
    "model_obj.iparams_arr[:, i]"
   ]
  },
  {
   "cell_type": "code",
   "execution_count": 29,
   "id": "f1446480",
   "metadata": {},
   "outputs": [
    {
     "data": {
      "text/plain": [
       "array([0.4257331 , 0.41539985, 0.40835527, ..., 0.4142384 , 0.41666698,\n",
       "       0.4313198 ], dtype=float32)"
      ]
     },
     "execution_count": 29,
     "metadata": {},
     "output_type": "execute_result"
    }
   ],
   "source": [
    "# we set a timedelta in hours and propagate each of the runs\n",
    "\n",
    "timedelta = 48\n",
    "end = start + datetime.timedelta(hours=timedelta)\n",
    "\n",
    "model_obj.propagator(end)\n",
    "\n",
    "# the state parameters of parameter i at that given time are then given by\n",
    "\n",
    "model_obj.sparams_arr[:,i]"
   ]
  },
  {
   "cell_type": "raw",
   "id": "1803b1d2",
   "metadata": {},
   "source": [
    "# an output array needs to be created beforehand, then we can simulate the magnetic field at a given position\n",
    "\n",
    "pos = np.array([0.689,0,0]) \n",
    "\n",
    "outa = np.empty((n,3))\n",
    "model_obj.simulator_mag(pos,out=outa)"
   ]
  },
  {
   "cell_type": "raw",
   "id": "eb7aacf7",
   "metadata": {},
   "source": [
    "outa[outa !=0]"
   ]
  },
  {
   "cell_type": "code",
   "execution_count": 35,
   "id": "83362b14",
   "metadata": {},
   "outputs": [
    {
     "name": "stdout",
     "output_type": "stream",
     "text": [
      "(0.689, 150., 0.)\n",
      "(0.689, 150., 0.)\n"
     ]
    }
   ],
   "source": [
    "############# define synthetic satellite positions - semi-circle at 0.689 AU (SolO), from -180 to +180 longitude\n",
    "\n",
    "lonstart=-180\n",
    "lonstep=5\n",
    "lonend=180\n",
    "\n",
    "lonend=lonend+lonstep\n",
    "satpos=np.zeros(len(np.arange(lonstart,lonend,lonstep)),dtype=[('r',float),('lon', float),('lat', float)])\n",
    "#convert to recarray\n",
    "satpos = satpos.view(np.recarray)  \n",
    "\n",
    "##### set position\n",
    "satpos.r=0.689\n",
    "satpos.lon=np.arange(lonstart,lonend,lonstep)\n",
    "satpos.lat=0.0\n",
    "\n",
    "print(satpos[66])\n",
    "print(np.array(satpos[66]))"
   ]
  },
  {
   "cell_type": "code",
   "execution_count": 36,
   "id": "8b1aed5e",
   "metadata": {},
   "outputs": [],
   "source": [
    "# dts = [datetime.datetime.now() + datetime.timedelta(hours=i) for i in range(96)]\n",
    "dts = [start + datetime.timedelta(hours=i) for i in range(48)]\n",
    "pos = [np.array([0.689,150,0]) for _ in dts]\n",
    "#pos = [np.array(satpos[66]) for _ in dts]\n",
    "outa = model_obj.simulator(dts, pos)"
   ]
  },
  {
   "cell_type": "code",
   "execution_count": 37,
   "id": "864ed319",
   "metadata": {},
   "outputs": [
    {
     "name": "stdout",
     "output_type": "stream",
     "text": [
      "(array([], dtype=int64), array([], dtype=int64), array([], dtype=int64))\n"
     ]
    }
   ],
   "source": [
    "A=np.array(outa[0])\n",
    "print(np.where(A!=0))\n",
    "A[A==0] = np.nan"
   ]
  },
  {
   "cell_type": "code",
   "execution_count": 38,
   "id": "c3573a42",
   "metadata": {},
   "outputs": [
    {
     "data": {
      "text/plain": [
       "[<matplotlib.lines.Line2D at 0x28d5182e0>,\n",
       " <matplotlib.lines.Line2D at 0x28d5183d0>,\n",
       " <matplotlib.lines.Line2D at 0x28d519690>]"
      ]
     },
     "execution_count": 38,
     "metadata": {},
     "output_type": "execute_result"
    },
    {
     "data": {
      "image/png": "[encoded data removed]",
      "text/plain": [
       "<Figure size 640x480 with 1 Axes>"
      ]
     },
     "metadata": {},
     "output_type": "display_data"
    }
   ],
   "source": [
    "plt.plot(A[:, 306, :])"
   ]
  },
  {
   "cell_type": "code",
   "execution_count": 39,
   "id": "b955dd9e",
   "metadata": {},
   "outputs": [
    {
     "data": {
      "text/plain": [
       "(array([ 0,  0,  0, ..., 47, 47, 47]),\n",
       " array([   0,    0,    0, ..., 1023, 1023, 1023]),\n",
       " array([0, 1, 2, ..., 0, 1, 2]))"
      ]
     },
     "execution_count": 39,
     "metadata": {},
     "output_type": "execute_result"
    }
   ],
   "source": [
    "np.where(A != 0)"
   ]
  },
  {
   "cell_type": "code",
   "execution_count": 40,
   "id": "e977d383",
   "metadata": {},
   "outputs": [],
   "source": [
    "wf_arr=model_obj.visualize_shape(306, 30)"
   ]
  },
  {
   "cell_type": "code",
   "execution_count": 41,
   "id": "9102240c",
   "metadata": {},
   "outputs": [
    {
     "data": {
      "image/png": "[encoded data removed]",
      "text/plain": [
       "<Figure size 1200x1200 with 1 Axes>"
      ]
     },
     "metadata": {},
     "output_type": "display_data"
    }
   ],
   "source": [
    "fig = plt.figure(figsize=(12, 12))\n",
    "ax = fig.add_subplot(111, projection='3d')\n",
    "ax.plot_wireframe(*wf_arr.T)\n",
    "ax.scatter(1,0,0)\n",
    "ax.set_axis_off()\n",
    "ax.set_xlim([-1, 1])\n",
    "ax.set_ylim([-1, 1])\n",
    "ax.set_zlim([-1, 1])\n",
    "ax.view_init(elev=25, azim=35)"
   ]
  },
  {
   "cell_type": "code",
   "execution_count": null,
   "id": "5e23ec3a",
   "metadata": {},
   "outputs": [],
   "source": []
  }
 ],
 "metadata": {
  "kernelspec": {
   "display_name": "Python 3 (ipykernel)",
   "language": "python",
   "name": "python3"
  },
  "language_info": {
   "codemirror_mode": {
    "name": "ipython",
    "version": 3
   },
   "file_extension": ".py",
   "mimetype": "text/x-python",
   "name": "python",
   "nbconvert_exporter": "python",
   "pygments_lexer": "ipython3",
   "version": "3.10.9"
  }
 },
 "nbformat": 4,
 "nbformat_minor": 5
}
