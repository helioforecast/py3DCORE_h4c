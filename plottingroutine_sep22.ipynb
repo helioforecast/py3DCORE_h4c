{
 "cells": [
  {
   "cell_type": "markdown",
   "id": "2d766c24",
   "metadata": {},
   "source": [
    "# Plotting routine for the Sep22 Event"
   ]
  },
  {
   "cell_type": "code",
   "execution_count": 1,
   "id": "cc01ed0a",
   "metadata": {},
   "outputs": [],
   "source": [
    "test = 'test'"
   ]
  },
  {
   "cell_type": "code",
   "execution_count": 2,
   "id": "b1ebcb5f",
   "metadata": {},
   "outputs": [],
   "source": [
    "%load_ext autoreload\n",
    "\n",
    "%autoreload 2\n",
    "\n",
    "import numpy as np\n",
    "import matplotlib.pyplot as plt\n",
    "import pickle as p\n",
    "\n",
    "import datetime as datetime\n",
    "from datetime import timedelta\n",
    "import seaborn as sns\n",
    "import pandas as pd\n",
    "import os\n",
    "#import copy as cp\n",
    "\n",
    "import multiprocessing\n",
    "import py3dcore_h4c as py3dcore_h4c\n",
    "\n",
    "import py3dcore_h4c.fluxplot as fp\n",
    "\n",
    "plt.switch_backend('agg')\n",
    "\n",
    "\n",
    "import warnings\n",
    "warnings.filterwarnings('ignore')\n",
    "\n",
    "import logging\n",
    "\n",
    "logging.basicConfig(level=logging.INFO)\n",
    "logging.getLogger(\"heliosat.spice\").setLevel(\"WARNING\")\n",
    "logging.getLogger(\"heliosat.spacecraft\").setLevel(\"WARNING\")\n",
    "#logging.getLogger(\"sunpy\").setLevel(\"WARNING\")\n",
    "#logging.getLogger(\"py3dcore_h4c.fluxplot\").setLevel(\"WARNING\")\n",
    "\n",
    "#print(sns.__version__)"
   ]
  },
  {
   "cell_type": "markdown",
   "id": "06ba8a20",
   "metadata": {},
   "source": [
    "#### setting the times for py3DCORE_h4c"
   ]
  },
  {
   "cell_type": "code",
   "execution_count": 3,
   "id": "9f22ef56",
   "metadata": {},
   "outputs": [],
   "source": [
    "t_launch = datetime.datetime(2022, 9, 5, 18, tzinfo=datetime.timezone.utc) # launch time assumed at CME impact at PSP \n",
    "\n",
    "t_s = datetime.datetime(2022, 9, 7, 8, tzinfo=datetime.timezone.utc) \n",
    "t_e = datetime.datetime(2022, 9, 8, 3, tzinfo=datetime.timezone.utc)\n",
    "\n",
    "start = t_s + datetime.timedelta(hours=1)\n",
    "\n",
    "t_fit = [\n",
    "        datetime.datetime(2022, 9, 7, 9, tzinfo=datetime.timezone.utc),\n",
    "        datetime.datetime(2022, 9, 7, 15, tzinfo=datetime.timezone.utc),\n",
    "        datetime.datetime(2022, 9, 7, 20, tzinfo=datetime.timezone.utc),\n",
    "        datetime.datetime(2022, 9, 8, 2, tzinfo=datetime.timezone.utc)\n",
    "     ]\n",
    "\n",
    "#t_fit = fp.equal_t_creator(start = start, n = 4, delta = 6)\n",
    "\n",
    "#####2022 Sep 5: 3 solar radii at 17 UT (COR2 & LASCO FoV appearance)\n",
    "# 2022 Sep 5: 15 solar radii at 18:45 UT (PSP)"
   ]
  },
  {
   "cell_type": "markdown",
   "id": "52ff4fda",
   "metadata": {},
   "source": [
    "#### loading the pickle files"
   ]
  },
  {
   "cell_type": "code",
   "execution_count": 4,
   "id": "6922d1ff",
   "metadata": {},
   "outputs": [
    {
     "data": {
      "text/plain": [
       "[datetime.datetime(2022, 9, 7, 9, 0, tzinfo=datetime.timezone.utc),\n",
       " datetime.datetime(2022, 9, 7, 15, 0, tzinfo=datetime.timezone.utc),\n",
       " datetime.datetime(2022, 9, 7, 20, 0, tzinfo=datetime.timezone.utc),\n",
       " datetime.datetime(2022, 9, 8, 2, 0, tzinfo=datetime.timezone.utc)]"
      ]
     },
     "execution_count": 4,
     "metadata": {},
     "output_type": "execute_result"
    }
   ],
   "source": [
    "t_fit"
   ]
  },
  {
   "cell_type": "code",
   "execution_count": 6,
   "id": "773bce9e",
   "metadata": {},
   "outputs": [],
   "source": [
    "path = 'output/output/solo06092022_heeq_1024_restrP_4/'\n",
    "\n",
    "filepath = fp.loadpickle(path, number = -1)"
   ]
  },
  {
   "cell_type": "raw",
   "id": "af29ff8b",
   "metadata": {},
   "source": [
    "filepath[:-7]"
   ]
  },
  {
   "cell_type": "markdown",
   "id": "e9294985",
   "metadata": {},
   "source": [
    "#### extracting parameters"
   ]
  },
  {
   "cell_type": "code",
   "execution_count": 7,
   "id": "d93db2b8",
   "metadata": {},
   "outputs": [
    {
     "name": "stderr",
     "output_type": "stream",
     "text": [
      "INFO:py3dcore_h4c.fluxplot:Retrieved the following parameters for the run with minimum epsilon:\n",
      "INFO:py3dcore_h4c.fluxplot: --lon:  120.49\n",
      "INFO:py3dcore_h4c.fluxplot: --lat:  -16.41\n",
      "INFO:py3dcore_h4c.fluxplot: --inc:  116.34\n",
      "INFO:py3dcore_h4c.fluxplot: --diameter 1 AU:  0.96\n",
      "INFO:py3dcore_h4c.fluxplot: --aspect ratio:  3.10\n",
      "INFO:py3dcore_h4c.fluxplot: --launch radius:  5.12\n",
      "INFO:py3dcore_h4c.fluxplot: --launch speed:  1699.74\n",
      "INFO:py3dcore_h4c.fluxplot: --t factor:  -205.15\n",
      "INFO:py3dcore_h4c.fluxplot: --expansion rate:  1.14\n",
      "INFO:py3dcore_h4c.fluxplot: --magnetic field decay rate:  1.64\n",
      "INFO:py3dcore_h4c.fluxplot: --magnetic field 1 AU:  16.23\n",
      "INFO:py3dcore_h4c.fluxplot: --drag coefficient:  3.88\n",
      "INFO:py3dcore_h4c.fluxplot: --sw background speed:  213.88\n"
     ]
    }
   ],
   "source": [
    "res, allres, ind, meanparams = fp.get_params(filepath, give_mineps=True)"
   ]
  },
  {
   "cell_type": "code",
   "execution_count": 8,
   "id": "653ef8df",
   "metadata": {},
   "outputs": [],
   "source": [
    "out = fp.get_ensemble_stats(filepath)"
   ]
  },
  {
   "cell_type": "code",
   "execution_count": 9,
   "id": "9535a968",
   "metadata": {},
   "outputs": [
    {
     "data": {
      "text/html": [
       "<div>\n",
       "<style scoped>\n",
       "    .dataframe tbody tr th:only-of-type {\n",
       "        vertical-align: middle;\n",
       "    }\n",
       "\n",
       "    .dataframe tbody tr th {\n",
       "        vertical-align: top;\n",
       "    }\n",
       "\n",
       "    .dataframe thead th {\n",
       "        text-align: right;\n",
       "    }\n",
       "</style>\n",
       "<table border=\"1\" class=\"dataframe\">\n",
       "  <thead>\n",
       "    <tr style=\"text-align: right;\">\n",
       "      <th></th>\n",
       "      <th>lon</th>\n",
       "      <th>lat</th>\n",
       "      <th>inc</th>\n",
       "      <th>D1AU</th>\n",
       "      <th>delta</th>\n",
       "      <th>launch radius</th>\n",
       "      <th>launch speed</th>\n",
       "      <th>t factor</th>\n",
       "      <th>B1AU</th>\n",
       "      <th>gamma</th>\n",
       "      <th>vsw</th>\n",
       "    </tr>\n",
       "  </thead>\n",
       "  <tbody>\n",
       "    <tr>\n",
       "      <th>count</th>\n",
       "      <td>1024.000000</td>\n",
       "      <td>1024.000000</td>\n",
       "      <td>1024.000000</td>\n",
       "      <td>1024.000000</td>\n",
       "      <td>1024.000000</td>\n",
       "      <td>1024.000000</td>\n",
       "      <td>1024.000000</td>\n",
       "      <td>1024.000000</td>\n",
       "      <td>1024.000000</td>\n",
       "      <td>1024.000000</td>\n",
       "      <td>1024.000000</td>\n",
       "    </tr>\n",
       "    <tr>\n",
       "      <th>mean</th>\n",
       "      <td>130.264648</td>\n",
       "      <td>-23.011356</td>\n",
       "      <td>131.035217</td>\n",
       "      <td>0.877165</td>\n",
       "      <td>2.889004</td>\n",
       "      <td>7.442848</td>\n",
       "      <td>1237.735596</td>\n",
       "      <td>-189.786774</td>\n",
       "      <td>11.799664</td>\n",
       "      <td>2.924567</td>\n",
       "      <td>142.243896</td>\n",
       "    </tr>\n",
       "    <tr>\n",
       "      <th>std</th>\n",
       "      <td>8.437768</td>\n",
       "      <td>8.489504</td>\n",
       "      <td>12.284176</td>\n",
       "      <td>0.072817</td>\n",
       "      <td>1.169860</td>\n",
       "      <td>1.542710</td>\n",
       "      <td>471.878967</td>\n",
       "      <td>40.520466</td>\n",
       "      <td>3.360247</td>\n",
       "      <td>0.745129</td>\n",
       "      <td>62.942955</td>\n",
       "    </tr>\n",
       "    <tr>\n",
       "      <th>min</th>\n",
       "      <td>102.939568</td>\n",
       "      <td>-47.233658</td>\n",
       "      <td>85.442841</td>\n",
       "      <td>0.571690</td>\n",
       "      <td>1.003199</td>\n",
       "      <td>5.004085</td>\n",
       "      <td>501.220276</td>\n",
       "      <td>-249.955750</td>\n",
       "      <td>5.113376</td>\n",
       "      <td>0.270122</td>\n",
       "      <td>50.731930</td>\n",
       "    </tr>\n",
       "    <tr>\n",
       "      <th>25%</th>\n",
       "      <td>124.216600</td>\n",
       "      <td>-28.568891</td>\n",
       "      <td>122.590328</td>\n",
       "      <td>0.828761</td>\n",
       "      <td>2.025120</td>\n",
       "      <td>6.199905</td>\n",
       "      <td>854.726654</td>\n",
       "      <td>-222.595512</td>\n",
       "      <td>9.423285</td>\n",
       "      <td>2.429371</td>\n",
       "      <td>92.152922</td>\n",
       "    </tr>\n",
       "    <tr>\n",
       "      <th>50%</th>\n",
       "      <td>130.518715</td>\n",
       "      <td>-23.627747</td>\n",
       "      <td>130.873695</td>\n",
       "      <td>0.885284</td>\n",
       "      <td>2.779171</td>\n",
       "      <td>7.333545</td>\n",
       "      <td>1184.571228</td>\n",
       "      <td>-196.597664</td>\n",
       "      <td>11.277544</td>\n",
       "      <td>3.040251</td>\n",
       "      <td>133.214066</td>\n",
       "    </tr>\n",
       "    <tr>\n",
       "      <th>75%</th>\n",
       "      <td>136.666416</td>\n",
       "      <td>-18.322756</td>\n",
       "      <td>139.218643</td>\n",
       "      <td>0.932886</td>\n",
       "      <td>3.584739</td>\n",
       "      <td>8.446270</td>\n",
       "      <td>1563.326904</td>\n",
       "      <td>-163.298168</td>\n",
       "      <td>13.744985</td>\n",
       "      <td>3.538755</td>\n",
       "      <td>181.707672</td>\n",
       "    </tr>\n",
       "    <tr>\n",
       "      <th>max</th>\n",
       "      <td>153.225067</td>\n",
       "      <td>19.658932</td>\n",
       "      <td>172.731430</td>\n",
       "      <td>0.999425</td>\n",
       "      <td>6.958109</td>\n",
       "      <td>12.196119</td>\n",
       "      <td>2499.735840</td>\n",
       "      <td>-31.774971</td>\n",
       "      <td>26.348167</td>\n",
       "      <td>3.999186</td>\n",
       "      <td>407.497223</td>\n",
       "    </tr>\n",
       "  </tbody>\n",
       "</table>\n",
       "</div>"
      ],
      "text/plain": [
       "               lon          lat          inc         D1AU        delta  \\\n",
       "count  1024.000000  1024.000000  1024.000000  1024.000000  1024.000000   \n",
       "mean    130.264648   -23.011356   131.035217     0.877165     2.889004   \n",
       "std       8.437768     8.489504    12.284176     0.072817     1.169860   \n",
       "min     102.939568   -47.233658    85.442841     0.571690     1.003199   \n",
       "25%     124.216600   -28.568891   122.590328     0.828761     2.025120   \n",
       "50%     130.518715   -23.627747   130.873695     0.885284     2.779171   \n",
       "75%     136.666416   -18.322756   139.218643     0.932886     3.584739   \n",
       "max     153.225067    19.658932   172.731430     0.999425     6.958109   \n",
       "\n",
       "       launch radius  launch speed     t factor         B1AU        gamma  \\\n",
       "count    1024.000000   1024.000000  1024.000000  1024.000000  1024.000000   \n",
       "mean        7.442848   1237.735596  -189.786774    11.799664     2.924567   \n",
       "std         1.542710    471.878967    40.520466     3.360247     0.745129   \n",
       "min         5.004085    501.220276  -249.955750     5.113376     0.270122   \n",
       "25%         6.199905    854.726654  -222.595512     9.423285     2.429371   \n",
       "50%         7.333545   1184.571228  -196.597664    11.277544     3.040251   \n",
       "75%         8.446270   1563.326904  -163.298168    13.744985     3.538755   \n",
       "max        12.196119   2499.735840   -31.774971    26.348167     3.999186   \n",
       "\n",
       "               vsw  \n",
       "count  1024.000000  \n",
       "mean    142.243896  \n",
       "std      62.942955  \n",
       "min      50.731930  \n",
       "25%      92.152922  \n",
       "50%     133.214066  \n",
       "75%     181.707672  \n",
       "max     407.497223  "
      ]
     },
     "execution_count": 9,
     "metadata": {},
     "output_type": "execute_result"
    }
   ],
   "source": [
    "out.describe()"
   ]
  },
  {
   "cell_type": "markdown",
   "id": "3b02fdbb",
   "metadata": {},
   "source": [
    "#### loading and plotting the fitting results"
   ]
  },
  {
   "cell_type": "code",
   "execution_count": 11,
   "id": "5ceffe80",
   "metadata": {},
   "outputs": [
    {
     "name": "stderr",
     "output_type": "stream",
     "text": [
      "INFO:py3dcore_h4c.fluxplot:No iparams_arr given, using parameters for run with minimum eps.\n"
     ]
    },
    {
     "ename": "ValueError",
     "evalue": "thin_torus_sq: Output operand 0 has a mismatch in its core dimension 0, with gufunc signature (i), (j), (k), (l) -> (i) (size 3 is different from 0)",
     "output_type": "error",
     "traceback": [
      "\u001b[0;31m---------------------------------------------------------------------------\u001b[0m",
      "\u001b[0;31mValueError\u001b[0m                                Traceback (most recent call last)",
      "Cell \u001b[0;32mIn[11], line 1\u001b[0m\n\u001b[0;32m----> 1\u001b[0m \u001b[43mfp\u001b[49m\u001b[38;5;241;43m.\u001b[39;49m\u001b[43mfullinsitu\u001b[49m\u001b[43m(\u001b[49m\u001b[43mobserver\u001b[49m\u001b[38;5;241;43m=\u001b[39;49m\u001b[38;5;124;43m'\u001b[39;49m\u001b[38;5;124;43msolo\u001b[39;49m\u001b[38;5;124;43m'\u001b[39;49m\u001b[43m,\u001b[49m\u001b[43m \u001b[49m\u001b[43mt_fit\u001b[49m\u001b[38;5;241;43m=\u001b[39;49m\u001b[43mt_fit\u001b[49m\u001b[43m,\u001b[49m\u001b[43m \u001b[49m\u001b[43mstart\u001b[49m\u001b[38;5;241;43m=\u001b[39;49m\u001b[43mt_s\u001b[49m\u001b[43m,\u001b[49m\u001b[43m \u001b[49m\u001b[43mend\u001b[49m\u001b[38;5;241;43m=\u001b[39;49m\u001b[43mt_e\u001b[49m\u001b[43m,\u001b[49m\u001b[43m \u001b[49m\u001b[43mfilepath\u001b[49m\u001b[38;5;241;43m=\u001b[39;49m\u001b[43mfilepath\u001b[49m\u001b[43m,\u001b[49m\u001b[43m \u001b[49m\n\u001b[1;32m      2\u001b[0m \u001b[43m              \u001b[49m\u001b[43mcustom_data\u001b[49m\u001b[38;5;241;43m=\u001b[39;49m\u001b[38;5;124;43m'\u001b[39;49m\u001b[38;5;124;43mpsp_2022sep.p\u001b[39;49m\u001b[38;5;124;43m'\u001b[39;49m\u001b[43m,\u001b[49m\u001b[43m \u001b[49m\u001b[43mbest\u001b[49m\u001b[38;5;241;43m=\u001b[39;49m\u001b[38;5;28;43;01mTrue\u001b[39;49;00m\u001b[43m,\u001b[49m\u001b[43m \u001b[49m\u001b[43mensemble\u001b[49m\u001b[38;5;241;43m=\u001b[39;49m\u001b[38;5;28;43;01mTrue\u001b[39;49;00m\u001b[43m,\u001b[49m\u001b[43m \u001b[49m\u001b[43mmean\u001b[49m\u001b[38;5;241;43m=\u001b[39;49m\u001b[38;5;28;43;01mTrue\u001b[39;49;00m\u001b[43m,\u001b[49m\u001b[43m \u001b[49m\u001b[43msave_fig\u001b[49m\u001b[38;5;241;43m=\u001b[39;49m\u001b[38;5;28;43;01mTrue\u001b[39;49;00m\u001b[43m,\u001b[49m\u001b[43m \u001b[49m\u001b[43mlegend\u001b[49m\u001b[38;5;241;43m=\u001b[39;49m\u001b[38;5;28;43;01mTrue\u001b[39;49;00m\u001b[43m,\u001b[49m\u001b[43m \u001b[49m\u001b[43mfixed\u001b[49m\u001b[38;5;241;43m=\u001b[39;49m\u001b[38;5;28;43;01mNone\u001b[39;49;00m\u001b[43m)\u001b[49m\n",
      "File \u001b[0;32m~/py3DCORE_h4c/py3dcore_h4c/fluxplot.py:609\u001b[0m, in \u001b[0;36mfullinsitu\u001b[0;34m(observer, t_fit, start, end, filepath, custom_data, save_fig, best, ensemble, mean, legend, fixed)\u001b[0m\n\u001b[1;32m    606\u001b[0m \u001b[38;5;28;01mif\u001b[39;00m best \u001b[38;5;241m==\u001b[39m \u001b[38;5;28;01mTrue\u001b[39;00m:\n\u001b[1;32m    607\u001b[0m     model_obj \u001b[38;5;241m=\u001b[39m returnfixedmodel(filepath)\n\u001b[0;32m--> 609\u001b[0m     outa \u001b[38;5;241m=\u001b[39m np\u001b[38;5;241m.\u001b[39msqueeze(np\u001b[38;5;241m.\u001b[39marray(\u001b[43mmodel_obj\u001b[49m\u001b[38;5;241;43m.\u001b[39;49m\u001b[43msimulator\u001b[49m\u001b[43m(\u001b[49m\u001b[43mt\u001b[49m\u001b[43m,\u001b[49m\u001b[43m \u001b[49m\u001b[43mpos\u001b[49m\u001b[43m)\u001b[49m)[\u001b[38;5;241m0\u001b[39m])\n\u001b[1;32m    610\u001b[0m     outa[outa\u001b[38;5;241m==\u001b[39m\u001b[38;5;241m0\u001b[39m] \u001b[38;5;241m=\u001b[39m np\u001b[38;5;241m.\u001b[39mnan\n\u001b[1;32m    612\u001b[0m \u001b[38;5;28;01mif\u001b[39;00m fixed \u001b[38;5;129;01mis\u001b[39;00m \u001b[38;5;129;01mnot\u001b[39;00m \u001b[38;5;28;01mNone\u001b[39;00m:\n",
      "File \u001b[0;32m~/py3DCORE_h4c/py3dcore_h4c/model.py:198\u001b[0m, in \u001b[0;36mSimulationBlackBox.simulator\u001b[0;34m(self, dt, pos, sparams)\u001b[0m\n\u001b[1;32m    196\u001b[0m \u001b[38;5;28mself\u001b[39m\u001b[38;5;241m.\u001b[39mpropagator(dt[i])  \u001b[38;5;66;03m# type: ignore\u001b[39;00m\n\u001b[1;32m    197\u001b[0m \u001b[38;5;66;03m# simulate magnetic field at point i\u001b[39;00m\n\u001b[0;32m--> 198\u001b[0m \u001b[38;5;28;43mself\u001b[39;49m\u001b[38;5;241;43m.\u001b[39;49m\u001b[43msimulator_mag\u001b[49m\u001b[43m(\u001b[49m\u001b[43mpos\u001b[49m\u001b[43m[\u001b[49m\u001b[43mi\u001b[49m\u001b[43m]\u001b[49m\u001b[43m,\u001b[49m\u001b[43m \u001b[49m\u001b[43mb_out\u001b[49m\u001b[43m[\u001b[49m\u001b[43mi\u001b[49m\u001b[43m]\u001b[49m\u001b[43m)\u001b[49m\n\u001b[1;32m    200\u001b[0m \u001b[38;5;28;01mif\u001b[39;00m sparams \u001b[38;5;129;01mand\u001b[39;00m \u001b[38;5;28mlen\u001b[39m(sparams) \u001b[38;5;241m>\u001b[39m \u001b[38;5;241m0\u001b[39m:\n\u001b[1;32m    201\u001b[0m     s_out[i][:] \u001b[38;5;241m=\u001b[39m \u001b[38;5;28mself\u001b[39m\u001b[38;5;241m.\u001b[39msparams_arr[i, sparams] \u001b[38;5;66;03m#store new sparams\u001b[39;00m\n",
      "File \u001b[0;32m~/py3DCORE_h4c/py3dcore_h4c/models/toroidal/__init__.py:117\u001b[0m, in \u001b[0;36mToroidalModel.simulator_mag\u001b[0;34m(self, pos, out)\u001b[0m\n\u001b[1;32m    113\u001b[0m _q_tmp \u001b[38;5;241m=\u001b[39m np\u001b[38;5;241m.\u001b[39mzeros((\u001b[38;5;28mlen\u001b[39m(\u001b[38;5;28mself\u001b[39m\u001b[38;5;241m.\u001b[39miparams_arr), \u001b[38;5;241m3\u001b[39m))\n\u001b[1;32m    115\u001b[0m \u001b[38;5;28;01mif\u001b[39;00m \u001b[38;5;28mself\u001b[39m\u001b[38;5;241m.\u001b[39mshape_model \u001b[38;5;241m==\u001b[39m \u001b[38;5;124m\"\u001b[39m\u001b[38;5;124mthin_torus\u001b[39m\u001b[38;5;124m\"\u001b[39m:\n\u001b[1;32m    116\u001b[0m     \u001b[38;5;66;03m# implement the thin torus model and rotate to s coordinates\u001b[39;00m\n\u001b[0;32m--> 117\u001b[0m     \u001b[43mthin_torus_sq\u001b[49m\u001b[43m(\u001b[49m\u001b[43mpos\u001b[49m\u001b[43m,\u001b[49m\u001b[43m \u001b[49m\u001b[38;5;28;43mself\u001b[39;49m\u001b[38;5;241;43m.\u001b[39;49m\u001b[43miparams_arr\u001b[49m\u001b[43m,\u001b[49m\u001b[43m \u001b[49m\u001b[38;5;28;43mself\u001b[39;49m\u001b[38;5;241;43m.\u001b[39;49m\u001b[43msparams_arr\u001b[49m\u001b[43m,\u001b[49m\u001b[43m \u001b[49m\u001b[38;5;28;43mself\u001b[39;49m\u001b[38;5;241;43m.\u001b[39;49m\u001b[43mqs_sx\u001b[49m\u001b[43m,\u001b[49m\u001b[43m \u001b[49m\u001b[43m_q_tmp\u001b[49m\u001b[43m)\u001b[49m\n\u001b[1;32m    119\u001b[0m     \u001b[38;5;28;01mif\u001b[39;00m \u001b[38;5;28mself\u001b[39m\u001b[38;5;241m.\u001b[39mmag_model \u001b[38;5;241m==\u001b[39m \u001b[38;5;124m\"\u001b[39m\u001b[38;5;124mgh\u001b[39m\u001b[38;5;124m\"\u001b[39m:\n\u001b[1;32m    120\u001b[0m         \u001b[38;5;66;03m# implement the goldhoyle model\u001b[39;00m\n\u001b[1;32m    121\u001b[0m         thin_torus_gh(_q_tmp, \u001b[38;5;28mself\u001b[39m\u001b[38;5;241m.\u001b[39miparams_arr, \u001b[38;5;28mself\u001b[39m\u001b[38;5;241m.\u001b[39msparams_arr, \u001b[38;5;28mself\u001b[39m\u001b[38;5;241m.\u001b[39mqs_xs, out)\n",
      "\u001b[0;31mValueError\u001b[0m: thin_torus_sq: Output operand 0 has a mismatch in its core dimension 0, with gufunc signature (i), (j), (k), (l) -> (i) (size 3 is different from 0)"
     ]
    }
   ],
   "source": [
    "fp.fullinsitu(observer='solo', t_fit=t_fit, start=t_s, end=t_e, filepath=filepath, \n",
    "              custom_data='solo_2022sep.p', best=True, ensemble=True, mean=True, save_fig=True, legend=True, fixed=None)"
   ]
  },
  {
   "cell_type": "code",
   "execution_count": 11,
   "id": "bb49772a",
   "metadata": {},
   "outputs": [],
   "source": [
    "fp.scatterparams(filepath)"
   ]
  },
  {
   "cell_type": "code",
   "execution_count": 12,
   "id": "84be6feb",
   "metadata": {},
   "outputs": [
    {
     "name": "stdout",
     "output_type": "stream",
     "text": [
      "172.78905\n",
      "4.882709\n",
      "0.53428584\n",
      "266.25516\n"
     ]
    }
   ],
   "source": [
    "print(out['lon'].mean())\n",
    "print(out['lon'].std())\n",
    "print(out['launch radius'].std())\n",
    "print(out['launch speed'].std())"
   ]
  },
  {
   "cell_type": "markdown",
   "id": "8b8d2f2d",
   "metadata": {},
   "source": [
    "#### Plotting the fluxrope and spacecraft positions"
   ]
  },
  {
   "cell_type": "code",
   "execution_count": 9,
   "id": "744716e6",
   "metadata": {},
   "outputs": [
    {
     "name": "stderr",
     "output_type": "stream",
     "text": [
      "INFO:sunpy:Obtained JPL HORIZONS location for Solar Orbiter (spacecraft) (-144\n"
     ]
    },
    {
     "name": "stdout",
     "output_type": "stream",
     "text": [
      "INFO: Obtained JPL HORIZONS location for Solar Orbiter (spacecraft) (-144 [sunpy.coordinates.ephemeris]\n"
     ]
    },
    {
     "name": "stderr",
     "output_type": "stream",
     "text": [
      "INFO:py3dcore_h4c.fluxplot:Indices of date: 59\n",
      "INFO:py3dcore_h4c.fluxplot:Solar Orbiter - r: 0.684483, lon: 150.072220, lat: -3.730396, \n",
      "INFO:sunpy:Obtained JPL HORIZONS location for Solar Orbiter (spacecraft) (-144\n",
      "INFO:py3dcore_h4c.fluxplot:Indices of date: 35\n",
      "INFO:py3dcore_h4c.fluxplot:Solar Orbiter - r: 0.684483, lon: 150.072220, lat: -3.730396, \n",
      "INFO:sunpy:Obtained JPL HORIZONS location for Parker Solar Probe (spacecraft)\n"
     ]
    },
    {
     "name": "stdout",
     "output_type": "stream",
     "text": [
      "INFO: Obtained JPL HORIZONS location for Solar Orbiter (spacecraft) (-144 [sunpy.coordinates.ephemeris]\n",
      "INFO: Obtained JPL HORIZONS location for Parker Solar Probe (spacecraft) [sunpy.coordinates.ephemeris]\n"
     ]
    },
    {
     "name": "stderr",
     "output_type": "stream",
     "text": [
      "INFO:py3dcore_h4c.fluxplot:Indices of date: 59\n",
      "INFO:py3dcore_h4c.fluxplot:Parker Solar Probe - r: 0.095459, lon: -122.155481, lat: -2.099772, \n",
      "INFO:sunpy:Obtained JPL HORIZONS location for Parker Solar Probe (spacecraft)\n",
      "INFO:py3dcore_h4c.fluxplot:Indices of date: 35\n",
      "INFO:py3dcore_h4c.fluxplot:Parker Solar Probe - r: 0.095459, lon: -122.155481, lat: -2.099772, \n"
     ]
    },
    {
     "name": "stdout",
     "output_type": "stream",
     "text": [
      "INFO: Obtained JPL HORIZONS location for Parker Solar Probe (spacecraft) [sunpy.coordinates.ephemeris]\n"
     ]
    }
   ],
   "source": [
    "#measurement times \n",
    "#tm0 =  t_launch + datetime.timedelta(days=1.5)\n",
    "tm0 =  datetime.datetime(2022, 9, 7, 1)\n",
    "tm1 =  t_launch + datetime.timedelta(days=1.7)\n",
    "tm2 =  t_launch + datetime.timedelta(days=3.5)\n",
    "\n",
    "fig = fp.full3d(spacecraftlist=['solo', 'psp'], planetlist =['Earth'],t = tm1, filepath = filepath)"
   ]
  },
  {
   "cell_type": "markdown",
   "id": "0c22811f",
   "metadata": {},
   "source": [
    "### make fluxrope 3d movie"
   ]
  },
  {
   "cell_type": "code",
   "execution_count": 14,
   "id": "fbd9fde1",
   "metadata": {},
   "outputs": [],
   "source": [
    "def make_frame(k):\n",
    "    tm0 = datetime.datetime(2022, 9, 5, 19)\n",
    "    t = tm0 + k*datetime.timedelta(hours=1)\n",
    "    \n",
    "    fig = fp.full3d(spacecraftlist=['solo', 'psp'], planetlist =['Earth'],\n",
    "              t = t, filepath = filepath, save_fig = False)\n",
    "    frmstr = '%05i' % (k) \n",
    "    plt.savefig(filepath[:-7] + 'movie_3d/'+frmstr+'.jpg',dpi=200)  \n",
    "    return fig\n",
    "    "
   ]
  },
  {
   "cell_type": "code",
   "execution_count": 15,
   "id": "76679c6a",
   "metadata": {},
   "outputs": [
    {
     "name": "stdout",
     "output_type": "stream",
     "text": [
      "done 1/4\n",
      "done 2/4\n",
      "done 3/4\n",
      "done 4/4\n"
     ]
    }
   ],
   "source": [
    "inn=[i for i in range(100)]\n",
    "\n",
    "\n",
    "mpool = multiprocessing.Pool(processes=5)\n",
    "mpool.map(make_frame, inn[0:20])\n",
    "mpool.close()\n",
    "mpool.join()\n",
    "\n",
    "print('done 1/4')\n",
    "\n",
    "mpool = multiprocessing.Pool(processes=5)\n",
    "mpool.map(make_frame, inn[20:40])\n",
    "mpool.close()\n",
    "mpool.join()\n",
    "\n",
    "print('done 2/4')\n",
    "\n",
    "mpool = multiprocessing.Pool(processes=5)\n",
    "mpool.map(make_frame, inn[40:60])\n",
    "mpool.close()\n",
    "mpool.join()\n",
    "\n",
    "print('done 3/4')\n",
    "\n",
    "mpool = multiprocessing.Pool(processes=5)\n",
    "mpool.map(make_frame, inn[40:80])\n",
    "mpool.close()\n",
    "mpool.join()\n",
    "\n",
    "print('done 4/4')"
   ]
  },
  {
   "cell_type": "code",
   "execution_count": 16,
   "id": "c309cca1",
   "metadata": {},
   "outputs": [
    {
     "data": {
      "text/plain": [
       "0"
      ]
     },
     "execution_count": 16,
     "metadata": {},
     "output_type": "execute_result"
    }
   ],
   "source": [
    "os.system('ffmpeg -r 25 -i '+filepath[:-7]+'movie_3d/%05d.jpg -b 5000k -r 25 '+filepath[:-7]+'movie_3d/full_3d_movie.mp4 -y -loglevel quiet')"
   ]
  },
  {
   "cell_type": "markdown",
   "id": "6e9f6a80",
   "metadata": {},
   "source": [
    "### plot fluxrope 3d multiview"
   ]
  },
  {
   "cell_type": "code",
   "execution_count": 17,
   "id": "d5f37dea",
   "metadata": {},
   "outputs": [],
   "source": [
    "#measurement times \n",
    "#tm0 =  t_launch + datetime.timedelta(days=1.5)\n",
    "tm0 =  datetime.datetime(2022, 9, 7, 1)\n",
    "tm1 =  t_launch + datetime.timedelta(days=1.7)\n",
    "tm2 =  t_launch + datetime.timedelta(days=3.5)\n",
    "\n",
    "fig = fp.full3d_multiview(t_launch = t_launch, filepath=filepath)"
   ]
  },
  {
   "cell_type": "markdown",
   "id": "1c8e5856",
   "metadata": {},
   "source": [
    "### make fluxrope 3d multiview movie"
   ]
  },
  {
   "cell_type": "code",
   "execution_count": 18,
   "id": "8453052c",
   "metadata": {},
   "outputs": [],
   "source": [
    "def make_frame2(k):\n",
    "    tm0 = datetime.datetime(2022, 9, 5, 19)\n",
    "    t = tm0 + k*datetime.timedelta(hours=1)\n",
    "    frametime = k\n",
    "    \n",
    "    fig = fp.full3d_multiview_movie(t_launch = tm0, t = t, filepath=filepath,\n",
    "                                    frametime=k)\n",
    "    frmstr = '%05i' % (k) \n",
    "    plt.savefig(filepath[:-7] + 'movie_3d_multiview/'+frmstr+'.jpg',dpi=200)  \n",
    "    return fig"
   ]
  },
  {
   "cell_type": "code",
   "execution_count": 19,
   "id": "9402991c",
   "metadata": {},
   "outputs": [
    {
     "name": "stdout",
     "output_type": "stream",
     "text": [
      "The history saving thread hit an unexpected error (OperationalError('disk I/O error')).History will not be written to the database.\n",
      "done 1/4\n",
      "done 2/4\n",
      "done 3/4\n",
      "done 4/4\n"
     ]
    }
   ],
   "source": [
    "inn=[i for i in range(100)]\n",
    "\n",
    "\n",
    "mpool = multiprocessing.Pool(processes=5)\n",
    "mpool.map(make_frame2, inn[0:20])\n",
    "mpool.close()\n",
    "mpool.join()\n",
    "\n",
    "print('done 1/4')\n",
    "\n",
    "mpool = multiprocessing.Pool(processes=5)\n",
    "mpool.map(make_frame2, inn[20:40])\n",
    "mpool.close()\n",
    "mpool.join()\n",
    "\n",
    "print('done 2/4')\n",
    "\n",
    "mpool = multiprocessing.Pool(processes=5)\n",
    "mpool.map(make_frame2, inn[40:60])\n",
    "mpool.close()\n",
    "mpool.join()\n",
    "\n",
    "print('done 3/4')\n",
    "\n",
    "mpool = multiprocessing.Pool(processes=5)\n",
    "mpool.map(make_frame2, inn[40:80])\n",
    "mpool.close()\n",
    "mpool.join()\n",
    "\n",
    "print('done 4/4')"
   ]
  },
  {
   "cell_type": "code",
   "execution_count": 20,
   "id": "031a17a2",
   "metadata": {},
   "outputs": [
    {
     "data": {
      "text/plain": [
       "0"
      ]
     },
     "execution_count": 20,
     "metadata": {},
     "output_type": "execute_result"
    }
   ],
   "source": [
    "os.system('ffmpeg -r 25 -i '+filepath[:-7]+'movie_3d_multiview/%05d.jpg -b 5000k -r 25 '+filepath[:-7]+'movie_3d/full_3d_multiview_movie.mp4 -y -loglevel quiet')"
   ]
  },
  {
   "cell_type": "markdown",
   "id": "4391a9bb",
   "metadata": {},
   "source": [
    "# Used for Debug"
   ]
  },
  {
   "cell_type": "code",
   "execution_count": 21,
   "id": "ac104844",
   "metadata": {},
   "outputs": [],
   "source": [
    "TP_A =  t_launch + datetime.timedelta(hours=2)\n",
    "TP_B =  t_launch + datetime.timedelta(hours=40)\n",
    "\n",
    "\n",
    "C_A = \"xkcd:red\"\n",
    "C_B = \"xkcd:blue\"\n",
    "    \n",
    "sns.set_style('whitegrid')\n",
    "\n",
    "fig = plt.figure(figsize=(15, 11),dpi=100)\n",
    "\n",
    "ax1 = plt.subplot2grid((2, 3), (0, 0),rowspan=2,colspan=2,projection='3d')  \n",
    "ax2 = plt.subplot2grid((2, 3), (0, 2),projection='3d')  \n",
    "ax3 = plt.subplot2grid((2, 3), (1, 2),projection='3d')  \n",
    "\n",
    "model_obj = fp.returnmodel(filepath)\n",
    "\n",
    "\n",
    "fp.plot_configure(ax1, view_azim=150, view_elev=25, view_radius=.2,light_source=True) #view_radius=.08\n",
    "\n",
    "fp.plot_3dcore(ax1, model_obj, TP_A, color=C_A,light_source = True)\n",
    "fp.plot_3dcore(ax1, model_obj, TP_B, color=C_B,light_source = True)\n",
    "\n",
    "fp.plot_shift(ax1,0.31,-0.25,0.0,-0.2)\n",
    "\n",
    "\n",
    "fp.plot_configure(ax2, view_azim=165-90, view_elev=90, view_radius=.08,light_source=True)\n",
    "    \n",
    "fp.plot_3dcore(ax2, model_obj, TP_A, color=C_A,light_source = True)\n",
    "fp.plot_3dcore(ax2, model_obj, TP_B, color=C_B,light_source = True)\n",
    "\n",
    "fp.plot_shift(ax2,0.26,-0.41,0.08,0.0)\n",
    "\n",
    "\n",
    "\n",
    "fp.plot_configure(ax3, view_azim=65, view_elev=-5, view_radius=.01,light_source=True)\n",
    "    \n",
    "fp.plot_3dcore(ax3, model_obj, TP_A, color=C_A,light_source = True)\n",
    "fp.plot_3dcore(ax3, model_obj, TP_B, color=C_B,light_source = True)\n",
    "\n",
    "fp.plot_shift(ax3,0.26,-0.41,0.08,0.0)\n",
    "\n"
   ]
  },
  {
   "cell_type": "code",
   "execution_count": null,
   "id": "8394dff5",
   "metadata": {},
   "outputs": [],
   "source": []
  },
  {
   "cell_type": "code",
   "execution_count": null,
   "id": "ab4c7571",
   "metadata": {},
   "outputs": [],
   "source": []
  }
 ],
 "metadata": {
  "kernelspec": {
   "display_name": "Python 3 (ipykernel)",
   "language": "python",
   "name": "python3"
  },
  "language_info": {
   "codemirror_mode": {
    "name": "ipython",
    "version": 3
   },
   "file_extension": ".py",
   "mimetype": "text/x-python",
   "name": "python",
   "nbconvert_exporter": "python",
   "pygments_lexer": "ipython3",
   "version": "3.10.8"
  }
 },
 "nbformat": 4,
 "nbformat_minor": 5
}
