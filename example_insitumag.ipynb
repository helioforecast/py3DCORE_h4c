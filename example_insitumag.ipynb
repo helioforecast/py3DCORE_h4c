{
 "cells": [
  {
   "cell_type": "markdown",
   "id": "f28edb33",
   "metadata": {},
   "source": [
    "# Notebook for plotting synthetic in situ profiles"
   ]
  },
  {
   "cell_type": "code",
   "execution_count": null,
   "id": "9c8fa885",
   "metadata": {},
   "outputs": [],
   "source": [
    "%load_ext autoreload\n",
    "\n",
    "%autoreload 2\n",
    "\n",
    "import numpy as np\n",
    "import matplotlib.pyplot as plt\n",
    "import pickle as p\n",
    "\n",
    "import datetime as datetime\n",
    "from datetime import timedelta\n",
    "import seaborn as sns\n",
    "import pandas as pd\n",
    "import os\n",
    "import copy as cp\n",
    "\n",
    "import py3dcore_h4c as py3dcore_h4c\n",
    "\n",
    "import py3dcore_h4c.fluxplot as fp\n",
    "\n",
    "import warnings\n",
    "warnings.filterwarnings('ignore')\n",
    "\n",
    "import logging\n",
    "\n",
    "logging.basicConfig(level=logging.INFO)\n",
    "logging.getLogger(\"heliosat.spice\").setLevel(\"WARNING\")\n",
    "logging.getLogger(\"heliosat.spacecraft\").setLevel(\"WARNING\")\n",
    "\n",
    "#print(sns.__version__)"
   ]
  },
  {
   "cell_type": "raw",
   "id": "6f329882",
   "metadata": {},
   "source": [
    "out = fp.get_ensemble_stats(filepath)\n",
    "out.describe()"
   ]
  },
  {
   "cell_type": "code",
   "execution_count": 7,
   "id": "3c5f6968",
   "metadata": {},
   "outputs": [],
   "source": [
    "path = 'output/solo06092022_heeq_1024_restrP_3/'\n",
    "\n",
    "filepath = fp.loadpickle(path, number = -1)"
   ]
  },
  {
   "cell_type": "raw",
   "id": "6aad7641",
   "metadata": {},
   "source": [
    "res, allres, ind, meanparams = fp.get_params(filepath, give_mineps=True)"
   ]
  },
  {
   "cell_type": "raw",
   "id": "87acbd22",
   "metadata": {},
   "source": [
    "out = fp.get_ensemble_stats(filepath)\n",
    "out.describe()"
   ]
  },
  {
   "cell_type": "code",
   "execution_count": null,
   "id": "33cae6d3",
   "metadata": {},
   "outputs": [],
   "source": [
    "t_launch = datetime.datetime(2022, 9, 5, 18, 45, tzinfo=datetime.timezone.utc) # launch time assumed at CME impact at PSP at 14.72 Rs\n",
    "\n",
    "t_s = datetime.datetime(2022, 9, 5, 18, 45, tzinfo=datetime.timezone.utc) \n",
    "t_e = datetime.datetime(2022, 9, 6, 3, tzinfo=datetime.timezone.utc)\n",
    "\n",
    "tt_s = t_s.strftime('%Y-%m-%d-%H')\n",
    "print(tt_s)\n",
    "\n",
    "fp.insituprofiles(observer='psp', date=tt_s, start=t_s, end=t_e, filepath=filepath, \n",
    "                  best=False, mean=True, save_fig=True, legend=True, fixed=None)\n",
    "\n",
    "#t = [t_s + datetime.timedelta(hours=i) for i in range(96)]\n",
    "#end = t_s + datetime.timedelta(hours=96)\n",
    "#tt, pos_temp,traj = fp.getpos('psp', tt_s, t_s, end)"
   ]
  },
  {
   "cell_type": "code",
   "execution_count": null,
   "id": "af4eb855",
   "metadata": {},
   "outputs": [
    {
     "name": "stdout",
     "output_type": "stream",
     "text": [
      "<class 'numpy.ndarray'>\n"
     ]
    },
    {
     "name": "stderr",
     "output_type": "stream",
     "text": [
      "INFO:py3dcore_h4c.fluxplot:Plotting run with mean parameters.\n",
      "INFO:py3dcore_h4c.fitter.base:Using custom datafile: solo_2022sep.p\n"
     ]
    }
   ],
   "source": [
    "t_launch = datetime.datetime(2022, 9, 5, 18, 45, tzinfo=datetime.timezone.utc) # launch time assumed at CME impact at PSP at 14.72 Rs\n",
    "\n",
    "t_s = datetime.datetime(2022, 9, 7, 8, tzinfo=datetime.timezone.utc) \n",
    "t_e = datetime.datetime(2022, 9, 8, 3, tzinfo=datetime.timezone.utc)\n",
    "\n",
    "start = t_s + datetime.timedelta(hours=1)\n",
    "\n",
    "t_fit = [\n",
    "        datetime.datetime(2022, 9, 7, 9, tzinfo=datetime.timezone.utc),\n",
    "        datetime.datetime(2022, 9, 7, 15, tzinfo=datetime.timezone.utc),\n",
    "        datetime.datetime(2022, 9, 7, 20, tzinfo=datetime.timezone.utc),\n",
    "        datetime.datetime(2022, 9, 8, 2, tzinfo=datetime.timezone.utc)\n",
    "     ]\n",
    "\n",
    "fp.fullinsitu(observer='solo', t_fit=t_fit, start=t_s, end=t_e, filepath=filepath, \n",
    "              custom_data='solo_2022sep.p', best=False, ensemble=True, mean=True, save_fig=True, legend=True, fixed=None)"
   ]
  },
  {
   "cell_type": "code",
   "execution_count": null,
   "id": "da635498",
   "metadata": {},
   "outputs": [],
   "source": []
  },
  {
   "cell_type": "code",
   "execution_count": null,
   "id": "d684cdd0",
   "metadata": {},
   "outputs": [],
   "source": []
  },
  {
   "cell_type": "code",
   "execution_count": null,
   "id": "ce262d54",
   "metadata": {},
   "outputs": [],
   "source": []
  },
  {
   "cell_type": "code",
   "execution_count": null,
   "id": "29c64b98",
   "metadata": {},
   "outputs": [],
   "source": []
  },
  {
   "cell_type": "code",
   "execution_count": 2,
   "id": "3a128426",
   "metadata": {},
   "outputs": [],
   "source": [
    "###### overwrite initial values that we already know or can estimate more closely\n",
    "\n",
    "\n",
    "overwrite = {\n",
    "    \"cme_longitude\": {\n",
    "        \"maximum\": 165,\n",
    "        \"minimum\": 155\n",
    "    },\n",
    "    \"cme_aspect_ratio\": {\n",
    "        \"maximum\": 3.5,\n",
    "        \"minimum\": 2.5\n",
    "    }\n",
    "}\n",
    "\n",
    "# initialize model\n",
    "\n",
    "n = 1024 # number of runs\n",
    "start = datetime.datetime.now() # starttime of ICME\n",
    "# start = datetime.datetime(2022, 9, 5, 17, 0, 0)\n",
    "\n",
    "model_obj = py3dcore_h4c.ToroidalModel(start, n, iparams=overwrite)"
   ]
  },
  {
   "cell_type": "markdown",
   "id": "0e66fbf3",
   "metadata": {},
   "source": [
    "    Model Parameters\n",
    "    ================\n",
    "        For this specific model there are a total of 14 initial parameters which are as follows:\n",
    "        0: t_i          time offset\n",
    "        1: lon          longitude\n",
    "        2: lat          latitude\n",
    "        3: inc          inclination\n",
    "\n",
    "        4: dia          cross section diameter at 1 AU\n",
    "        5: delta        cross section aspect ratio\n",
    "\n",
    "        6: r0           initial cme radius\n",
    "        7: v0           initial cme velocity\n",
    "        8: T            T factor (related to the twist)\n",
    "\n",
    "        9: n_a          expansion rate\n",
    "        10: n_b         magnetic field decay rate\n",
    "\n",
    "        11: b           magnetic field strength at center at 1AU\n",
    "        12: bg_d        solar wind background drag coefficient\n",
    "        13: bg_v        solar wind background speed\n",
    "\n",
    "        There are 4 state parameters which are as follows:\n",
    "        0: v_t          current velocity\n",
    "        1: rho_0        torus major radius\n",
    "        2: rho_1        torus minor radius\n",
    "        3: b_t          magnetic field strength at center"
   ]
  },
  {
   "cell_type": "code",
   "execution_count": 3,
   "id": "df872ac4",
   "metadata": {},
   "outputs": [
    {
     "data": {
      "text/plain": [
       "array([158.7454 , 164.50714, 162.31995, ..., 157.9735 , 164.24396,\n",
       "       164.71059], dtype=float32)"
      ]
     },
     "execution_count": 3,
     "metadata": {},
     "output_type": "execute_result"
    }
   ],
   "source": [
    "# after the model has been initialized, we generate a set of random initial parameters according to the table above\n",
    "\n",
    "model_obj.generator()\n",
    "\n",
    "# these can be accessed by the following\n",
    "\n",
    "i = 1 # parameter index\n",
    "\n",
    "model_obj.iparams_arr[:, i]"
   ]
  },
  {
   "cell_type": "code",
   "execution_count": 4,
   "id": "6cf38b61",
   "metadata": {},
   "outputs": [
    {
     "data": {
      "text/plain": [
       "array([0.17785354, 0.231178  , 0.15459776, ..., 0.15615831, 0.16843113,\n",
       "       0.18735053], dtype=float32)"
      ]
     },
     "execution_count": 4,
     "metadata": {},
     "output_type": "execute_result"
    }
   ],
   "source": [
    "# we set a timedelta in hours and propagate each of the runs\n",
    "\n",
    "timedelta = 24\n",
    "end = start + datetime.timedelta(hours=timedelta)\n",
    "\n",
    "model_obj.propagator(end)\n",
    "\n",
    "# the state parameters of parameter i at that given time are then given by\n",
    "\n",
    "model_obj.sparams_arr[:,i]"
   ]
  },
  {
   "cell_type": "code",
   "execution_count": 5,
   "id": "812d070c",
   "metadata": {},
   "outputs": [],
   "source": [
    "# an output array needs to be created beforehand, then we can simulate the magnetic field at a given position\n",
    "\n",
    "pos = np.array([0.4,0,0]) \n",
    "\n",
    "outa = np.empty((n,3))\n",
    "model_obj.simulator_mag(pos,out=outa)"
   ]
  },
  {
   "cell_type": "code",
   "execution_count": 6,
   "id": "74506fa9",
   "metadata": {},
   "outputs": [
    {
     "data": {
      "text/plain": [
       "array([], dtype=float64)"
      ]
     },
     "execution_count": 6,
     "metadata": {},
     "output_type": "execute_result"
    }
   ],
   "source": [
    "outa[outa !=0]"
   ]
  },
  {
   "cell_type": "code",
   "execution_count": 7,
   "id": "2b6eed1d",
   "metadata": {},
   "outputs": [],
   "source": [
    "# dts = [datetime.datetime.now() + datetime.timedelta(hours=i) for i in range(96)]\n",
    "dts = [start + datetime.timedelta(hours=i) for i in range(96)]\n",
    "pos = [np.array([1.0,0,0]) for _ in dts]\n",
    "outa = model_obj.simulator(dts, pos)"
   ]
  },
  {
   "cell_type": "code",
   "execution_count": 8,
   "id": "45761305",
   "metadata": {},
   "outputs": [
    {
     "name": "stdout",
     "output_type": "stream",
     "text": [
      "(array([], dtype=int64), array([], dtype=int64), array([], dtype=int64))\n"
     ]
    }
   ],
   "source": [
    "A=np.array(outa[0])\n",
    "print(np.where(A!=0))\n",
    "A[A==0] = np.nan"
   ]
  },
  {
   "cell_type": "code",
   "execution_count": 9,
   "id": "c6de07ff",
   "metadata": {},
   "outputs": [
    {
     "data": {
      "text/plain": [
       "[<matplotlib.lines.Line2D at 0x7f2ea8301420>,\n",
       " <matplotlib.lines.Line2D at 0x7f2ea8300b20>,\n",
       " <matplotlib.lines.Line2D at 0x7f2ea8303dc0>]"
      ]
     },
     "execution_count": 9,
     "metadata": {},
     "output_type": "execute_result"
    },
    {
     "data": {
      "image/png": "[encoded data removed]",
      "text/plain": [
       "<Figure size 640x480 with 1 Axes>"
      ]
     },
     "metadata": {},
     "output_type": "display_data"
    }
   ],
   "source": [
    "plt.plot(A[:, 306, :])"
   ]
  },
  {
   "cell_type": "code",
   "execution_count": 10,
   "id": "06cf78cb",
   "metadata": {},
   "outputs": [
    {
     "data": {
      "text/plain": [
       "(array([ 0,  0,  0, ..., 95, 95, 95]),\n",
       " array([   0,    0,    0, ..., 1023, 1023, 1023]),\n",
       " array([0, 1, 2, ..., 0, 1, 2]))"
      ]
     },
     "execution_count": 10,
     "metadata": {},
     "output_type": "execute_result"
    }
   ],
   "source": [
    "np.where(A != 0)"
   ]
  },
  {
   "cell_type": "code",
   "execution_count": 22,
   "id": "782c6495",
   "metadata": {},
   "outputs": [],
   "source": [
    "wf_arr=model_obj.visualize_shape(306, 30)"
   ]
  },
  {
   "cell_type": "code",
   "execution_count": 17,
   "id": "8c53144f",
   "metadata": {},
   "outputs": [
    {
     "data": {
      "image/png": "[encoded data removed]",
      "text/plain": [
       "<Figure size 1200x1200 with 1 Axes>"
      ]
     },
     "metadata": {},
     "output_type": "display_data"
    }
   ],
   "source": [
    "fig = plt.figure(figsize=(12, 12))\n",
    "ax = fig.add_subplot(111, projection='3d')\n",
    "ax.plot_wireframe(*wf_arr.T)\n",
    "ax.scatter(1,0,0)\n",
    "ax.set_axis_off()\n",
    "ax.set_xlim([-1, 1])\n",
    "ax.set_ylim([-1, 1])\n",
    "ax.set_zlim([-1, 1])\n",
    "ax.view_init(elev=25, azim=35)"
   ]
  },
  {
   "cell_type": "code",
   "execution_count": null,
   "id": "2fc6df34",
   "metadata": {},
   "outputs": [],
   "source": []
  }
 ],
 "metadata": {
  "kernelspec": {
   "display_name": "Python 3 (ipykernel)",
   "language": "python",
   "name": "python3"
  },
  "language_info": {
   "codemirror_mode": {
    "name": "ipython",
    "version": 3
   },
   "file_extension": ".py",
   "mimetype": "text/x-python",
   "name": "python",
   "nbconvert_exporter": "python",
   "pygments_lexer": "ipython3",
   "version": "3.10.4"
  }
 },
 "nbformat": 4,
 "nbformat_minor": 5
}
