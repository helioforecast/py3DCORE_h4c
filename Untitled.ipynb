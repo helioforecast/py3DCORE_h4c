{
 "cells": [
  {
   "cell_type": "code",
   "execution_count": 12,
   "id": "c2bc28c8",
   "metadata": {},
   "outputs": [],
   "source": [
    "import heliosat as heliosat\n",
    "import logging as logging\n",
    "import datetime as datetime\n",
    "import numpy as np\n",
    "import os as os\n",
    "import py3dcore_h4c as py3dcore_h4c\n",
    "import shutil as shutil\n",
    "os.environ[\"CDF_LIB\"] = \"/Applications/cdf/cdf39_0-dist/lib\"\n",
    "from spacepy import pycdf\n",
    "\n",
    "from heliosat.util import sanitize_dt"
   ]
  },
  {
   "cell_type": "code",
   "execution_count": 13,
   "id": "c1eae16b",
   "metadata": {},
   "outputs": [],
   "source": [
    "cdf = pycdf.CDF('py3dcore_h4c/custom_data/psp_mag_2022sep/psp_fld_l2_mag_rtn_1min_20220905_v02.cdf')"
   ]
  },
  {
   "cell_type": "code",
   "execution_count": 14,
   "id": "c4b483ea",
   "metadata": {},
   "outputs": [
    {
     "name": "stdout",
     "output_type": "stream",
     "text": [
      "component_index_RTN: CDF_INT4 [3] NRV\n",
      "epoch_mag_RTN_1min: CDF_TIME_TT2000 [1440]\n",
      "epoch_quality_flags: CDF_TIME_TT2000 [1440]\n",
      "label_RTN: CDF_CHAR*3 [3] NRV\n",
      "psp_fld_l2_mag_RTN_1min: CDF_REAL4 [1440, 3]\n",
      "psp_fld_l2_quality_flags: CDF_UINT4 [1440]\n"
     ]
    }
   ],
   "source": [
    "print(cdf)"
   ]
  },
  {
   "cell_type": "code",
   "execution_count": 15,
   "id": "9e704b98",
   "metadata": {},
   "outputs": [],
   "source": [
    "bcomp = cdf['component_index_RTN'][...] # don't forget the [...]"
   ]
  },
  {
   "cell_type": "code",
   "execution_count": 16,
   "id": "662a2ce4",
   "metadata": {},
   "outputs": [
    {
     "name": "stdout",
     "output_type": "stream",
     "text": [
      "[1 2 3]\n"
     ]
    }
   ],
   "source": [
    "print(bcomp)"
   ]
  },
  {
   "cell_type": "code",
   "execution_count": 17,
   "id": "723c2b2c",
   "metadata": {},
   "outputs": [],
   "source": [
    "time = cdf['epoch_mag_RTN_1min'][...]"
   ]
  },
  {
   "cell_type": "code",
   "execution_count": 18,
   "id": "e62abedb",
   "metadata": {},
   "outputs": [
    {
     "name": "stdout",
     "output_type": "stream",
     "text": [
      "[datetime.datetime(2022, 9, 5, 0, 0, 30)\n",
      " datetime.datetime(2022, 9, 5, 0, 1, 30)\n",
      " datetime.datetime(2022, 9, 5, 0, 2, 30) ...\n",
      " datetime.datetime(2022, 9, 5, 23, 57, 30)\n",
      " datetime.datetime(2022, 9, 5, 23, 58, 30)\n",
      " datetime.datetime(2022, 9, 5, 23, 59, 30)]\n"
     ]
    }
   ],
   "source": [
    "print(time)"
   ]
  },
  {
   "cell_type": "code",
   "execution_count": 19,
   "id": "b824d8df",
   "metadata": {},
   "outputs": [],
   "source": [
    "cdf2 = pycdf.CDF('/Users/uteamerstorfer/.heliosat/data/psp_fields_l2/psp_fld_l2_mag_rtn_1min_20220905_v02.cdf')"
   ]
  },
  {
   "cell_type": "code",
   "execution_count": 20,
   "id": "fafe4cf3",
   "metadata": {},
   "outputs": [],
   "source": [
    "time2 = cdf2['epoch_mag_RTN_1min'][...]"
   ]
  },
  {
   "cell_type": "code",
   "execution_count": 21,
   "id": "1d5d8a32",
   "metadata": {},
   "outputs": [
    {
     "name": "stdout",
     "output_type": "stream",
     "text": [
      "[datetime.datetime(2022, 9, 5, 0, 0, 30)\n",
      " datetime.datetime(2022, 9, 5, 0, 1, 30)\n",
      " datetime.datetime(2022, 9, 5, 0, 2, 30) ...\n",
      " datetime.datetime(2022, 9, 5, 23, 57, 30)\n",
      " datetime.datetime(2022, 9, 5, 23, 58, 30)\n",
      " datetime.datetime(2022, 9, 5, 23, 59, 30)]\n"
     ]
    }
   ],
   "source": [
    "print(time2)"
   ]
  },
  {
   "cell_type": "code",
   "execution_count": null,
   "id": "d7ceccba",
   "metadata": {},
   "outputs": [],
   "source": []
  }
 ],
 "metadata": {
  "kernelspec": {
   "display_name": "Python 3 (ipykernel)",
   "language": "python",
   "name": "python3"
  },
  "language_info": {
   "codemirror_mode": {
    "name": "ipython",
    "version": 3
   },
   "file_extension": ".py",
   "mimetype": "text/x-python",
   "name": "python",
   "nbconvert_exporter": "python",
   "pygments_lexer": "ipython3",
   "version": "3.10.9"
  }
 },
 "nbformat": 4,
 "nbformat_minor": 5
}
