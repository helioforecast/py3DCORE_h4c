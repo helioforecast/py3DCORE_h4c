{
 "cells": [
  {
   "cell_type": "code",
   "execution_count": 1,
   "id": "e42bca91-b261-4d21-8003-bcea6339f73d",
   "metadata": {},
   "outputs": [],
   "source": [
    "import heliosat\n",
    "import numpy as np"
   ]
  },
  {
   "cell_type": "code",
   "execution_count": 9,
   "id": "d2ce7d07-cd47-44ec-8618-ea816e65f2b9",
   "metadata": {},
   "outputs": [],
   "source": [
    "wind = getattr(heliosat, \"WIND\")()"
   ]
  },
  {
   "cell_type": "code",
   "execution_count": 11,
   "id": "f1f50626-7dcf-4d6c-aab4-172a369a0827",
   "metadata": {},
   "outputs": [],
   "source": [
    "data = np.zeros([265,3])"
   ]
  },
  {
   "cell_type": "code",
   "execution_count": 2,
   "id": "7f0c4dcc-d771-4fdd-b23a-2a7ee8c34399",
   "metadata": {},
   "outputs": [
    {
     "data": {
      "text/plain": [
       "[1, 1, 1, 1, 1, 1, 1, 1, 1, 1]"
      ]
     },
     "execution_count": 2,
     "metadata": {},
     "output_type": "execute_result"
    }
   ],
   "source": [
    "[1] *10"
   ]
  },
  {
   "cell_type": "code",
   "execution_count": null,
   "id": "51354496-a5cf-44d8-a2ca-e0b99be2f7a4",
   "metadata": {},
   "outputs": [],
   "source": [
    "update_kernels\n",
    "update_weights\n",
    "perturb_iparams\n",
    "update_iparams_meta\n",
    "visualize_shape"
   ]
  }
 ],
 "metadata": {
  "kernelspec": {
   "display_name": "core91",
   "language": "python",
   "name": "core91"
  },
  "language_info": {
   "codemirror_mode": {
    "name": "ipython",
    "version": 3
   },
   "file_extension": ".py",
   "mimetype": "text/x-python",
   "name": "python",
   "nbconvert_exporter": "python",
   "pygments_lexer": "ipython3",
   "version": "3.6.8"
  }
 },
 "nbformat": 4,
 "nbformat_minor": 5
}
