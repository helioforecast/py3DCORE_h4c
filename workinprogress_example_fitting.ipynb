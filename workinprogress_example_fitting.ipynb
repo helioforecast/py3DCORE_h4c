{
 "cells": [
  {
   "cell_type": "markdown",
   "id": "f2be4a9d",
   "metadata": {},
   "source": [
    "# Fitting py3DCORE_h4c"
   ]
  },
  {
   "cell_type": "code",
   "execution_count": null,
   "id": "58d2896f",
   "metadata": {},
   "outputs": [],
   "source": [
    "%load_ext autoreload\n",
    "\n",
    "%autoreload 2\n",
    "\n",
    "import heliosat\n",
    "import logging\n",
    "import datetime\n",
    "import numpy as np\n",
    "import os\n",
    "import pickle\n",
    "import py3dcore_h4c as py3dcore_h4c\n",
    "import matplotlib.pyplot as plt\n",
    "import shutil\n",
    "import pandas as pds\n",
    "import event as evt"
   ]
  },
  {
   "cell_type": "code",
   "execution_count": null,
   "id": "0e4af320",
   "metadata": {},
   "outputs": [],
   "source": [
    "from heliosat.util import sanitize_dt\n",
    "\n",
    "logging.basicConfig(level=logging.INFO)\n",
    "logging.getLogger(\"heliosat.spice\").setLevel(\"WARNING\")\n",
    "logging.getLogger(\"heliosat.spacecraft\").setLevel(\"WARNING\")"
   ]
  },
  {
   "cell_type": "markdown",
   "id": "3f110724",
   "metadata": {},
   "source": [
    "## ICMECAT\n",
    "\n",
    "We first read the catalog and save all events in lists."
   ]
  },
  {
   "cell_type": "code",
   "execution_count": null,
   "id": "fc3c6eb3",
   "metadata": {},
   "outputs": [],
   "source": [
    "wincat,stacat,stbcat,pspcat,solocat,bepicat,ulycat,messcat,vexcat = evt.get_cat()\n",
    "\n",
    "i1au = wincat + stacat + stbcat\n",
    "print('ICMECAT events near 1 AU',len(i1au))"
   ]
  },
  {
   "cell_type": "markdown",
   "id": "97909904",
   "metadata": {},
   "source": [
    "We now choose a specific event we want to fit."
   ]
  },
  {
   "cell_type": "code",
   "execution_count": null,
   "id": "a0ffb814",
   "metadata": {},
   "outputs": [],
   "source": [
    "winevent = evt.findevent(wincat, year=2022,month=2,day=3)\n",
    "\n",
    "print('Start of event: '+str(winevent[0].begin))\n",
    "print('Start of MC: '+str(winevent[0].cloud))\n",
    "print('End of event: '+str(winevent[0].end))"
   ]
  },
  {
   "cell_type": "markdown",
   "id": "d2e1aca2",
   "metadata": {},
   "source": [
    "We set the launchtime for the CME, t_launch (as observed), and two points in time (t_s and t_e), that lie outside of our fitting range. These function as reference points to check, whether an ensemble is actually hitting our spacecraft within the time window. Furthermore, we set fitting points, t, to which the flux rope model will be fitted."
   ]
  },
  {
   "cell_type": "code",
   "execution_count": null,
   "id": "b5cc0be5",
   "metadata": {},
   "outputs": [],
   "source": [
    "#t_launch = winevent[0].begin-datetime.timedelta(days=4)\n",
    "\n",
    "t_launch = datetime.datetime(2022, 1, 29, 12,tzinfo=datetime.timezone.utc)\n",
    "\n",
    "t_s_wind = datetime.datetime(2022, 2, 2, 18, tzinfo=datetime.timezone.utc)\n",
    "t_e_wind = datetime.datetime(2022, 2, 3, 14,tzinfo=datetime.timezone.utc)\n",
    "\n",
    "t_wind = [\n",
    "    datetime.datetime(2022, 2, 3,2, tzinfo=datetime.timezone.utc),\n",
    "    datetime.datetime(2022, 2, 3,4, tzinfo=datetime.timezone.utc),\n",
    "    datetime.datetime(2022, 2, 3,6, tzinfo=datetime.timezone.utc),\n",
    "    datetime.datetime(2022, 2, 3,8, tzinfo=datetime.timezone.utc)\n",
    "]"
   ]
  },
  {
   "cell_type": "code",
   "execution_count": null,
   "id": "4c4dd4f1",
   "metadata": {},
   "outputs": [],
   "source": [
    "winevent[0].begin - t_s_wind"
   ]
  },
  {
   "cell_type": "markdown",
   "id": "312a869e",
   "metadata": {},
   "source": [
    "Restraining the initial values for the ensemble members leads to more efficient fitting.\n",
    "\n",
    "    Model Parameters\n",
    "    ================\n",
    "        For this specific model there are a total of 14 initial parameters which are as follows:\n",
    "        0: t_i          time offset\n",
    "        1: lon          longitude\n",
    "        2: lat          latitude\n",
    "        3: inc          inclination\n",
    "\n",
    "        4: dia          cross section diameter at 1 AU\n",
    "        5: delta        cross section aspect ratio\n",
    "\n",
    "        6: r0           initial cme radius\n",
    "        7: v0           initial cme velocity\n",
    "        8: T            T factor (related to the twist)\n",
    "\n",
    "        9: n_a          expansion rate\n",
    "        10: n_b         magnetic field decay rate\n",
    "\n",
    "        11: b           magnetic field strength at center at 1AU\n",
    "        12: bg_d        solar wind background drag coefficient\n",
    "        13: bg_v        solar wind background speed\n",
    "\n",
    "        There are 4 state parameters which are as follows:\n",
    "        0: v_t          current velocity\n",
    "        1: rho_0        torus major radius\n",
    "        2: rho_1        torus minor radius\n",
    "        3: b_t          magnetic field strength at center"
   ]
  },
  {
   "cell_type": "code",
   "execution_count": null,
   "id": "244782ee",
   "metadata": {},
   "outputs": [],
   "source": [
    "model_kwargs = {\n",
    "    \"ensemble_size\": int(2**18), #2**17\n",
    "    \"iparams\": {\n",
    "       \"cme_longitude\": {\n",
    "           \"maximum\": 10,\n",
    "           \"minimum\": -15\n",
    "       },\n",
    "       \"cme_latitude\": {\n",
    "           \"maximum\": 15,\n",
    "           \"minimum\": -25\n",
    "       },\n",
    "       \"cme_inclination\": {\n",
    "           \"maximum\": 90,\n",
    "           \"minimum\": 0\n",
    "       }, \n",
    "        \"cme_launch_velocity\": {\n",
    "            \"maximum\": 900,\n",
    "            \"minimum\": 500\n",
    "        },\n",
    "        \"cme_launch_radius\": {\n",
    "            \"default_value\": 20\n",
    "        }\n",
    "    }\n",
    "}"
   ]
  },
  {
   "cell_type": "code",
   "execution_count": null,
   "id": "a82f28a9",
   "metadata": {},
   "outputs": [],
   "source": [
    "#\"cme_launch_offset\": {\n",
    "#    \"distribution\": \"uniform\",\n",
    "#    \"maximum\": 3600*24,\n",
    "#    \"minimum\": -3600*24\n",
    "#}"
   ]
  },
  {
   "cell_type": "code",
   "execution_count": null,
   "id": "9a9acf95",
   "metadata": {},
   "outputs": [],
   "source": [
    "#first clean output folder\n",
    "output=\"out_wind_heeq/\"\n",
    "\n",
    "# Deleting an non-empty folder\n",
    "try:\n",
    "    shutil.rmtree(output, ignore_errors=True)\n",
    "    print(\"Deleted '%s' directory successfully\" % output)\n",
    "except:\n",
    "    pass\n",
    "\n"
   ]
  },
  {
   "cell_type": "code",
   "execution_count": null,
   "id": "a8716de5",
   "metadata": {},
   "outputs": [],
   "source": [
    "output_test = 'out_wind_heeq_512/'\n",
    "\n",
    "fitter = py3dcore_h4c.ABC_SMC()\n",
    "fitter.initialize(t_launch, py3dcore_h4c.ToroidalModel, model_kwargs)\n",
    "fitter.add_observer(\"WIND\", t_wind, t_s_wind, t_e_wind)\n",
    "\n",
    "fitter.run(ensemble_size=512, reference_frame=\"HEEQ\", jobs=8, workers=8, sampling_freq=3600, output=output_test) "
   ]
  },
  {
   "cell_type": "markdown",
   "id": "d34d7989",
   "metadata": {},
   "source": [
    "now that the fitting is completed, we look at the results."
   ]
  },
  {
   "cell_type": "code",
   "execution_count": null,
   "id": "1d7354e2",
   "metadata": {},
   "outputs": [],
   "source": [
    "# Get the list of all files and directories\n",
    "path = output_test\n",
    "dir_list = sorted(os.listdir(path))\n",
    " \n",
    "print(\"Files and directories in '\", path, \"' :\")\n",
    " \n",
    "# prints all files\n",
    "print(dir_list)\n",
    "\n",
    "resultpath = path + dir_list[-1]\n",
    "resultpath2 = path + dir_list[-2]\n",
    "print(resultpath)"
   ]
  },
  {
   "cell_type": "code",
   "execution_count": null,
   "id": "d61a8e39",
   "metadata": {},
   "outputs": [],
   "source": [
    "t_s_wind = datetime.datetime(2022, 2, 1, 18, tzinfo=datetime.timezone.utc)\n",
    "t_e_wind = datetime.datetime(2022, 2, 4, 18,tzinfo=datetime.timezone.utc)\n",
    "\n",
    "wind_t, wind_b = heliosat.WIND().get([t_s_wind, t_e_wind], \"mag\", reference_frame=\"HEEQ\", as_endpoints=True, return_datetimes=True, smoothing=\"gaussian\")\n",
    "\n",
    "for dirl in dir_list:\n",
    "    \n",
    "    resultpath = path + dirl\n",
    "    ed = py3dcore_h4c.generate_ensemble(resultpath, wind_t, reference_frame=\"HEEQ\", reference_frame_to=\"HEEQ\", max_index=128)\n",
    "\n",
    "    plt.figure(figsize=(28, 12))\n",
    "    plt.title(\"Wind fitting result\")\n",
    "    plt.plot(wind_t, np.sqrt(np.sum(wind_b**2, axis=1)), \"k\", alpha=0.5)\n",
    "    plt.plot(wind_t, wind_b[:, 0], \"r\", alpha=0.5)\n",
    "    plt.plot(wind_t, wind_b[:, 1], \"g\", alpha=0.5)\n",
    "    plt.plot(wind_t, wind_b[:, 2], \"b\", alpha=0.5)\n",
    "    plt.fill_between(wind_t, ed[0][3][0], ed[0][3][1], alpha=0.25, color=\"k\")\n",
    "    plt.fill_between(wind_t, ed[0][2][0][:, 0], ed[0][2][1][:, 0], alpha=0.25, color=\"r\")\n",
    "    plt.fill_between(wind_t, ed[0][2][0][:, 1], ed[0][2][1][:, 1], alpha=0.25, color=\"g\")\n",
    "    plt.fill_between(wind_t, ed[0][2][0][:, 2], ed[0][2][1][:, 2], alpha=0.25, color=\"b\")\n",
    "    plt.ylabel(\"B [nT]\")\n",
    "    plt.xlabel(\"Time [MM-DD HH]\")\n",
    "    for _ in t_wind:\n",
    "        plt.axvline(x=_, lw=1, alpha=0.25, color=\"k\", ls=\"--\")\n",
    "    plt.savefig(path+'%s.png' % dirl)\n",
    "    plt.show()"
   ]
  },
  {
   "cell_type": "code",
   "execution_count": null,
   "id": "be4c56c7",
   "metadata": {},
   "outputs": [],
   "source": []
  }
 ],
 "metadata": {
  "kernelspec": {
   "display_name": "Python 3 (ipykernel)",
   "language": "python",
   "name": "python3"
  },
  "language_info": {
   "codemirror_mode": {
    "name": "ipython",
    "version": 3
   },
   "file_extension": ".py",
   "mimetype": "text/x-python",
   "name": "python",
   "nbconvert_exporter": "python",
   "pygments_lexer": "ipython3",
   "version": "3.9.15"
  }
 },
 "nbformat": 4,
 "nbformat_minor": 5
}
