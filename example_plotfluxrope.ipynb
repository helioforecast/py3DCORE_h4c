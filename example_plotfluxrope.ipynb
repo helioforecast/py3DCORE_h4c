{
 "cells": [
  {
   "cell_type": "markdown",
   "id": "22c6edf1",
   "metadata": {},
   "source": [
    "# Example Notebook for plotting a fluxrope"
   ]
  },
  {
   "cell_type": "code",
   "execution_count": 2,
   "id": "8ee37e09",
   "metadata": {},
   "outputs": [
    {
     "name": "stdout",
     "output_type": "stream",
     "text": [
      "The autoreload extension is already loaded. To reload it, use:\n",
      "  %reload_ext autoreload\n",
      "0.12.2\n"
     ]
    }
   ],
   "source": [
    "%load_ext autoreload\n",
    "\n",
    "%autoreload 2\n",
    "\n",
    "import numpy as np\n",
    "import matplotlib.pyplot as plt\n",
    "\n",
    "import datetime as datetime\n",
    "from datetime import timedelta\n",
    "import seaborn as sns\n",
    "import pandas as pd\n",
    "\n",
    "import copy as cp\n",
    "\n",
    "import py3dcore_h4c as py3dcore_h4c\n",
    "\n",
    "import py3dcore_h4c.fluxplot as fp\n",
    "\n",
    "import warnings\n",
    "warnings.filterwarnings('ignore')\n",
    "\n",
    "print(sns.__version__)"
   ]
  },
  {
   "cell_type": "markdown",
   "id": "f2536d49",
   "metadata": {},
   "source": [
    "## simple speed calculation"
   ]
  },
  {
   "cell_type": "code",
   "execution_count": 2,
   "id": "a9c6b8cf",
   "metadata": {},
   "outputs": [
    {
     "name": "stdout",
     "output_type": "stream",
     "text": [
      "CME speed STEREO-A 1673.148148148148\n"
     ]
    }
   ],
   "source": [
    "#cor2 fov\n",
    "\n",
    "r1=13*695000\n",
    "\n",
    "\n",
    "#time in minutes from COR2 inner to outer\n",
    "t1=90*60\n",
    "\n",
    "\n",
    "speed=r1/t1\n",
    "\n",
    "print('CME speed STEREO-A',speed)\n",
    "\n",
    "\n",
    "#LASCO"
   ]
  },
  {
   "cell_type": "markdown",
   "id": "e6cdf5f0",
   "metadata": {},
   "source": [
    "## ICMECAT"
   ]
  },
  {
   "cell_type": "code",
   "execution_count": 3,
   "id": "96586289",
   "metadata": {},
   "outputs": [
    {
     "name": "stdout",
     "output_type": "stream",
     "text": [
      "ICMECAT events near 1 AU 856\n"
     ]
    }
   ],
   "source": [
    "url='https://helioforecast.space/static/sync/icmecat/HELIO4CAST_ICMECAT_v21.csv'\n",
    "ic=pd.read_csv(url)\n",
    "ic=ic.drop(columns='Unnamed: 0') #drop an extra index column\n",
    "\n",
    "iwin=np.where(ic.sc_insitu=='Wind')[0]\n",
    "ista=np.where(ic.sc_insitu=='STEREO-A')[0]\n",
    "istb=np.where(ic.sc_insitu=='STEREO-B')[0]\n",
    "\n",
    "i1au=np.sort(np.hstack([iwin,ista,istb]))\n",
    "print('ICMECAT events near 1 AU',len(i1au))"
   ]
  },
  {
   "cell_type": "markdown",
   "id": "de44eedd",
   "metadata": {},
   "source": [
    "## py3DCORE"
   ]
  },
  {
   "cell_type": "code",
   "execution_count": 3,
   "id": "fdaa8199",
   "metadata": {},
   "outputs": [],
   "source": [
    "t_launch = datetime.datetime(2022, 9, 5, 18, 45, 0)\n",
    "\n",
    "#2022 Sep 5: 15 solar radii at 18:45 UT (PSP)"
   ]
  },
  {
   "cell_type": "code",
   "execution_count": 4,
   "id": "0b4e16fe",
   "metadata": {},
   "outputs": [],
   "source": [
    "\n",
    "iparams_arr = np.array([[\n",
    "    0,      # time offset\n",
    "    -175,    # l_1 (longitude) HEEQ\n",
    "    -9.5,    # l_2 (latitude)\n",
    "    6,      # o (inclination, orientation)\n",
    "    0.35,   # d_1au (frontal width at 1AU)\n",
    "    1.2,   # delta (cross-section aspect ratio)\n",
    "    15,      # r_0 (initialization distance in solar radii)\n",
    "    1690,    # v_0 (initial velocty in)\n",
    "    146,      # t factor (magnetic field twist)\n",
    "    1.14,      # expansion factor (fixed)\n",
    "    1.64,     # magnetic field decay rate (fixed)\n",
    "    25,     # b_1au (magnetic field strength at 1au)\n",
    "    0.56,    # Gamma (solar wind drag coefficient)\n",
    "    579    # v_sw (solar wind speed)\n",
    "]], dtype=np.float32)"
   ]
  },
  {
   "cell_type": "code",
   "execution_count": 18,
   "id": "6c53ead5",
   "metadata": {},
   "outputs": [],
   "source": [
    "overwrite = {\n",
    "    \"cme_longitude\": {\n",
    "            \"maximum\": 180,\n",
    "            \"minimum\": 170\n",
    "        },\n",
    "    \"cme_latitude\": {\n",
    "            \"maximum\": -9,\n",
    "            \"minimum\": -10\n",
    "        },\n",
    "    \"cme_inclination\" :{\n",
    "            \"maximum\": 6.5,\n",
    "            \"minimum\": 5.5\n",
    "        },\n",
    "    \"cme_diameter_1au\" :{\n",
    "            \"maximum\": 0.4,\n",
    "            \"minimum\": 0.3\n",
    "        },\n",
    "    \"cme_aspect_ratio\": {\n",
    "            \"maximum\": 1.5,\n",
    "            \"minimum\": 1\n",
    "        },\n",
    "    \"cme_launch_radius\": {\n",
    "            \"maximum\": 15.5,\n",
    "            \"minimum\": 14.5\n",
    "        },\n",
    "    \"cme_launch_velocity\": {\n",
    "            \"maximum\": 1750,\n",
    "            \"minimum\": 1650\n",
    "        },\n",
    "    \"t_factor\": {\n",
    "            \"maximum\": 150,\n",
    "            \"minimum\": 140\n",
    "        },\n",
    "    \"magnetic_field_strength_1au\": {\n",
    "            \"maximum\": 26,\n",
    "            \"minimum\": 24\n",
    "        },\n",
    "    \"background_drag\": {\n",
    "            \"maximum\": 0.6,\n",
    "            \"minimum\": 0.5\n",
    "        },\n",
    "    \"background_velocity\": {\n",
    "            \"maximum\": 625,\n",
    "            \"minimum\": 550\n",
    "        },\n",
    "}\n"
   ]
  },
  {
   "cell_type": "code",
   "execution_count": 19,
   "id": "bd981aad",
   "metadata": {},
   "outputs": [],
   "source": [
    "n = 1#number of runs\n",
    "\n",
    "#we initialize model for 1 run with default params\n",
    "\n",
    "model_obj = py3dcore_h4c.ToroidalModel(t_launch, n, iparams=overwrite)"
   ]
  },
  {
   "cell_type": "markdown",
   "id": "a18d26ec",
   "metadata": {},
   "source": [
    "    Model Parameters\n",
    "    ================\n",
    "        For this specific model there are a total of 14 initial parameters which are as follows:\n",
    "        0: t_i          time offset\n",
    "        1: lon          longitude\n",
    "        2: lat          latitude\n",
    "        3: inc          inclination\n",
    "\n",
    "        4: dia          cross section diameter at 1 AU\n",
    "        5: delta        cross section aspect ratio\n",
    "\n",
    "        6: r0           initial cme radius\n",
    "        7: v0           initial cme velocity\n",
    "        8: T            T factor (related to the twist)\n",
    "\n",
    "        9: n_a          expansion rate\n",
    "        10: n_b         magnetic field decay rate\n",
    "\n",
    "        11: b           magnetic field strength at center at 1AU\n",
    "        12: bg_d        solar wind background drag coefficient\n",
    "        13: bg_v        solar wind background speed\n",
    "\n",
    "        There are 4 state parameters which are as follows:\n",
    "        0: v_t          current velocity\n",
    "        1: rho_0        torus major radius\n",
    "        2: rho_1        torus minor radius\n",
    "        3: b_t          magnetic field strength at center"
   ]
  },
  {
   "cell_type": "code",
   "execution_count": 20,
   "id": "1a9d301d",
   "metadata": {},
   "outputs": [],
   "source": [
    "# after the model has been initialized, we generate a set of random initial parameters according to the table above\n",
    "\n",
    "model_obj.generator()\n",
    "#model_obj.update_iparams(iparams_arr, seed=42)\n",
    "\n",
    "\n",
    "#measurement times \n",
    "tm0 =  datetime.datetime(2022, 9, 7, 8)\n",
    "# tm0 =  t_launch + datetime.timedelta(days=1)\n",
    "tm1 =  t_launch + datetime.timedelta(days=1.5)\n",
    "tm2 =  t_launch + datetime.timedelta(days=3.5)\n",
    "\n",
    "\n",
    "#colors for 3dplots\n",
    "\n",
    "c0 = 'mediumseagreen'\n",
    "c1 = \"xkcd:red\"\n",
    "c2 = \"xkcd:blue\"\n",
    "\n",
    "\n",
    "#colors for components in plots\n",
    "cbt = \"xkcd:black\"\n",
    "cbx = \"xkcd:magenta\"\n",
    "cby = \"xkcd:orange\"\n",
    "cbz = \"xkcd:azure\""
   ]
  },
  {
   "cell_type": "code",
   "execution_count": 35,
   "id": "d8408e40",
   "metadata": {},
   "outputs": [
    {
     "name": "stdout",
     "output_type": "stream",
     "text": [
      "(0.689, 150., 0.)\n",
      "(0.064, -175., 0.)\n",
      "(1., 0., 0.)\n"
     ]
    }
   ],
   "source": [
    "############# define synthetic satellite positions - semi-circle at 0.689 AU (SolO), from -90 to +90 longitude\n",
    "\n",
    "lonstart = -180\n",
    "lonstep = 5\n",
    "lonend = 180\n",
    "\n",
    "lonend = lonend + lonstep\n",
    "satpos = np.zeros(len(np.arange(lonstart,lonend,lonstep)),dtype=[('r',float),('lon', float),('lat', float)])\n",
    "#convert to recarray\n",
    "satpos = satpos.view(np.recarray)  \n",
    "\n",
    "##### set position\n",
    "satpos.r = 0.689\n",
    "satpos.lon = np.arange(lonstart,lonend,lonstep)\n",
    "satpos.lat = 0.0\n",
    "\n",
    "print(satpos[66])\n",
    "\n",
    "#print(satpos.r, satpos.lon)    \n",
    "\n",
    "# another satpos definition \n",
    "satpos2=cp.deepcopy(satpos)\n",
    "satpos2.r = 0.064\n",
    "\n",
    "print(satpos2[1])\n",
    "\n",
    "# another satpos definition \n",
    "satpos3=cp.deepcopy(satpos)\n",
    "satpos3.r = 1\n",
    "\n",
    "print(satpos3[36])"
   ]
  },
  {
   "cell_type": "markdown",
   "id": "1d6a6a74",
   "metadata": {},
   "source": [
    "## plot"
   ]
  },
  {
   "cell_type": "code",
   "execution_count": 25,
   "id": "b66c63e9",
   "metadata": {},
   "outputs": [],
   "source": [
    "#model_obj.iparams_arr[0][:]\n",
    "model_obj.iparams_arr[0][8] = 50"
   ]
  },
  {
   "cell_type": "code",
   "execution_count": 36,
   "id": "4a9233b9",
   "metadata": {},
   "outputs": [
    {
     "name": "stdout",
     "output_type": "stream",
     "text": [
      "ERROR\n"
     ]
    },
    {
     "data": {
      "image/png": "[encoded data removed]",
      "text/plain": [
       "<Figure size 840x630 with 1 Axes>"
      ]
     },
     "metadata": {},
     "output_type": "display_data"
    }
   ],
   "source": [
    "sns.set_context(\"talk\")     \n",
    "\n",
    "sns.set_style(\"ticks\",{'grid.linestyle': '--'})\n",
    "fsize=15\n",
    "\n",
    "fig=plt.figure(1,figsize=(12,9),dpi=70)\n",
    "ax = fig.add_subplot(111, projection='3d')\n",
    "\n",
    "fp.plot_configure(ax, view_azim=0, view_elev=90, view_radius=0.8)\n",
    "\n",
    "fp.plot_3dcore(ax, model_obj, tm1, color=c2)\n",
    "fp.plot_3dcore_field(ax, model_obj, color=c2, step_size=0.005, lw=1.1, ls=\"-\")\n",
    "fp.plot_satellite(ax,satpos[66],color='blue',alpha=0.9)\n",
    "fp.plot_satellite(ax,satpos2[1],color='red',alpha=0.9)\n",
    "fp.plot_satellite(ax,satpos3[36],color='green',alpha=0.9)\n",
    "\n",
    "\n",
    "# ax.plot([0,0.689],[0,0],[0,0],ls='-',color='black',lw=0.3)\n",
    "\n",
    "fp.plot_circle(ax,0.689)\n",
    "fp.plot_circle(ax,1.0)\n",
    "\n",
    "plt.tight_layout()\n",
    "\n",
    "\n",
    "#plt.savefig('results/initial_test.pdf')\n",
    "#plt.savefig('initial_test.png', dpi=100)"
   ]
  },
  {
   "cell_type": "code",
   "execution_count": null,
   "id": "7f0320d7",
   "metadata": {},
   "outputs": [],
   "source": []
  }
 ],
 "metadata": {
  "kernelspec": {
   "display_name": "Python 3 (ipykernel)",
   "language": "python",
   "name": "python3"
  },
  "language_info": {
   "codemirror_mode": {
    "name": "ipython",
    "version": 3
   },
   "file_extension": ".py",
   "mimetype": "text/x-python",
   "name": "python",
   "nbconvert_exporter": "python",
   "pygments_lexer": "ipython3",
   "version": "3.10.9"
  }
 },
 "nbformat": 4,
 "nbformat_minor": 5
}
